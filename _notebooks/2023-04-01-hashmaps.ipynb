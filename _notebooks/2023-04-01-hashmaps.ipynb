{
 "cells": [
  {
   "attachments": {},
   "cell_type": "markdown",
   "metadata": {},
   "source": [
    "#  Data Structures- Hashmaps, Sets, Hash Tables, Hashing and Collisions\n",
    "- toc: true"
   ]
  },
  {
   "attachments": {},
   "cell_type": "markdown",
   "metadata": {},
   "source": [
    "## Hacks\n",
    "- Create a diagram or comparison illustration (Canva).\n",
    "![]({{ site.baseurl }}/images/hashtable.jpg)\n",
    "![]({{ site.baseurl }}/images/listvsdic.jpg)\n",
    "\n",
    "- Expand upon the code given to you, possible improvements in comments\n",
    "- Build your own album showing features of a python dictionary\n",
    "\n",
    "- For Mr. Yeung's class: Justify your favorite Taylor Swift song, answer may effect seed\n",
    "    - my favorite taylor swift song is *Cruel Summer* because it brings back the best memories from the best summer of my life. I got to spend a month at UCSD and met a bunch of great people there. At the end of the program, the staff held a dance and my friends and I would just go crazy when *Cruel Summer* was playing. Even now, when I hear that song, I think of those memories and those people."
   ]
  }
 ],
 "metadata": {
  "language_info": {
   "name": "python"
  },
  "orig_nbformat": 4
 },
 "nbformat": 4,
 "nbformat_minor": 2
}
