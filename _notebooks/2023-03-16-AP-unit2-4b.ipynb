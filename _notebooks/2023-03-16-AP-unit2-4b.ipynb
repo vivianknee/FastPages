{
 "cells": [
  {
   "attachments": {},
   "cell_type": "markdown",
   "metadata": {},
   "source": [
    "#  Unit 2.4b Using Programs with Data, SQL\n",
    "> Using Programs with Data is focused on SQL and database actions.  Part B focuses on learning SQL commands, connections, and curses using an Imperative programming style,\n",
    "- toc: true\n",
    "- week: 26"
   ]
  },
  {
   "attachments": {},
   "cell_type": "markdown",
   "metadata": {},
   "source": [
    "# Database Programming is Program with Data\n",
    "> Each Tri 2 Final Project should be an example of a Program with Data. \n",
    "\n",
    ">  Prepare to use SQLite in common Imperative Technique\n",
    "- Explore [SQLite Connect object](https://www.tutorialspoint.com/python_data_access/python_sqlite_establishing_connection.htm) to establish database connection\n",
    "- Explore [SQLite Cursor Object](https://www.tutorialspoint.com/python_data_access/python_sqlite_cursor_object.htm) to fetch data from a table within a database\n"
   ]
  },
  {
   "attachments": {},
   "cell_type": "markdown",
   "metadata": {},
   "source": [
    "## Schema of Users table in Sqlite.db\n",
    "> Uses PRAGMA statement to read schema.\n",
    "\n",
    "Describe Schema, here is resource [Resource](https://www.sqlite.org/index.html)\n",
    "- What is a database schema?\n",
    "    - the columns of a database aka the information that populates the datatable.\n",
    "- What is the purpose of identity Column in SQL database?\n",
    "    - the purpose is to have unique rows of data and to be able to differentiate different users. \n",
    "- What is the purpose of a primary key in SQL database?\n",
    "    - the primary key has to be unique because it is used as an identifier for different people. For example, name would not be a good primary key because two people could have the same name.\n",
    "- What are the Data Types in SQL table?\n",
    "    - strings, integers, boolean, images"
   ]
  },
  {
   "cell_type": "code",
   "execution_count": 25,
   "metadata": {},
   "outputs": [
    {
     "name": "stdout",
     "output_type": "stream",
     "text": [
      "(0, 'id', 'INTEGER', 1, None, 1)\n",
      "(1, '_name', 'VARCHAR(255)', 1, None, 0)\n",
      "(2, '_uid', 'VARCHAR(255)', 1, None, 0)\n",
      "(3, '_password', 'VARCHAR(255)', 1, None, 0)\n",
      "(4, '_dob', 'DATE', 0, None, 0)\n"
     ]
    }
   ],
   "source": [
    "import sqlite3\n",
    "\n",
    "database = 'instance/sqlite.db' # this is location of database\n",
    "\n",
    "def schema():\n",
    "    \n",
    "    # Connect to the database file\n",
    "    conn = sqlite3.connect(database)\n",
    "\n",
    "    # Create a cursor object to execute SQL queries\n",
    "    cursor = conn.cursor()\n",
    "    \n",
    "    # Fetch results of Schema\n",
    "    results = cursor.execute(\"PRAGMA table_info('users')\").fetchall()\n",
    "\n",
    "    # Print the results\n",
    "    for row in results:\n",
    "        print(row)\n",
    "\n",
    "    # Close the database connection\n",
    "    conn.close()\n",
    "    \n",
    "schema()\n"
   ]
  },
  {
   "attachments": {},
   "cell_type": "markdown",
   "metadata": {},
   "source": [
    "## Reading Users table in Sqlite.db\n",
    "> Uses SQL SELECT statement to read data\n",
    "\n",
    "- What is a connection object? After you google it, what do you think it does?\n",
    "    - Each open SQLite database is represented by a Connection object, which is created using sqlite3.connect() . Their main purpose is creating Cursor objects, and Transaction control.\n",
    "- Same for cursor object?\n",
    "    - simplifies the code for the user. an instance using which you can invoke methods that execute SQLite statements, fetch data from the result sets of the queries. \n",
    "- Look at conn object and cursor object in VSCode debugger.  What attributes are in the object?\n",
    "    - the cursor object contains attributes like special variables, function variables, and class variables\n",
    "    - conn object contains attributes like special variables and function variables\n",
    "- Is \"results\" an object?  How do you know?\n",
    "    - results is an object because it has attributes"
   ]
  },
  {
   "cell_type": "code",
   "execution_count": 26,
   "metadata": {},
   "outputs": [
    {
     "name": "stdout",
     "output_type": "stream",
     "text": [
      "(1, 'Thomas Edison', 'toby', 'sha256$QoVt8evz1pMablC0$98a66528fde3a7d3fe022a014e832614cd6a8a04c550d735abf326323bbbe47f', '1847-02-11')\n",
      "(2, 'Nikola Tesla', 'niko', 'sha256$w28s6eeKNx7AMYAE$c8f4e80f3880b223827c697343d4438ed58bc45af93143b9e8ae6e431396dc6a', '2023-03-19')\n",
      "(3, 'Alexander Graham Bell', 'lex', 'sha256$jd4uFrjYMwFIUdty$d3abec0d9826a22d02fe0d884023fd828da135fd5a7882dd1cf749b87f7441cc', '2023-03-19')\n",
      "(4, 'Eli Whitney', 'whit', 'sha256$xW2HC2oJy1PShdKn$e12b8e24dc1e9f3dd2e23726abdc7f536e36587926eab6ecf1863249fd8bc423', '2023-03-19')\n",
      "(5, 'Indiana Jones', 'indi', 'sha256$PUruJRF0pAbrmXmc$fb77c97c83b28897b3dfe5828c7eff080b656d1e13fe0bd91009e39ad9eb8bb3', '1920-10-21')\n",
      "(6, 'Marion Ravenwood', 'raven', 'sha256$SQMXExGcwtpNJCma$35041321bf5c105b6561a24ca81ff64706554ef4af4d435107029cb7da907a27', '1921-10-21')\n"
     ]
    }
   ],
   "source": [
    "import sqlite3\n",
    "\n",
    "def read():\n",
    "    # Connect to the database file\n",
    "    conn = sqlite3.connect(database)\n",
    "\n",
    "    # Create a cursor object to execute SQL queries\n",
    "    cursor = conn.cursor()\n",
    "    \n",
    "    # Execute a SELECT statement to retrieve data from a table\n",
    "    results = cursor.execute('SELECT * FROM users').fetchall()\n",
    "\n",
    "    # Print the results\n",
    "    if len(results) == 0:\n",
    "        print(\"Table is empty\")\n",
    "    else:\n",
    "        for row in results:\n",
    "            print(row)\n",
    "\n",
    "    # Close the cursor and connection objects\n",
    "    cursor.close()\n",
    "    conn.close()\n",
    "    \n",
    "read()\n"
   ]
  },
  {
   "attachments": {},
   "cell_type": "markdown",
   "metadata": {},
   "source": [
    "## Create a new User in table in Sqlite.db\n",
    "> Uses SQL INSERT to add row\n",
    "-  Compare create() in both SQL lessons.  What is better or worse in the two implementations?\n",
    "    - out of the two create(), i think the sqlite3 method using conn and cur is better. It is able to accomplish the same thing with less code. It is less complicated and just as efficient. \n",
    "-  Explain purpose of SQL INSERT.   Is this the same as User __init__?\n",
    "    - SQL INSERT is a command used to add new records or rows of data to a database table\n",
    "    - User __init__ is a method used in object-oriented programming languages like Python. The __init__ method is used to initialize the properties or attributes of an object when it is created."
   ]
  },
  {
   "cell_type": "code",
   "execution_count": 27,
   "metadata": {},
   "outputs": [
    {
     "name": "stdout",
     "output_type": "stream",
     "text": [
      "A new user record  has been created\n"
     ]
    }
   ],
   "source": [
    "import sqlite3\n",
    "\n",
    "def create():\n",
    "    name = input(\"Enter your name:\")\n",
    "    uid = input(\"Enter your user id:\")\n",
    "    password = input(\"Enter your password\")\n",
    "    dob = input(\"Enter your date of birth 'YYYY-MM-DD'\")\n",
    "    \n",
    "    # Connect to the database file\n",
    "    conn = sqlite3.connect(database)\n",
    "\n",
    "    # Create a cursor object to execute SQL commands\n",
    "    cursor = conn.cursor()\n",
    "\n",
    "    try:\n",
    "        # Execute an SQL command to insert data into a table\n",
    "        cursor.execute(\"INSERT INTO users (_name, _uid, _password, _dob) VALUES (?, ?, ?, ?)\", (name, uid, password, dob))\n",
    "        \n",
    "        # Commit the changes to the database\n",
    "        conn.commit()\n",
    "        print(f\"A new user record {uid} has been created\")\n",
    "                \n",
    "    except sqlite3.Error as error:\n",
    "        print(\"Error while executing the INSERT:\", error)\n",
    "\n",
    "\n",
    "    # Close the cursor and connection objects\n",
    "    cursor.close()\n",
    "    conn.close()\n",
    "    \n",
    "create()"
   ]
  },
  {
   "attachments": {},
   "cell_type": "markdown",
   "metadata": {},
   "source": [
    "## Updating a User in table in Sqlite.db\n",
    "> Uses SQL UPDATE to modify password\n",
    "- What does the hacked part do?\n",
    "    - It serves like a warning message. When the length of my password is less than 2, the message will appear.\n",
    "- Explain try/except, when would except occur?\n",
    "    - except would occur if there is a sqlite3 error\n",
    "- What code seems to be repeated in each of these examples to point, why is it repeated?\n",
    "    - `cursor = conn.cursor()` is repeated in each example. Most likely because this line of code is necessary to connect to the database"
   ]
  },
  {
   "cell_type": "code",
   "execution_count": 28,
   "metadata": {},
   "outputs": [
    {
     "name": "stdout",
     "output_type": "stream",
     "text": [
      "The row with user id  the password has been hacked\n"
     ]
    }
   ],
   "source": [
    "import sqlite3\n",
    "\n",
    "def update():\n",
    "    uid = input(\"Enter user id to update\")\n",
    "    password = input(\"Enter updated password\")\n",
    "    if len(password) < 2:\n",
    "        message = \"hacked\"\n",
    "        password = 'gothackednewpassword123'\n",
    "    else:\n",
    "        message = \"successfully updated\"\n",
    "\n",
    "    # Connect to the database file\n",
    "    conn = sqlite3.connect(database)\n",
    "\n",
    "    # Create a cursor object to execute SQL commands\n",
    "    cursor = conn.cursor()\n",
    "\n",
    "    try:\n",
    "        # Execute an SQL command to update data in a table\n",
    "        cursor.execute(\"UPDATE users SET _password = ? WHERE _uid = ?\", (password, uid))\n",
    "        if cursor.rowcount == 0:\n",
    "            # The uid was not found in the table\n",
    "            print(f\"No uid {uid} was not found in the table\")\n",
    "        else:\n",
    "            print(f\"The row with user id {uid} the password has been {message}\")\n",
    "            conn.commit()\n",
    "    except sqlite3.Error as error:\n",
    "        print(\"Error while executing the UPDATE:\", error)\n",
    "        \n",
    "    \n",
    "    # Close the cursor and connection objects\n",
    "    cursor.close()\n",
    "    conn.close()\n",
    "    \n",
    "update()\n"
   ]
  },
  {
   "attachments": {},
   "cell_type": "markdown",
   "metadata": {},
   "source": [
    "## Delete a User in table in Sqlite.db\n",
    "> Uses a delete function to remove a user based on a user input of the id.\n",
    "- Is DELETE a dangerous operation?  Why?\n",
    "    - When you perform a delete operation on a SQLite database, you are permanently removing data from the database. If you accidentally delete the wrong data or forget to include a WHERE clause in your delete statement, you can end up losing valuable data.\n",
    "\n",
    "- In the print statements, what is the \"f\" and what does {uid} do?\n",
    "    - {uid} gets the uid of the user in question\n",
    "    - f is the syntax for formatted string literals. Inside this string, you can write a Python expression between { } characters that can refer to variables or literal values."
   ]
  },
  {
   "cell_type": "code",
   "execution_count": 29,
   "metadata": {},
   "outputs": [
    {
     "name": "stdout",
     "output_type": "stream",
     "text": [
      "The row with uid  was successfully deleted\n"
     ]
    }
   ],
   "source": [
    "import sqlite3\n",
    "\n",
    "def delete():\n",
    "    uid = input(\"Enter user id to delete\")\n",
    "\n",
    "    # Connect to the database file\n",
    "    conn = sqlite3.connect(database)\n",
    "\n",
    "    # Create a cursor object to execute SQL commands\n",
    "    cursor = conn.cursor()\n",
    "    \n",
    "    try:\n",
    "        cursor.execute(\"DELETE FROM users WHERE _uid = ?\", (uid,))\n",
    "        if cursor.rowcount == 0:\n",
    "            # The uid was not found in the table\n",
    "            print(f\"No uid {uid} was not found in the table\")\n",
    "        else:\n",
    "            # The uid was found in the table and the row was deleted\n",
    "            print(f\"The row with uid {uid} was successfully deleted\")\n",
    "        conn.commit()\n",
    "    except sqlite3.Error as error:\n",
    "        print(\"Error while executing the DELETE:\", error)\n",
    "        \n",
    "    # Close the cursor and connection objects\n",
    "    cursor.close()\n",
    "    conn.close()\n",
    "    \n",
    "delete()"
   ]
  },
  {
   "attachments": {},
   "cell_type": "markdown",
   "metadata": {},
   "source": [
    "# Menu Interface to CRUD operations\n",
    "> CRUD and Schema interactions from one location by running menu. Observe input at the top of VSCode, observe output underneath code cell.\n",
    "- Why does the menu repeat?\n",
    "    - a recursion is happening. As the function continues, it calls itself, thus the menu is always repeating\n"
   ]
  },
  {
   "cell_type": "code",
   "execution_count": 30,
   "metadata": {},
   "outputs": [
    {
     "name": "stdout",
     "output_type": "stream",
     "text": [
      "(1, 'Thomas Edison', 'toby', 'sha256$QoVt8evz1pMablC0$98a66528fde3a7d3fe022a014e832614cd6a8a04c550d735abf326323bbbe47f', '1847-02-11')\n",
      "(2, 'Nikola Tesla', 'niko', 'sha256$w28s6eeKNx7AMYAE$c8f4e80f3880b223827c697343d4438ed58bc45af93143b9e8ae6e431396dc6a', '2023-03-19')\n",
      "(3, 'Alexander Graham Bell', 'lex', 'sha256$jd4uFrjYMwFIUdty$d3abec0d9826a22d02fe0d884023fd828da135fd5a7882dd1cf749b87f7441cc', '2023-03-19')\n",
      "(4, 'Eli Whitney', 'whit', 'sha256$xW2HC2oJy1PShdKn$e12b8e24dc1e9f3dd2e23726abdc7f536e36587926eab6ecf1863249fd8bc423', '2023-03-19')\n",
      "(5, 'Indiana Jones', 'indi', 'sha256$PUruJRF0pAbrmXmc$fb77c97c83b28897b3dfe5828c7eff080b656d1e13fe0bd91009e39ad9eb8bb3', '1920-10-21')\n",
      "(6, 'Marion Ravenwood', 'raven', 'sha256$SQMXExGcwtpNJCma$35041321bf5c105b6561a24ca81ff64706554ef4af4d435107029cb7da907a27', '1921-10-21')\n"
     ]
    }
   ],
   "source": [
    "# Menu, to run other cells from one control point\n",
    "def menu():\n",
    "    operation = input(\"Enter: (C)reate (R)ead (U)pdate or (D)elete or (S)chema\")\n",
    "    if operation.lower() == 'c':\n",
    "        create()\n",
    "    elif operation.lower() == 'r':\n",
    "        read()\n",
    "    elif operation.lower() == 'u':\n",
    "        update()\n",
    "    elif operation.lower() == 'd':\n",
    "        delete()\n",
    "    elif operation.lower() == 's':\n",
    "        schema()\n",
    "    elif len(operation)==0: # Escape Key\n",
    "        return\n",
    "    else:\n",
    "        print(\"Please enter c, r, u, or d\") \n",
    "    menu() # recursion, repeat menu\n",
    "        \n",
    "try:\n",
    "    menu() # start menu\n",
    "except:\n",
    "    print(\"Perform Jupyter 'Run All' prior to starting menu\")\n"
   ]
  },
  {
   "attachments": {},
   "cell_type": "markdown",
   "metadata": {},
   "source": [
    "- Could you refactor this menu?  Make it work with a List?\n",
    "    - yes its better to refactor this menu since recursion can lead to stack overflow. "
   ]
  },
  {
   "cell_type": "code",
   "execution_count": null,
   "metadata": {},
   "outputs": [],
   "source": [
    "def menu():\n",
    "    db_funcs = [ \n",
    "            ('c', create),\n",
    "            ('r', read),\n",
    "            ('u', update),\n",
    "            ('d', delete),\n",
    "            ('s', schema)\n",
    "        ]\n",
    "    \n",
    "    while True:\n",
    "        operation = input(\"Enter: (C)reate (R)ead (U)pdate or (D)elete or (S)chema\")\n",
    "    \n",
    "        if len(operation)==0: # Escape Key\n",
    "            return\n",
    "        \n",
    "        found = False\n",
    "        for func in db_funcs:\n",
    "            if (func[0]) == operation.lower():\n",
    "                found = True\n",
    "                func[1]()\n",
    "    \n",
    "        if not found:\n",
    "            print(\"Please enter c, r, u, or d\") \n",
    "        \n",
    "try:\n",
    "    menu() # start menu\n",
    "except:\n",
    "    print(\"Perform Jupyter 'Run All' prior to starting menu\")\n"
   ]
  },
  {
   "attachments": {},
   "cell_type": "markdown",
   "metadata": {},
   "source": [
    "# Hacks\n",
    "- In this implementation, do you see procedural abstraction?\n",
    "    - yes. For example, there are functions for create, read, delete, and update. All of which make the overall code simpler. This can be seen in the menu function where all the functions for CRUD are called. Instead of having long lines of code under each elif statement, the create/read/delete/etc functions can just be called.\n",
    "- In 2.4a or 2.4b lecture\n",
    "    - Do you see data abstraction? Complement this with Debugging example.\n",
    "        - yes. For example, the class User is an example of data abstraction. it initializes multiple objects with several parameters. It would be very hard to save properties of a user into a database if they were not all comprised into one object. Thus, in this sense, the data is abstracted\n",
    "    \n",
    "\n",
    "Reference... [sqlite documentation](https://www.sqlitetutorial.net/sqlite-python/creating-tables/)\n"
   ]
  },
  {
   "attachments": {},
   "cell_type": "markdown",
   "metadata": {},
   "source": [
    "## My Own Table \n",
    "- Use Imperative or OOP style to Create a new Table or do something that applies to your CPT project."
   ]
  },
  {
   "cell_type": "code",
   "execution_count": 16,
   "metadata": {},
   "outputs": [],
   "source": [
    "from flask import Flask\n",
    "from flask_sqlalchemy import SQLAlchemy\n",
    "\n",
    "\"\"\"\n",
    "These object and definitions are used throughout the Jupyter Notebook.\n",
    "\"\"\"\n",
    "\n",
    "# Setup of key Flask object (app)\n",
    "app = Flask(__name__)\n",
    "# Setup SQLAlchemy object and properties for the database (db)\n",
    "database = 'sqlite:///instance/sqlite.db'  # path and filename of database\n",
    "#database = 'sqlite:///files/sqlite.db'  # path and filename of database\n",
    "app.config['SQLALCHEMY_TRACK_MODIFICATIONS'] = False\n",
    "app.config['SQLALCHEMY_DATABASE_URI'] = database\n",
    "app.config['SECRET_KEY'] = 'SECRET_KEY'\n",
    "db = SQLAlchemy()\n",
    "\n",
    "\n",
    "# This belongs in place where it runs once per project\n",
    "db.init_app(app)"
   ]
  },
  {
   "cell_type": "code",
   "execution_count": 17,
   "metadata": {},
   "outputs": [],
   "source": [
    "import json\n",
    "from sqlalchemy.exc import IntegrityError\n",
    "\n",
    "class College(db.Model):\n",
    "    __tablename__ = 'colleges'  # table name is plural, class name is singular\n",
    "\n",
    "    # Define the User schema with \"vars\" from object\n",
    "    id = db.Column(db.Integer, unique=True, primary_key=True)\n",
    "    _uid = db.Column(db.String(255), unique=True, nullable=False)\n",
    "    _name = db.Column(db.String(255), unique=False, nullable=False)\n",
    "    _rank = db.Column(db.Integer, unique=False, nullable=False)\n",
    "    _acceptanceRate = db.Column(db.Integer, unique=False, nullable=False)\n",
    "   \n",
    "\n",
    "    # constructor of a User object, initializes the instance variables within object (self)\n",
    "    def __init__(self, uid, name, rank, acceptanceRate):\n",
    "        self._name = name\n",
    "        self._rank = rank\n",
    "        self._acceptanceRate = acceptanceRate\n",
    "        self._uid = uid\n",
    "    \n",
    "    # a getter method, extracts uid from object\n",
    "    @property\n",
    "    def uid(self):\n",
    "        return self._uid\n",
    "    \n",
    "    # a setter function, allows uid to be updated after initial object creation\n",
    "    @uid.setter\n",
    "    def uid(self, uid):\n",
    "        self._uid = uid\n",
    "        \n",
    "    # gets the name the college\n",
    "    @property\n",
    "    def name(self):\n",
    "        return self._name\n",
    "    \n",
    "    # a setter function, allows name to be updated after initial object creation\n",
    "    @name.setter\n",
    "    def name(self, name):\n",
    "        self._name = name\n",
    "\n",
    "     # gets the rank of the college\n",
    "    @property\n",
    "    def rank(self):\n",
    "        return self._rank\n",
    "    \n",
    "    # a setter function, allows rank to be updated after initial object creation\n",
    "    @rank.setter\n",
    "    def rank(self, rank):\n",
    "        self._rank = rank\n",
    "    \n",
    "    # a acceptanceRate getter\n",
    "    @property\n",
    "    def acceptanceRate(self):\n",
    "        return self._acceptanceRate\n",
    "\n",
    "    # a setter function to set the college's acceptanceRate\n",
    "    @acceptanceRate.setter\n",
    "    def acceptanceRate(self, acceptanceRate):\n",
    "        self._acceptanceRate = acceptanceRate\n",
    "    \n",
    "            \n",
    "    # output content using str(object) in human readable form, uses getter\n",
    "    # output content using json dumps, this is ready for API response\n",
    "    def __str__(self):\n",
    "        return json.dumps(self.read())\n",
    "\n",
    "    # CRUD create/add a new record to the table\n",
    "    # returns self or None on error\n",
    "    def create(self):\n",
    "        try:\n",
    "            # creates a person object from User(db.Model) class, passes initializers\n",
    "            db.session.add(self)  # add prepares to persist person object to Users table\n",
    "            db.session.commit()  # SqlAlchemy \"unit of work pattern\" requires a manual commit\n",
    "            return self\n",
    "        except IntegrityError:\n",
    "            db.session.remove()\n",
    "            return None\n",
    "\n",
    "    # CRUD read converts self to dictionary\n",
    "    # returns dictionary\n",
    "    def read(self):\n",
    "        return {\n",
    "            \"id\": self.id,\n",
    "            \"name\" : self.name,\n",
    "            \"rank\" : self.rank,\n",
    "            \"acceptanceRate\" : self.acceptanceRate,\n",
    "            \"uid\": self.uid\n",
    "        }\n",
    "     \n",
    "    def update(self, name=\"\", rank=\"\", acceptanceRate=\"\", uid=\"\"):\n",
    "        \"\"\"only updates values with length\"\"\"\n",
    "        if len(name) > 0:\n",
    "            self.name = name\n",
    "        if len(rank) > 0:\n",
    "            self.rank = rank\n",
    "        if len(acceptanceRate) > 0:\n",
    "            self.acceptanceRate = acceptanceRate\n",
    "        if len(uid) > 0:\n",
    "            self.uid = uid\n",
    "        db.session.add(self) # performs update when id exists\\n\",\n",
    "        db.session.commit()\n",
    "        return self\n",
    "\n",
    "    def delete(self):\n",
    "        db.session.delete(self)\n",
    "        db.session.commit()\n",
    "        return None"
   ]
  },
  {
   "cell_type": "code",
   "execution_count": 18,
   "metadata": {},
   "outputs": [
    {
     "name": "stdout",
     "output_type": "stream",
     "text": [
      "Created new uid princeton\n",
      "Created new uid mit\n",
      "Created new uid harvard\n",
      "Created new uid stanford\n",
      "Created new uid yale\n",
      "Created new uid uofchicago\n",
      "Created new uid johnshopkins\n",
      "Created new uid upenn\n",
      "Created new uid caltech\n",
      "Created new uid duke\n",
      "Created new uid northwestern\n",
      "Created new uid dartmouth\n",
      "Created new uid brown\n",
      "Created new uid vanderbilt\n",
      "Created new uid rice\n"
     ]
    }
   ],
   "source": [
    "# Builds working data for testing\n",
    "def initCollege():\n",
    "    with app.app_context():\n",
    "        \"\"\"Create database and tables\"\"\"\n",
    "        db.create_all()\n",
    "        \"\"\"Tester data for table\"\"\"\n",
    "        c1 = College(name='Princeton', rank='1', acceptanceRate='4.4', uid='princeton')\n",
    "        c2 = College(name='MIT', rank='2', acceptanceRate='4', uid='mit')\n",
    "        c3 = College(name='Harvard', rank='3', acceptanceRate='4', uid='harvard')\n",
    "        c4 = College(name='Stanford', rank='4', acceptanceRate='3.9', uid='stanford')\n",
    "        c5 = College(name='Yale', rank='5', acceptanceRate='5.3', uid='yale')\n",
    "        c6 = College(name='U of Chicago', rank='6', acceptanceRate='6.5', uid='uofchicago')\n",
    "        c7 = College(name='Johns Hopkins', rank='7', acceptanceRate='7.5', uid='johnshopkins')\n",
    "        c8 = College(name='UPENN', rank='8', acceptanceRate='5.9', uid='upenn')\n",
    "        c9 = College(name='CalTech', rank='9', acceptanceRate='3.9', uid='caltech')\n",
    "        c10 = College(name='Duke', rank='10', acceptanceRate='6', uid='duke')\n",
    "        c11 = College(name='Northwestern', rank='11', acceptanceRate='7', uid='northwestern')\n",
    "        c12 = College(name='Dartmouth', rank='12', acceptanceRate='6.2', uid='dartmouth')\n",
    "        c13 = College(name='Brown', rank='13', acceptanceRate='5.5', uid='brown')\n",
    "        c14 = College(name='Vanderbilt', rank='14', acceptanceRate='7.1', uid='vanderbilt')\n",
    "        c15 = College(name='Rice', rank='15', acceptanceRate='9.5', uid='rice')\n",
    "\n",
    "\n",
    "        colleges = [c1, c2, c3, c4, c5, c6, c7, c8, c9, c10, c11, c12, c13, c14, c15]\n",
    "\n",
    "        \"\"\"Builds sample user/note(s) data\"\"\"\n",
    "        for college in colleges:\n",
    "            try:\n",
    "                '''add user to table'''\n",
    "                object = college.create()\n",
    "                print(f\"Created new uid {object.uid}\")\n",
    "            except:  # error raised if object nit created\n",
    "                '''fails with bad or duplicate data'''\n",
    "                print(f\"Records exist uid {college.uid}, or error.\")\n",
    "                \n",
    "initCollege()"
   ]
  },
  {
   "cell_type": "code",
   "execution_count": null,
   "metadata": {},
   "outputs": [],
   "source": [
    "import sqlite3\n",
    "\n",
    "database = 'instance/sqlite.db' # this is location of database\n",
    "\n",
    "def schema():\n",
    "    \n",
    "    # Connect to the database file\n",
    "    conn = sqlite3.connect(database)\n",
    "\n",
    "    # Create a cursor object to execute SQL queries\n",
    "    cursor = conn.cursor()\n",
    "    \n",
    "    # Fetch results of Schema\n",
    "    results = cursor.execute(\"PRAGMA table_info('users')\").fetchall()\n",
    "\n",
    "    # Print the results\n",
    "    for row in results:\n",
    "        print(row)\n",
    "\n",
    "    # Close the database connection\n",
    "    conn.close()\n",
    "    \n",
    "schema()"
   ]
  }
 ],
 "metadata": {
  "kernelspec": {
   "display_name": "base",
   "language": "python",
   "name": "python3"
  },
  "language_info": {
   "codemirror_mode": {
    "name": "ipython",
    "version": 3
   },
   "file_extension": ".py",
   "mimetype": "text/x-python",
   "name": "python",
   "nbconvert_exporter": "python",
   "pygments_lexer": "ipython3",
   "version": "3.10.5"
  },
  "orig_nbformat": 4,
  "vscode": {
   "interpreter": {
    "hash": "8b82d5009c68ba5675978267e2b13a671f2a7143d61273c5a3813c97e0b2493d"
   }
  }
 },
 "nbformat": 4,
 "nbformat_minor": 2
}
