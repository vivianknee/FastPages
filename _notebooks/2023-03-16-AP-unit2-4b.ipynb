{
 "cells": [
  {
   "attachments": {},
   "cell_type": "markdown",
   "metadata": {},
   "source": [
    "#  Unit 2.4b Using Programs with Data, SQL\n",
    "> Using Programs with Data is focused on SQL and database actions.  Part B focuses on learning SQL commands, connections, and curses using an Imperative programming style,\n",
    "- toc: true\n",
    "- week: 26"
   ]
  },
  {
   "attachments": {},
   "cell_type": "markdown",
   "metadata": {},
   "source": [
    "# Database Programming is Program with Data\n",
    "> Each Tri 2 Final Project should be an example of a Program with Data. \n",
    "\n",
    ">  Prepare to use SQLite in common Imperative Technique\n",
    "- Explore [SQLite Connect object](https://www.tutorialspoint.com/python_data_access/python_sqlite_establishing_connection.htm) to establish database connection\n",
    "- Explore [SQLite Cursor Object](https://www.tutorialspoint.com/python_data_access/python_sqlite_cursor_object.htm) to fetch data from a table within a database\n"
   ]
  },
  {
   "attachments": {},
   "cell_type": "markdown",
   "metadata": {},
   "source": [
    "## Schema of Users table in Sqlite.db\n",
    "> Uses PRAGMA statement to read schema.\n",
    "\n",
    "Describe Schema, here is resource [Resource](https://www.sqlite.org/index.html)\n",
    "- What is a database schema?\n",
    "    - the columns of a database aka the information that populates the datatable.\n",
    "- What is the purpose of identity Column in SQL database?\n",
    "    - the purpose is to have unique rows of data and to be able to differentiate different users. \n",
    "- What is the purpose of a primary key in SQL database?\n",
    "    - the primary key has to be unique because it is used as an identifier for different people. For example, name would not be a good primary key because two people could have the same name.\n",
    "- What are the Data Types in SQL table?\n",
    "    - strings, integers, boolean, images"
   ]
  },
  {
   "cell_type": "code",
   "execution_count": 21,
   "metadata": {},
   "outputs": [
    {
     "name": "stdout",
     "output_type": "stream",
     "text": [
      "(0, 'id', 'INTEGER', 1, None, 1)\n",
      "(1, '_name', 'VARCHAR(255)', 1, None, 0)\n",
      "(2, '_uid', 'VARCHAR(255)', 1, None, 0)\n",
      "(3, '_password', 'VARCHAR(255)', 1, None, 0)\n",
      "(4, '_dob', 'DATE', 0, None, 0)\n"
     ]
    }
   ],
   "source": [
    "import sqlite3\n",
    "\n",
    "database = 'instance/sqlite.db' # this is location of database\n",
    "\n",
    "def schema():\n",
    "    \n",
    "    # Connect to the database file\n",
    "    conn = sqlite3.connect(database)\n",
    "\n",
    "    # Create a cursor object to execute SQL queries\n",
    "    cursor = conn.cursor()\n",
    "    \n",
    "    # Fetch results of Schema\n",
    "    results = cursor.execute(\"PRAGMA table_info('users')\").fetchall()\n",
    "\n",
    "    # Print the results\n",
    "    for row in results:\n",
    "        print(row)\n",
    "\n",
    "    # Close the database connection\n",
    "    conn.close()\n",
    "    \n",
    "schema()\n"
   ]
  },
  {
   "attachments": {},
   "cell_type": "markdown",
   "metadata": {},
   "source": [
    "## Reading Users table in Sqlite.db\n",
    "> Uses SQL SELECT statement to read data\n",
    "\n",
    "- What is a connection object? After you google it, what do you think it does?\n",
    "    - Each open SQLite database is represented by a Connection object, which is created using sqlite3.connect() . Their main purpose is creating Cursor objects, and Transaction control.\n",
    "- Same for cursor object?\n",
    "    - simplifies the code for the user. an instance using which you can invoke methods that execute SQLite statements, fetch data from the result sets of the queries. \n",
    "- Look at conn object and cursor object in VSCode debugger.  What attributes are in the object?\n",
    "    - the cursor object contains attributes like special variables, function variables, and class variables\n",
    "    - conn object contains attributes like special variables and function variables\n",
    "- Is \"results\" an object?  How do you know?\n",
    "    - results is an object because it has attributes"
   ]
  },
  {
   "cell_type": "code",
   "execution_count": null,
   "metadata": {},
   "outputs": [],
   "source": [
    "import sqlite3\n",
    "\n",
    "def read():\n",
    "    # Connect to the database file\n",
    "    conn = sqlite3.connect(database)\n",
    "\n",
    "    # Create a cursor object to execute SQL queries\n",
    "    cursor = conn.cursor()\n",
    "    \n",
    "    # Execute a SELECT statement to retrieve data from a table\n",
    "    results = cursor.execute('SELECT * FROM users').fetchall()\n",
    "\n",
    "    # Print the results\n",
    "    if len(results) == 0:\n",
    "        print(\"Table is empty\")\n",
    "    else:\n",
    "        for row in results:\n",
    "            print(row)\n",
    "\n",
    "    # Close the cursor and connection objects\n",
    "    cursor.close()\n",
    "    conn.close()\n",
    "    \n",
    "read()\n"
   ]
  },
  {
   "attachments": {},
   "cell_type": "markdown",
   "metadata": {},
   "source": [
    "## Create a new User in table in Sqlite.db\n",
    "> Uses SQL INSERT to add row\n",
    "-  Compare create() in both SQL lessons.  What is better or worse in the two implementations?\n",
    "    - out of the two create(), i think the sqlite3 method using conn and cur is better. It is able to accomplish the same thing with less code. It is less complicated and just as efficient. \n",
    "-  Explain purpose of SQL INSERT.   Is this the same as User __init__?\n",
    "    - SQL INSERT is a command used to add new records or rows of data to a database table\n",
    "    - User __init__ is a method used in object-oriented programming languages like Python. The __init__ method is used to initialize the properties or attributes of an object when it is created."
   ]
  },
  {
   "cell_type": "code",
   "execution_count": null,
   "metadata": {},
   "outputs": [],
   "source": [
    "import sqlite3\n",
    "\n",
    "def create():\n",
    "    name = input(\"Enter your name:\")\n",
    "    uid = input(\"Enter your user id:\")\n",
    "    password = input(\"Enter your password\")\n",
    "    dob = input(\"Enter your date of birth 'YYYY-MM-DD'\")\n",
    "    \n",
    "    # Connect to the database file\n",
    "    conn = sqlite3.connect(database)\n",
    "\n",
    "    # Create a cursor object to execute SQL commands\n",
    "    cursor = conn.cursor()\n",
    "\n",
    "    try:\n",
    "        # Execute an SQL command to insert data into a table\n",
    "        cursor.execute(\"INSERT INTO users (_name, _uid, _password, _dob) VALUES (?, ?, ?, ?)\", (name, uid, password, dob))\n",
    "        \n",
    "        # Commit the changes to the database\n",
    "        conn.commit()\n",
    "        print(f\"A new user record {uid} has been created\")\n",
    "                \n",
    "    except sqlite3.Error as error:\n",
    "        print(\"Error while executing the INSERT:\", error)\n",
    "\n",
    "\n",
    "    # Close the cursor and connection objects\n",
    "    cursor.close()\n",
    "    conn.close()\n",
    "    \n",
    "create()"
   ]
  },
  {
   "attachments": {},
   "cell_type": "markdown",
   "metadata": {},
   "source": [
    "## Updating a User in table in Sqlite.db\n",
    "> Uses SQL UPDATE to modify password\n",
    "- What does the hacked part do?\n",
    "- Explain try/except, when would except occur?\n",
    "- What code seems to be repeated in each of these examples to point, why is it repeated?"
   ]
  },
  {
   "cell_type": "code",
   "execution_count": 20,
   "metadata": {},
   "outputs": [
    {
     "ename": "NameError",
     "evalue": "name 'database' is not defined",
     "output_type": "error",
     "traceback": [
      "\u001b[1;31m---------------------------------------------------------------------------\u001b[0m",
      "\u001b[1;31mNameError\u001b[0m                                 Traceback (most recent call last)",
      "\u001b[1;32mc:\\Users\\vivia\\vscode\\FastPages\\_notebooks\\2023-03-16-AP-unit2-4b.ipynb Cell 10\u001b[0m in \u001b[0;36m<cell line: 35>\u001b[1;34m()\u001b[0m\n\u001b[0;32m     <a href='vscode-notebook-cell:/c%3A/Users/vivia/vscode/FastPages/_notebooks/2023-03-16-AP-unit2-4b.ipynb#X12sZmlsZQ%3D%3D?line=31'>32</a>\u001b[0m     cursor\u001b[39m.\u001b[39mclose()\n\u001b[0;32m     <a href='vscode-notebook-cell:/c%3A/Users/vivia/vscode/FastPages/_notebooks/2023-03-16-AP-unit2-4b.ipynb#X12sZmlsZQ%3D%3D?line=32'>33</a>\u001b[0m     conn\u001b[39m.\u001b[39mclose()\n\u001b[1;32m---> <a href='vscode-notebook-cell:/c%3A/Users/vivia/vscode/FastPages/_notebooks/2023-03-16-AP-unit2-4b.ipynb#X12sZmlsZQ%3D%3D?line=34'>35</a>\u001b[0m update()\n",
      "\u001b[1;32mc:\\Users\\vivia\\vscode\\FastPages\\_notebooks\\2023-03-16-AP-unit2-4b.ipynb Cell 10\u001b[0m in \u001b[0;36mupdate\u001b[1;34m()\u001b[0m\n\u001b[0;32m     <a href='vscode-notebook-cell:/c%3A/Users/vivia/vscode/FastPages/_notebooks/2023-03-16-AP-unit2-4b.ipynb#X12sZmlsZQ%3D%3D?line=9'>10</a>\u001b[0m     message \u001b[39m=\u001b[39m \u001b[39m\"\u001b[39m\u001b[39msuccessfully updated\u001b[39m\u001b[39m\"\u001b[39m\n\u001b[0;32m     <a href='vscode-notebook-cell:/c%3A/Users/vivia/vscode/FastPages/_notebooks/2023-03-16-AP-unit2-4b.ipynb#X12sZmlsZQ%3D%3D?line=11'>12</a>\u001b[0m \u001b[39m# Connect to the database file\u001b[39;00m\n\u001b[1;32m---> <a href='vscode-notebook-cell:/c%3A/Users/vivia/vscode/FastPages/_notebooks/2023-03-16-AP-unit2-4b.ipynb#X12sZmlsZQ%3D%3D?line=12'>13</a>\u001b[0m conn \u001b[39m=\u001b[39m sqlite3\u001b[39m.\u001b[39mconnect(database)\n\u001b[0;32m     <a href='vscode-notebook-cell:/c%3A/Users/vivia/vscode/FastPages/_notebooks/2023-03-16-AP-unit2-4b.ipynb#X12sZmlsZQ%3D%3D?line=14'>15</a>\u001b[0m \u001b[39m# Create a cursor object to execute SQL commands\u001b[39;00m\n\u001b[0;32m     <a href='vscode-notebook-cell:/c%3A/Users/vivia/vscode/FastPages/_notebooks/2023-03-16-AP-unit2-4b.ipynb#X12sZmlsZQ%3D%3D?line=15'>16</a>\u001b[0m cursor \u001b[39m=\u001b[39m conn\u001b[39m.\u001b[39mcursor()\n",
      "\u001b[1;31mNameError\u001b[0m: name 'database' is not defined"
     ]
    }
   ],
   "source": [
    "import sqlite3\n",
    "\n",
    "def update():\n",
    "    uid = input(\"Enter user id to update\")\n",
    "    password = input(\"Enter updated password\")\n",
    "    if len(password) < 2:\n",
    "        message = \"hacked\"\n",
    "        password = 'gothackednewpassword123'\n",
    "    else:\n",
    "        message = \"successfully updated\"\n",
    "\n",
    "    # Connect to the database file\n",
    "    conn = sqlite3.connect(database)\n",
    "\n",
    "    # Create a cursor object to execute SQL commands\n",
    "    cursor = conn.cursor()\n",
    "\n",
    "    try:\n",
    "        # Execute an SQL command to update data in a table\n",
    "        cursor.execute(\"UPDATE users SET _password = ? WHERE _uid = ?\", (password, uid))\n",
    "        if cursor.rowcount == 0:\n",
    "            # The uid was not found in the table\n",
    "            print(f\"No uid {uid} was not found in the table\")\n",
    "        else:\n",
    "            print(f\"The row with user id {uid} the password has been {message}\")\n",
    "            conn.commit()\n",
    "    except sqlite3.Error as error:\n",
    "        print(\"Error while executing the UPDATE:\", error)\n",
    "        \n",
    "    \n",
    "    # Close the cursor and connection objects\n",
    "    cursor.close()\n",
    "    conn.close()\n",
    "    \n",
    "update()\n"
   ]
  },
  {
   "attachments": {},
   "cell_type": "markdown",
   "metadata": {},
   "source": [
    "## Delete a User in table in Sqlite.db\n",
    "> Uses a delete function to remove a user based on a user input of the id.\n",
    "- Is DELETE a dangerous operation?  Why?\n",
    "    - When you perform a delete operation on a SQLite database, you are permanently removing data from the database. If you accidentally delete the wrong data or forget to include a WHERE clause in your delete statement, you can end up losing valuable data.\n",
    "\n",
    "- In the print statements, what is the \"f\" and what does {uid} do?\n",
    "    - {uid} gets the uid of the user in question\n",
    "    - f is the syntax for formatted string literals. Inside this string, you can write a Python expression between { } characters that can refer to variables or literal values."
   ]
  },
  {
   "cell_type": "code",
   "execution_count": null,
   "metadata": {},
   "outputs": [],
   "source": [
    "import sqlite3\n",
    "\n",
    "def delete():\n",
    "    uid = input(\"Enter user id to delete\")\n",
    "\n",
    "    # Connect to the database file\n",
    "    conn = sqlite3.connect(database)\n",
    "\n",
    "    # Create a cursor object to execute SQL commands\n",
    "    cursor = conn.cursor()\n",
    "    \n",
    "    try:\n",
    "        cursor.execute(\"DELETE FROM users WHERE _uid = ?\", (uid,))\n",
    "        if cursor.rowcount == 0:\n",
    "            # The uid was not found in the table\n",
    "            print(f\"No uid {uid} was not found in the table\")\n",
    "        else:\n",
    "            # The uid was found in the table and the row was deleted\n",
    "            print(f\"The row with uid {uid} was successfully deleted\")\n",
    "        conn.commit()\n",
    "    except sqlite3.Error as error:\n",
    "        print(\"Error while executing the DELETE:\", error)\n",
    "        \n",
    "    # Close the cursor and connection objects\n",
    "    cursor.close()\n",
    "    conn.close()\n",
    "    \n",
    "delete()"
   ]
  },
  {
   "attachments": {},
   "cell_type": "markdown",
   "metadata": {},
   "source": [
    "# Menu Interface to CRUD operations\n",
    "> CRUD and Schema interactions from one location by running menu. Observe input at the top of VSCode, observe output underneath code cell.\n",
    "- Why does the menu repeat?\n",
    "    - a recursion is happening. As the function continues, it calls itself, thus the menu is always repeating\n",
    "- Could you refactor this menu?  Make it work with a List?"
   ]
  },
  {
   "cell_type": "code",
   "execution_count": 17,
   "metadata": {},
   "outputs": [
    {
     "name": "stdout",
     "output_type": "stream",
     "text": [
      "Perform Jupyter 'Run All' prior to starting menu\n"
     ]
    }
   ],
   "source": [
    "# Menu, to run other cells from one control point\n",
    "def menu():\n",
    "    operation = input(\"Enter: (C)reate (R)ead (U)pdate or (D)elete or (S)chema\")\n",
    "    if operation.lower() == 'c':\n",
    "        create()\n",
    "    elif operation.lower() == 'r':\n",
    "        read()\n",
    "    elif operation.lower() == 'u':\n",
    "        update()\n",
    "    elif operation.lower() == 'd':\n",
    "        delete()\n",
    "    elif operation.lower() == 's':\n",
    "        schema()\n",
    "    elif len(operation)==0: # Escape Key\n",
    "        return\n",
    "    else:\n",
    "        print(\"Please enter c, r, u, or d\") \n",
    "    menu() # recursion, repeat menu\n",
    "        \n",
    "try:\n",
    "    menu() # start menu\n",
    "except:\n",
    "    print(\"Perform Jupyter 'Run All' prior to starting menu\")\n"
   ]
  },
  {
   "attachments": {},
   "cell_type": "markdown",
   "metadata": {},
   "source": [
    "# Hacks\n",
    "- In this implementation, do you see procedural abstraction?\n",
    "- In 2.4a or 2.4b lecture\n",
    "    - Do you see data abstraction?  Complement this with Debugging example.\n",
    "    - Use Imperative or OOP style to Create a new Table or do something that applies to your CPT project.\n",
    "    \n",
    "\n",
    "Reference... [sqlite documentation](https://www.sqlitetutorial.net/sqlite-python/creating-tables/)\n"
   ]
  }
 ],
 "metadata": {
  "kernelspec": {
   "display_name": "base",
   "language": "python",
   "name": "python3"
  },
  "language_info": {
   "codemirror_mode": {
    "name": "ipython",
    "version": 3
   },
   "file_extension": ".py",
   "mimetype": "text/x-python",
   "name": "python",
   "nbconvert_exporter": "python",
   "pygments_lexer": "ipython3",
   "version": "3.10.5"
  },
  "orig_nbformat": 4,
  "vscode": {
   "interpreter": {
    "hash": "8b82d5009c68ba5675978267e2b13a671f2a7143d61273c5a3813c97e0b2493d"
   }
  }
 },
 "nbformat": 4,
 "nbformat_minor": 2
}
