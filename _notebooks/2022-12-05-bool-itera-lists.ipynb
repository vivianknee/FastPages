{
 "cells": [
  {
   "attachments": {},
   "cell_type": "markdown",
   "metadata": {},
   "source": [
    "# Unit 3 Sections 8 and 10\n",
    "- badges: true\n",
    "- toc: true\n",
    "- categories: [Student Teaching Portfolio]"
   ]
  },
  {
   "attachments": {},
   "cell_type": "markdown",
   "metadata": {},
   "source": [
    "## Vocab\n",
    "- Lists: sequence of variables\n",
    "- Index: a term used to sort data in order to reference to an element in a list (allows for duplicates)\n",
    "- Elements: the values in the list assigned to an index"
   ]
  },
  {
   "attachments": {},
   "cell_type": "markdown",
   "metadata": {},
   "source": [
    "## Boolean Iteration and Lists\n",
    "- Lists\n",
    "    - sequence of variables\n",
    "    - used to store multiple items into a single variable\n",
    "    - changeable, allow duplicates\n",
    "    - can hold integers, strings, or booleans\n",
    "- Lists are 1/4 types of data collection types in python\n",
    "    - Tuple: collection that is ordered, unchangeable, allows duplicates\n",
    "    - Set: collection that is unordered, unchangeable, doesn't allow duplicates\n",
    "    - Dictionary: collection that is ordered, changeable, doesn't allow duplicates\n",
    "- Index: a term used to sort data in order to reference to an element in a list (allows for duplicates)\n",
    "- Elements: the values in the list assigned to an index\n",
    "- Iteration: repetition of a process or utterance applied to the result or taken from a previous statement\n",
    "- Loops: automate the iteration process"
   ]
  },
  {
   "cell_type": "code",
   "execution_count": 1,
   "metadata": {},
   "outputs": [
    {
     "name": "stdout",
     "output_type": "stream",
     "text": [
      "grape\n"
     ]
    }
   ],
   "source": [
    "fruits = [\"apple\", \"grape\", \"strawberry\"]\n",
    "index = 1\n",
    "\n",
    "print (fruits[index])"
   ]
  },
  {
   "cell_type": "markdown",
   "metadata": {},
   "source": [
    "Methods in Lists\n",
    "\n",
    "| Method | Definition | Example |\n",
    "|-|-|-|\n",
    "| append() | adds element to the end of the list | fruits.append(\"watermelon\") |\n",
    "| index() | returns the index of the first element with the specified value | fruits.index(\"apple\") |\n",
    "| insert() | adds element at given position | fruits.insert(1, \"watermelon\")|\n",
    "| remove() | removes the first item with the specified value | fruits.remove(\"strawberry\") |\n",
    "| reverse() | reverses the list order | fruits.reverse() |\n",
    "| sort() | sorts the list | fruits.sort() |\n",
    "| count() | returns the amount of elements with the specified value | fruits.count(\"apple\") |\n",
    "| copy() | returns a copy of the list | fruits.copy() |\n",
    "| clear() | removes the elements from the list | fruits.clear() |"
   ]
  },
  {
   "cell_type": "code",
   "execution_count": 8,
   "metadata": {},
   "outputs": [
    {
     "name": "stdout",
     "output_type": "stream",
     "text": [
      "['football', 'hockey', 'baseball', 'basketball']\n"
     ]
    }
   ],
   "source": [
    "sports = [\"football\", \"soccer\", \"baseball\", \"basketball\"]\n",
    "\n",
    "# change the value \"soccer\" to \"hockey\"\n",
    "sports.remove(\"soccer\")\n",
    "sports.insert(1, \"hockey\")\n",
    "print (sports)"
   ]
  },
  {
   "cell_type": "code",
   "execution_count": 3,
   "metadata": {},
   "outputs": [
    {
     "name": "stdout",
     "output_type": "stream",
     "text": [
      "['football', 'soccer', 'golf', 'baseball', 'basketball']\n"
     ]
    }
   ],
   "source": [
    "sports = [\"football\", \"soccer\", \"baseball\", \"basketball\"]\n",
    "\n",
    "# add \"golf\" as the 3rd element in the list\n",
    "sports.insert(2, \"golf\")\n",
    "print (sports)"
   ]
  },
  {
   "cell_type": "markdown",
   "metadata": {},
   "source": [
    "- Iteration\n",
    "    - repetition of a process or utterance applied to the result or taken from a previous statement\n",
    "    - methods include using a \"for loop\", using a \"for loop and range()\", using a \"while loop\", and using comprehension \n",
    "    - Lists, tuples, dictionaries, and sets are iterable objects. They are the 'containers' that store the data to iterate\n",
    "    - Each of these containers are able to iterate with the iter() command.\n",
    "    - 2 types\n",
    "        - Definite: clarifies how many times the loop is going to run\n",
    "        - Indefinite: specifies a condition that must be met"
   ]
  },
  {
   "cell_type": "markdown",
   "metadata": {},
   "source": [
    "- Loops\n",
    "    - automates the iteration process"
   ]
  },
  {
   "cell_type": "code",
   "execution_count": 10,
   "metadata": {},
   "outputs": [
    {
     "name": "stdout",
     "output_type": "stream",
     "text": [
      "Uniform\n",
      "Victor\n",
      "Whiskey\n",
      "X-ray\n",
      "Yankee\n",
      "Zulu\n"
     ]
    }
   ],
   "source": [
    "# Using a for loop \n",
    "list = [\"Uniform\", \"Victor\", \"Whiskey\", \"X-ray\", \"Yankee\", \"Zulu\"]\n",
    "\n",
    "# using a for loop \n",
    "for i in list:\n",
    "    #for item in the list, print the item \n",
    "    print(i)"
   ]
  },
  {
   "cell_type": "code",
   "execution_count": 11,
   "metadata": {},
   "outputs": [
    {
     "name": "stdout",
     "output_type": "stream",
     "text": [
      "Alpha\n",
      "Bravo\n",
      "Tango\n",
      "Uniform\n",
      "Victor\n",
      "Whiskey\n",
      "X-ray\n",
      "Yankee\n",
      "Zulu\n"
     ]
    }
   ],
   "source": [
    "# Using a for loop and range()\n",
    "list = [\"Alpha\", \"Bravo\", \"Tango\", \"Uniform\", \"Victor\", \"Whiskey\", \"X-ray\", \"Yankee\", \"Zulu\"]\n",
    "\n",
    "# Taking the length of the list \n",
    "lengthList = len(list) \n",
    "\n",
    "# Iteration using the amount of items in the list\n",
    "for i in range(lengthList):\n",
    "    print(list[i])"
   ]
  },
  {
   "cell_type": "code",
   "execution_count": 12,
   "metadata": {},
   "outputs": [
    {
     "name": "stdout",
     "output_type": "stream",
     "text": [
      "Uniform\n",
      "Victor\n",
      "Whiskey\n",
      "X-ray\n",
      "Yankee\n",
      "Zulu\n"
     ]
    }
   ],
   "source": [
    "# Iteration using the while loop\n",
    "list = [\"Uniform\", \"Victor\", \"Whiskey\", \"X-ray\", \"Yankee\", \"Zulu\"]\n",
    "\n",
    "# Once again, taking the length of the list\n",
    "lengthList = len(list)\n",
    "\n",
    "# Setting the variable we are going to use as 0\n",
    "i=0 \n",
    "\n",
    "# Iteration using the while loop \n",
    "# Argument saying WHILE a certain variable is a certain condition, the code should run\n",
    "while i < lengthList:\n",
    "    print(list[i])\n",
    "    i += 1"
   ]
  },
  {
   "cell_type": "markdown",
   "metadata": {},
   "source": [
    "- 2D Iterations\n",
    "    - list of lists"
   ]
  },
  {
   "cell_type": "code",
   "execution_count": 20,
   "metadata": {},
   "outputs": [],
   "source": [
    "# Example matrix\n",
    "\n",
    "keypad = [[1, 2, 3], [4, 5, 6], [7, 8, 9], [\" \", 0, \" \"]]"
   ]
  },
  {
   "cell_type": "markdown",
   "metadata": {},
   "source": [
    "- Printing a 2D array"
   ]
  },
  {
   "cell_type": "code",
   "execution_count": 18,
   "metadata": {},
   "outputs": [],
   "source": [
    "def print_matrix1(matrix): \n",
    "    for i in range(len(matrix)):  # outer for loop. This runs on i which represents the row. range(len(matrix)) is in order to iterate through the length of the matrix\n",
    "        for j in range(len(matrix[i])):  # inner for loop. This runs on the length of the i'th row in the matrix (j changes for each row with a different length)\n",
    "            print(matrix[i][j], end=\" \")  # [i][j] is the 2D location of that value in the matrix, kinda like a coordinate pair. [i] iterates to the specific row and [j] iterates to the specific value in the row. end=\" \" changes the end value to space, not a new line.\n",
    "        print() # prints extra line. this is in the outer loop, not the inner loop, because it only wants to print a new line for each row"
   ]
  },
  {
   "cell_type": "code",
   "execution_count": 21,
   "metadata": {},
   "outputs": [
    {
     "name": "stdout",
     "output_type": "stream",
     "text": [
      "Raw matrix (list of lists): \n",
      "[[1, 2, 3], [4, 5, 6], [7, 8, 9], [' ', 0, ' ']]\n",
      "Matrix printed using nested for loop iteration:\n",
      "1 2 3 \n",
      "4 5 6 \n",
      "7 8 9 \n",
      "  0   \n",
      "\n"
     ]
    }
   ],
   "source": [
    "print(\"Raw matrix (list of lists): \")\n",
    "print(keypad)\n",
    "print(\"Matrix printed using nested for loop iteration:\")\n",
    "print_matrix1(keypad)\n",
    "print()"
   ]
  },
  {
   "cell_type": "code",
   "execution_count": 31,
   "metadata": {},
   "outputs": [
    {
     "name": "stdout",
     "output_type": "stream",
     "text": [
      "1 2 3 \n",
      "4 5 6 \n",
      "7 8 9 \n",
      "  0   \n"
     ]
    }
   ],
   "source": [
    "def print_matrix2(matrix):\n",
    "    for row in matrix:  # Iterates through each \"row\" of matrix. Row is a dummy variable, it could technically be anything. It iterates through each value of matrix and each value is it's own list. in this syntax the list is stored in \"row\".\n",
    "        for col in row:  # Iterates through each value in row. Again col, column, is a dummy variable. Each value in row is stored in col.\n",
    "            print(col, end=\" \") # Same as 1\n",
    "        print() # Same as 1\n",
    "\n",
    "print_matrix2(keypad)"
   ]
  },
  {
   "cell_type": "markdown",
   "metadata": {},
   "source": [
    "## HW"
   ]
  },
  {
   "cell_type": "code",
   "execution_count": 37,
   "metadata": {},
   "outputs": [
    {
     "name": "stdout",
     "output_type": "stream",
     "text": [
      "1 2 3 \n",
      "4 5 6 \n",
      "7 8 9 \n",
      "  0   \n"
     ]
    }
   ],
   "source": [
    "#Another way to print keypad\n",
    "def print_matrix3(matrix):\n",
    "     for row in matrix:\n",
    "        print(*row, end=\" \")\n",
    "        print()\n",
    "\n",
    "print_matrix3(keypad)"
   ]
  },
  {
   "cell_type": "markdown",
   "metadata": {},
   "source": [
    "Print what month you were born and how old you are by iterating through the keyboard (don't just write a string)."
   ]
  },
  {
   "cell_type": "code",
   "execution_count": 55,
   "metadata": {},
   "outputs": [
    {
     "name": "stdout",
     "output_type": "stream",
     "text": [
      "MAY16"
     ]
    }
   ],
   "source": [
    "keyboard = [[\"`\", 1, 2, 3, 4, 5, 6, 7, 8, 9, 0, \"-\", \"=\"],\n",
    "            [\"Q\", \"W\", \"E\", \"R\", \"T\", \"Y\", \"U\", \"I\", \"O\", \"P\", \"[\", \"]\"],\n",
    "            [\"A\", \"S\", \"D\", \"F\", \"G\", \"H\", \"J\", \"K\", \"L\", \";\", \"'\"],\n",
    "            [\"Z\", \"X\", \"C\", \"V\", \"B\", \"N\", \"M\", \",\", \".\", \"/\"]]\n",
    "\n",
    "output = \"MAY16\"\n",
    "for char in output: #each item in the output is a character\n",
    "    for row in keyboard: #each item in the keyboard is a row\n",
    "        for key in row: #each item in the row is a key\n",
    "            if str(key) == char: #if the key matches each character in output\n",
    "                print(key, end='')\n",
    "                break #ends the loop. back to first loop"
   ]
  },
  {
   "cell_type": "markdown",
   "metadata": {},
   "source": [
    "\n",
    "Use the list below to turn the first letter of any word (using input()) into its respective NATO phonetic alphabet word\n",
    "\n",
    "Ex:\n",
    "list ->\n",
    "lima\n",
    "india\n",
    "sierra\n",
    "tango"
   ]
  },
  {
   "cell_type": "code",
   "execution_count": 53,
   "metadata": {},
   "outputs": [
    {
     "name": "stdout",
     "output_type": "stream",
     "text": [
      "victor\n",
      "india\n",
      "victor\n",
      "india\n",
      "alfa\n",
      "november\n"
     ]
    }
   ],
   "source": [
    "words = [\"alfa\", \"bravo\", \"charlie\", \"delta\", \"echo\", \"foxtrot\", \"golf\", \"hotel\", \"india\", \"juliett\", \"kilo\",\n",
    "\"lima\", \"mike\", \"november\", \"oscar\", \"papa\", \"quebec\", \"romeo\", \"sierra\", \"tango\", \"uniform\", \"victor\", \"whiskey\", \"xray\", \"yankee\", \"zulu\"]\n",
    "\n",
    "inp = input().lower()\n",
    "\n",
    "letters = []\n",
    "for letter in inp: \n",
    "    for word in words:\n",
    "        if word.startswith(letter):\n",
    "            print(word)\n",
    "            break\n",
    "    "
   ]
  },
  {
   "cell_type": "markdown",
   "metadata": {},
   "source": [
    "Challenge\n",
    "- Change all of the letters that you DIDN'T print above to spaces, \" \", and then print the full keyboard. (the things you did print should remain in the same spot)\n",
    "\n",
    "- Alternative Challenge: If you would prefer, animate it using some form of delay so it flashes one of your letters at a time on the board in order and repeats. (this one may be slightly more intuitive)"
   ]
  },
  {
   "cell_type": "code",
   "execution_count": 61,
   "metadata": {},
   "outputs": [
    {
     "name": "stdout",
     "output_type": "stream",
     "text": [
      " 1    6      \n",
      "\n",
      "     Y      \n",
      "\n",
      "A          \n",
      "\n",
      "      M   \n",
      "\n"
     ]
    }
   ],
   "source": [
    "keyboard = [[\"`\", 1, 2, 3, 4, 5, 6, 7, 8, 9, 0, \"-\", \"=\"],\n",
    "            [\"Q\", \"W\", \"E\", \"R\", \"T\", \"Y\", \"U\", \"I\", \"O\", \"P\", \"[\", \"]\"],\n",
    "            [\"A\", \"S\", \"D\", \"F\", \"G\", \"H\", \"J\", \"K\", \"L\", \";\", \"'\"],\n",
    "            [\"Z\", \"X\", \"C\", \"V\", \"B\", \"N\", \"M\", \",\", \".\", \"/\"]]\n",
    "\n",
    "output = \"MAY16\"\n",
    "for row in keyboard: #each item in the keyboard is a row\n",
    "    for key in row: #each item in the row is a key\n",
    "        if str(key) in output: #check if key is in output\n",
    "            print(key, end='')\n",
    "        else:\n",
    "            print(\" \", end='')\n",
    "    print(\"\\n\")"
   ]
  }
 ],
 "metadata": {
  "kernelspec": {
   "display_name": "Python 3.8.10 64-bit",
   "language": "python",
   "name": "python3"
  },
  "language_info": {
   "codemirror_mode": {
    "name": "ipython",
    "version": 3
   },
   "file_extension": ".py",
   "mimetype": "text/x-python",
   "name": "python",
   "nbconvert_exporter": "python",
   "pygments_lexer": "ipython3",
   "version": "3.8.10 (default, Jun 22 2022, 20:18:18) \n[GCC 9.4.0]"
  },
  "orig_nbformat": 4,
  "vscode": {
   "interpreter": {
    "hash": "916dbcbb3f70747c44a77c7bcd40155683ae19c65e1c03b4aa3499c5328201f1"
   }
  }
 },
 "nbformat": 4,
 "nbformat_minor": 2
}
