{
 "cells": [
  {
   "cell_type": "markdown",
   "metadata": {},
   "source": [
    "# Python Quiz\n",
    "\n",
    "- badges: true\n",
    "- comments: true\n",
    "- categories: [jupyter,week1]"
   ]
  },
  {
   "cell_type": "markdown",
   "metadata": {},
   "source": [
    "## Using the Python command: print"
   ]
  },
  {
   "cell_type": "code",
   "execution_count": 1,
   "metadata": {},
   "outputs": [
    {
     "name": "stdout",
     "output_type": "stream",
     "text": [
      "This took a lot of unnecessary sweat, blood, and tears to set up\n"
     ]
    }
   ],
   "source": [
    "msg = \"This took a lot of unnecessary sweat, blood, and tears to set up\"\n",
    "print(msg)"
   ]
  },
  {
   "cell_type": "markdown",
   "metadata": {},
   "source": [
    "## Python Quiz\n",
    ">This code ask questions and provide answers."
   ]
  },
  {
   "cell_type": "code",
   "execution_count": 4,
   "metadata": {
    "vscode": {
     "languageId": "python"
    }
   },
   "outputs": [
    {
     "name": "stdout",
     "output_type": "stream",
     "text": [
      "Hello, vivian running /home/vivian/anaconda3/bin/python\n",
      "You will be asked 8 questions.\n",
      "Question: Are you ready to take a test?\n",
      "Answer: yes\n",
      "Question: What command is used to include other functions that were previously developed?\n",
      "import is correct!\n",
      "Question: What command is used to evaluate correct or incorrect response in this example?\n",
      "if is correct!\n",
      "Question: Each 'if' command contains an '_________' to determine a true or false condition?\n",
      "expression is correct!\n",
      "Question: Two or more lines of code is known as a '_______'?\n",
      "sequence is correct!\n",
      "Question: What is it called when one groups a sequence of commands that are used repeatesdly?\n",
      "procedural abstraction is correct!\n",
      "Question: What key word in python defines a function by defining a group of commands but not intitially running them?\n",
      "def is correct!\n",
      "Question: What statement must you use to place variables that are defined as numbers into strings?\n",
      "str() is correct!\n",
      "Question: What term is used to refer to the paramater which is a message output to the user to describe the input requested?\n",
      "prompt is correct!\n",
      "vivian you scored 8/8\n"
     ]
    }
   ],
   "source": [
    "import getpass, sys\n",
    "\n",
    "def question_with_response(prompt):  #defines question_with_response\n",
    "    print(\"Question: \" + prompt) #prints the question to the user\n",
    "    msg = input() #takes the user's input\n",
    "    return msg #returns the user's input as a printed answer\n",
    "\n",
    "def question_and_answer(prompt): \n",
    "    print(\"Question: \" + prompt)  \n",
    "    msg = input()  \n",
    "    print(\"Answer: \" + msg) \n",
    "\n",
    "questions = 8\n",
    "correct = 0\n",
    "\n",
    "print('Hello, ' + getpass.getuser() + \" running \" + sys.executable)\n",
    "print(\"You will be asked \" + str(questions) + \" questions.\") #str(questions) turns the number 8 that is = to questions into a string that can be printed\n",
    "question_and_answer(\"Are you ready to take a test?\")\n",
    "\n",
    "rsp = question_with_response(\"What command is used to include other functions that were previously developed?\") #asks the question in terminal\n",
    "if rsp == \"import\": #verifies the answer by comparing user response to answer\n",
    "    print(rsp + \" is correct!\") #prints \"is correct\" if the rsp was correct\n",
    "    correct += 1\n",
    "else:\n",
    "    print(rsp + \" is incorrect!\")\n",
    "\n",
    "rsp = question_with_response(\"What command is used to evaluate correct or incorrect response in this example?\")\n",
    "if rsp == \"if\":\n",
    "    print(rsp + \" is correct!\")\n",
    "    correct += 1\n",
    "else:\n",
    "    print(rsp + \" is incorrect!\")\n",
    "\n",
    "rsp = question_with_response(\"Each 'if' command contains an '_________' to determine a true or false condition?\")\n",
    "if rsp == \"expression\":\n",
    "    print(rsp + \" is correct!\")\n",
    "    correct += 1\n",
    "else:\n",
    "    print(rsp + \" is incorrect!\")\n",
    "\n",
    "rsp = question_with_response(\"Two or more lines of code is known as a '_______'?\")\n",
    "if rsp == \"sequence\":\n",
    "    print(rsp + \" is correct!\")\n",
    "    correct += 1\n",
    "else:\n",
    "    print(rsp + \" is incorrect!\")\n",
    "\n",
    "rsp = question_with_response(\"What is it called when one groups a sequence of commands that are used repeatesdly?\")\n",
    "if rsp == \"procedural abstraction\":\n",
    "    print(rsp + \" is correct!\")\n",
    "    correct += 1\n",
    "else:\n",
    "    print(rsp + \" is incorrect!\")\n",
    "\n",
    "rsp = question_with_response(\"What key word in python defines a function by defining a group of commands but not intitially running them?\")\n",
    "if rsp == \"def\":\n",
    "    print(rsp + \" is correct!\")\n",
    "    correct += 1\n",
    "else:\n",
    "    print(rsp + \" is incorrect!\")\n",
    "\n",
    "rsp = question_with_response(\"What statement must you use to place variables that are defined as numbers into strings?\")\n",
    "if rsp == \"str()\":\n",
    "    print(rsp + \" is correct!\")\n",
    "    correct += 1\n",
    "else:\n",
    "    print(rsp + \" is incorrect!\")\n",
    "\n",
    "rsp = question_with_response(\"What term is used to refer to the paramater which is a message output to the user to describe the input requested?\")\n",
    "if rsp == \"prompt\":\n",
    "    print(rsp + \" is correct!\")\n",
    "    correct += 1\n",
    "else:\n",
    "    print(rsp + \" is incorrect!\")\n",
    "\n",
    "print(getpass.getuser() + \" you scored \" + str(correct) +\"/\" + str(questions))"
   ]
  }
 ],
 "metadata": {
  "kernelspec": {
   "display_name": "JavaScript (Node.js)",
   "language": "javascript",
   "name": "javascript"
  },
  "language_info": {
   "name": "javascript"
  },
  "orig_nbformat": 4,
  "vscode": {
   "interpreter": {
    "hash": "32ed86b3ffa559bcacbace9601ce361a752c54a5601a76201e2c8b67a3b7e6fb"
   }
  }
 },
 "nbformat": 4,
 "nbformat_minor": 2
}
