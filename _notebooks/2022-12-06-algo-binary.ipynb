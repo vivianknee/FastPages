{
 "cells": [
  {
   "cell_type": "markdown",
   "metadata": {},
   "source": [
    "# Unit 3 Sections 9 and 11\n",
    "- badges: true\n",
    "- toc: true"
   ]
  },
  {
   "cell_type": "markdown",
   "metadata": {},
   "source": [
    "### Developing Algorithms and Binary Search\n",
    "- Algorithms\n",
    "    - Process or set of rules to followed through code\n",
    "    - there are set limitations\n",
    "    - can be written in different ways and still accomplish th same tasks"
   ]
  },
  {
   "cell_type": "code",
   "execution_count": 5,
   "metadata": {},
   "outputs": [
    {
     "name": "stdout",
     "output_type": "stream",
     "text": [
      "Sure I will play outside!\n"
     ]
    }
   ],
   "source": [
    "temp = int(input(\"Select a temperature from 0 to 99 degrees F\"))\n",
    "if (temp >= 90):\n",
    "    print(\"It's too hot outside!\")\n",
    "else:\n",
    "    if (temp >= 65):\n",
    "        print(\"Sure I will play outside!\")\n",
    "    else: \n",
    "        print(\"It is too cold outside!\")"
   ]
  },
  {
   "cell_type": "code",
   "execution_count": 4,
   "metadata": {},
   "outputs": [
    {
     "name": "stdout",
     "output_type": "stream",
     "text": [
      "It's too hot outside!\n",
      "Sure I will play outside!\n"
     ]
    }
   ],
   "source": [
    "temp = int(input(\"Select a temperature from 0 to 99 degrees F\"))\n",
    "if (temp >= 90):\n",
    "    print(\"It's too hot outside!\")\n",
    "if (temp >= 65):\n",
    "    print(\"Sure I will play outside!\")\n",
    "if (temp < 65):\n",
    "    print(\"It is too cold outside!\")"
   ]
  },
  {
   "cell_type": "markdown",
   "metadata": {},
   "source": [
    "- Conditionals vs. Booleans\n",
    "    - condition is a boolean expression when an expression outputs either true or false\n",
    "    - boolean values are another type of data in programming languages. can only hold true or false"
   ]
  },
  {
   "cell_type": "code",
   "execution_count": 6,
   "metadata": {},
   "outputs": [
    {
     "name": "stdout",
     "output_type": "stream",
     "text": [
      "True\n"
     ]
    }
   ],
   "source": [
    "IsHoliday = False\n",
    "IsWeekday = True\n",
    "if IsHoliday:\n",
    "    driveWork = True\n",
    "else: \n",
    "    if IsWeekday: \n",
    "        driveWork = True\n",
    "    else: \n",
    "        driveWork = False\n",
    "print(driveWork)"
   ]
  },
  {
   "attachments": {},
   "cell_type": "markdown",
   "metadata": {},
   "source": [
    "![algo](https://github.com/vivianknee/FastPages/blob/master/images/algo.png?raw=true)"
   ]
  },
  {
   "cell_type": "code",
   "execution_count": 1,
   "metadata": {},
   "outputs": [
    {
     "name": "stdout",
     "output_type": "stream",
     "text": [
      "25\n"
     ]
    }
   ],
   "source": [
    "sum = 1\n",
    "counter = 3\n",
    "loop = 0\n",
    "while (loop < 4):\n",
    "    sum = sum + counter\n",
    "    counter = counter + 2\n",
    "    loop = loop + 1\n",
    "else:\n",
    "    print(sum)"
   ]
  },
  {
   "cell_type": "code",
   "execution_count": 3,
   "metadata": {},
   "outputs": [
    {
     "name": "stdout",
     "output_type": "stream",
     "text": [
      "25\n"
     ]
    }
   ],
   "source": [
    "sum = 0\n",
    "counter = 9\n",
    "\n",
    "while (counter >= 1): \n",
    "    sum = sum + counter\n",
    "    counter = counter - 2\n",
    "print(sum)"
   ]
  },
  {
   "attachments": {},
   "cell_type": "markdown",
   "metadata": {},
   "source": [
    "- Selection\n",
    "    - process used in algorithms where a conditional if statement leads to one of two outcomes\n",
    "- Iteration\n",
    "    - process that allows certain things to happen until a condition is satisfied"
   ]
  },
  {
   "attachments": {},
   "cell_type": "markdown",
   "metadata": {},
   "source": [
    "- Rules for Algorithm to Start (Determining Whether a Number is Even or Odd)\n",
    "    - step/rule 1: start with any positive integer\n",
    "    - step/rule 2: if the preceding term is even; divide by 2\n",
    "    - step/rule 3: if the preceding term is odd; multiply by 3 and add 1\n",
    "    - step/rule 4: repeat steps until you arrive at 1\n",
    "    - fact: the sequence should ALWAYS end up at 1 if repeated."
   ]
  },
  {
   "cell_type": "code",
   "execution_count": 1,
   "metadata": {},
   "outputs": [
    {
     "name": "stdout",
     "output_type": "stream",
     "text": [
      "choose value for x\n",
      "6\n",
      "3.0\n",
      "10.0\n",
      "5.0\n",
      "16.0\n",
      "8.0\n",
      "4.0\n",
      "2.0\n",
      "1.0\n",
      "1.0\n"
     ]
    }
   ],
   "source": [
    "print(\"choose value for x\")\n",
    "\n",
    "varx = int(input(\"Enter any positive Integer\"))\n",
    "\n",
    "print(varx)\n",
    "while varx != 1:\n",
    "\n",
    "    if (varx %2 == 0):\n",
    "        varx = varx/2       \n",
    "        print(varx)                \n",
    "    else:\n",
    "        varx = varx * 3 + 1      \n",
    "        print(varx)              \n",
    "print(varx)  "
   ]
  },
  {
   "attachments": {},
   "cell_type": "markdown",
   "metadata": {},
   "source": [
    "- Binary Search\n",
    "    - search algorithm that finds the position of a target value within a sorted array. \n",
    "    - compares the target value to the middle element of the array. \n",
    "    - An algorithm for iterating to find a value inside a data set\n",
    "    - Binary Search Algorithm starts in the middle of a data set of numbers and eliminates half the data. This process repeats until the desired value is found or until all elements have been eliminated.\n",
    "    - In order to use binary search effectively and properly, data must be stored in order\n",
    "    - COLLEGE BOARD INDEX STARTS AT 1 NOT 0"
   ]
  },
  {
   "attachments": {},
   "cell_type": "markdown",
   "metadata": {},
   "source": [
    "Heres an easy way to put it:\n",
    "- binary search fidns the desired element by continuously chopping the search area in half\n",
    "- say the element you are looking for is 'f'\n",
    "\n",
    "[a b c d e f g h]\n",
    "\n",
    " - We would start in the middle at element 'd'\n",
    " - becuase our target is greater than d we will eliminate everything left of 'd' including 'd' (chopping it in half)\n",
    "\n",
    " [e f g h] is what now remains\n",
    "  - again we would 'chop in half'\n",
    "  - say we iterate through 'g' and 'h', our desired element is still not found so we would eliminate 'g; and 'h' and continue the process\n",
    "\n",
    "  [e f]\n",
    "  - now we are down to 2 elements\n",
    "  - 'chopping in half' will give us our desired element\n",
    "  \n",
    "  [f]"
   ]
  },
  {
   "cell_type": "code",
   "execution_count": null,
   "metadata": {},
   "outputs": [],
   "source": [
    "# Binary Search in python\n",
    "\n",
    "def BinarySearch(array, x, low, high):\n",
    "\n",
    "    # Repeat until the pointers low and high meet each other \n",
    "    while low <= high:\n",
    "\n",
    "        mid = low + (high - low)//2 # find the middle (taking the higest index number plus the lowest and divided by two)\n",
    "\n",
    "        if array[mid] == x: # if desired number is the middle is found return desired number (middle number) \n",
    "            return mid\n",
    "\n",
    "        elif array[mid] < x: \n",
    "            low = mid + 1\n",
    "\n",
    "        else:\n",
    "            high = mid - 1\n",
    "\n",
    "    return -1\n",
    "\n",
    "\n",
    "array = [3, 4, 5, 6, 7, 8, 9]\n",
    "x = 4\n",
    "\n",
    "result = BinarySearch(array, x, 0, len(array)-1)\n",
    "\n",
    "if result != -1:\n",
    "    print(\"Element is present at index \" + str(result))\n",
    "else:\n",
    "    print(\"Not found\")"
   ]
  },
  {
   "cell_type": "markdown",
   "metadata": {},
   "source": [
    "### HW"
   ]
  },
  {
   "attachments": {},
   "cell_type": "markdown",
   "metadata": {},
   "source": [
    "- Binary Search with Iteration\n",
    "    - Compare x with the middle element.\n",
    "    - If x matches with the middle element, we return the mid index.\n",
    "    - Else if x is greater than the mid element, then x can only lie in the right (greater) half subarray after the mid element. Then we apply the algorithm again for the right half.\n",
    "    - Else if x is smaller, the target x must lie in the left (lower) half. So we apply the algorithm for the left half."
   ]
  },
  {
   "cell_type": "code",
   "execution_count": null,
   "metadata": {},
   "outputs": [],
   "source": []
  },
  {
   "attachments": {},
   "cell_type": "markdown",
   "metadata": {},
   "source": [
    "- Flow chart for Situation\n",
    "    - You're playing a short game using a random number generator from 1 to 20\n",
    "    - On each turn, a player will generate 3 random numbers\n",
    "    - They get to keep the highest number that they generate as their score\n",
    "\n",
    "![randomFlow](https://github.com/vivianknee/FastPages/blob/master/images/randomFlow.png?raw=true)"
   ]
  },
  {
   "cell_type": "code",
   "execution_count": 19,
   "metadata": {},
   "outputs": [
    {
     "name": "stdout",
     "output_type": "stream",
     "text": [
      "You rolled the numbers 15, 1, 4. Your score is: 4\n"
     ]
    }
   ],
   "source": [
    "import random\n",
    "Num = []\n",
    "Score = 0\n",
    "\n",
    "num1, num2, num3 = random.sample(range(1, 20), 3) #generates a random number and equates it to num1, num2, and num3\n",
    "Num.extend([str(num1), str(num2), str(num3)]) #adds num1, num2, and num3 to the list ‘Num’\n",
    "newScore = max(Num) #uses max syntax to find the largest number in the list Num\n",
    "print(\"You rolled the numbers \" + str(num1) + \", \" + str(num2) + \", \" + str(num3) + \". Your score is: \" + newScore) ##prints new score\n"
   ]
  }
 ],
 "metadata": {
  "kernelspec": {
   "display_name": "Python 3",
   "language": "python",
   "name": "python3"
  },
  "language_info": {
   "codemirror_mode": {
    "name": "ipython",
    "version": 3
   },
   "file_extension": ".py",
   "mimetype": "text/x-python",
   "name": "python",
   "nbconvert_exporter": "python",
   "pygments_lexer": "ipython3",
   "version": "3.10.5"
  },
  "orig_nbformat": 4,
  "vscode": {
   "interpreter": {
    "hash": "32ed86b3ffa559bcacbace9601ce361a752c54a5601a76201e2c8b67a3b7e6fb"
   }
  }
 },
 "nbformat": 4,
 "nbformat_minor": 2
}
