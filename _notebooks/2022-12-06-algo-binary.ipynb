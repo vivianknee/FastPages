{
 "cells": [
  {
   "attachments": {},
   "cell_type": "markdown",
   "metadata": {},
   "source": [
    "# Unit 3 Sections 9 and 11\n",
    "- badges: true\n",
    "- toc: true\n",
    "- categories: [Student Teaching Portfolio]"
   ]
  },
  {
   "attachments": {},
   "cell_type": "markdown",
   "metadata": {},
   "source": [
    "## Vocab\n",
    "- Algorithms: Process or set of rules to followed through code\n",
    "- condition: is a boolean expression when an expression outputs either true or false\n",
    "- boolean values: are another type of data in programming languages. can only hold true or false\n",
    "- Selection: process used in algorithms where a conditional if statement leads to one of two outcomes\n",
    "- Iteration: process that allows certain things to happen until a condition is satisfied\n",
    "- Binary Search: search algorithm that finds the position of a target value within a sorted array.\n",
    "- Bits: most basic unit of information in computing and digital communications\n",
    "- byte: a group of binary digits or bits (usually eight) operated on as a unit\n",
    "- hexadecimal: relating to or using a system of numerical notation that has 16 rather than 10 as its base."
   ]
  },
  {
   "attachments": {},
   "cell_type": "markdown",
   "metadata": {},
   "source": [
    "## Developing Algorithms and Binary Search\n",
    "- Algorithms\n",
    "    - Process or set of rules to followed through code\n",
    "    - there are set limitations\n",
    "    - can be written in different ways and still accomplish th same tasks"
   ]
  },
  {
   "cell_type": "code",
   "execution_count": 5,
   "metadata": {},
   "outputs": [
    {
     "name": "stdout",
     "output_type": "stream",
     "text": [
      "Sure I will play outside!\n"
     ]
    }
   ],
   "source": [
    "temp = int(input(\"Select a temperature from 0 to 99 degrees F\"))\n",
    "if (temp >= 90):\n",
    "    print(\"It's too hot outside!\")\n",
    "else:\n",
    "    if (temp >= 65):\n",
    "        print(\"Sure I will play outside!\")\n",
    "    else: \n",
    "        print(\"It is too cold outside!\")"
   ]
  },
  {
   "cell_type": "code",
   "execution_count": 4,
   "metadata": {},
   "outputs": [
    {
     "name": "stdout",
     "output_type": "stream",
     "text": [
      "It's too hot outside!\n",
      "Sure I will play outside!\n"
     ]
    }
   ],
   "source": [
    "temp = int(input(\"Select a temperature from 0 to 99 degrees F\"))\n",
    "if (temp >= 90):\n",
    "    print(\"It's too hot outside!\")\n",
    "if (temp >= 65):\n",
    "    print(\"Sure I will play outside!\")\n",
    "if (temp < 65):\n",
    "    print(\"It is too cold outside!\")"
   ]
  },
  {
   "cell_type": "markdown",
   "metadata": {},
   "source": [
    "- Conditionals vs. Booleans\n",
    "    - condition is a boolean expression when an expression outputs either true or false\n",
    "    - boolean values are another type of data in programming languages. can only hold true or false"
   ]
  },
  {
   "cell_type": "code",
   "execution_count": 6,
   "metadata": {},
   "outputs": [
    {
     "name": "stdout",
     "output_type": "stream",
     "text": [
      "True\n"
     ]
    }
   ],
   "source": [
    "IsHoliday = False\n",
    "IsWeekday = True\n",
    "if IsHoliday:\n",
    "    driveWork = True\n",
    "else: \n",
    "    if IsWeekday: \n",
    "        driveWork = True\n",
    "    else: \n",
    "        driveWork = False\n",
    "print(driveWork)"
   ]
  },
  {
   "attachments": {},
   "cell_type": "markdown",
   "metadata": {},
   "source": [
    "![algo](https://github.com/vivianknee/FastPages/blob/master/images/algo.png?raw=true)"
   ]
  },
  {
   "cell_type": "code",
   "execution_count": 1,
   "metadata": {},
   "outputs": [
    {
     "name": "stdout",
     "output_type": "stream",
     "text": [
      "25\n"
     ]
    }
   ],
   "source": [
    "sum = 1\n",
    "counter = 3\n",
    "loop = 0\n",
    "while (loop < 4):\n",
    "    sum = sum + counter\n",
    "    counter = counter + 2\n",
    "    loop = loop + 1\n",
    "else:\n",
    "    print(sum)"
   ]
  },
  {
   "cell_type": "code",
   "execution_count": 3,
   "metadata": {},
   "outputs": [
    {
     "name": "stdout",
     "output_type": "stream",
     "text": [
      "25\n"
     ]
    }
   ],
   "source": [
    "sum = 0\n",
    "counter = 9\n",
    "\n",
    "while (counter >= 1): \n",
    "    sum = sum + counter\n",
    "    counter = counter - 2\n",
    "print(sum)"
   ]
  },
  {
   "attachments": {},
   "cell_type": "markdown",
   "metadata": {},
   "source": [
    "- Selection\n",
    "    - process used in algorithms where a conditional if statement leads to one of two outcomes\n",
    "- Iteration\n",
    "    - process that allows certain things to happen until a condition is satisfied"
   ]
  },
  {
   "attachments": {},
   "cell_type": "markdown",
   "metadata": {},
   "source": [
    "- Algorithm to Start (Determining Whether a Number is Even or Odd)"
   ]
  },
  {
   "attachments": {},
   "cell_type": "markdown",
   "metadata": {},
   "source": [
    "- Binary Search\n",
    "    - search algorithm that finds the position of a target value within a sorted array. \n",
    "    - Binary search compares the target value to the middle element of the array.\n",
    "    - An algorithm for iterating to find a value inside a data set\n",
    "    - starts in the middle of a data set of numbers and eliminates half the data. This process repeats until the desired value is found or until all elements have been eliminated.\n",
    "    - In order to use binary search effectively and properly, data must be stored in order\n",
    "    - COLLEGE BOARD INDEX STARTS AT 1 NOT 0"
   ]
  },
  {
   "cell_type": "code",
   "execution_count": null,
   "metadata": {},
   "outputs": [],
   "source": [
    "def BinarySearch(array, x, low, high):\n",
    "\n",
    "    # Repeat until the pointers low and high meet each other \n",
    "    while low <= high:\n",
    "\n",
    "        mid = low + (high - low)//2 # find the middle (taking the higest index number plus the lowest and divided by two)\n",
    "\n",
    "        if array[mid] == x: # if desired number is the middle is found return desired number (middle number) \n",
    "            return mid\n",
    "\n",
    "        elif array[mid] < x: \n",
    "            low = mid + 1\n",
    "\n",
    "        else:\n",
    "            high = mid - 1\n",
    "\n",
    "    return -1\n",
    "\n",
    "\n",
    "array = [3, 4, 5, 6, 7, 8, 9]\n",
    "x = 4\n",
    "\n",
    "result = BinarySearch(array, x, 0, len(array)-1)\n",
    "\n",
    "if result != -1:\n",
    "    print(\"Element is present at index \" + str(result))\n",
    "else:\n",
    "    print(\"Not found\")"
   ]
  },
  {
   "attachments": {},
   "cell_type": "markdown",
   "metadata": {},
   "source": [
    "## HW"
   ]
  },
  {
   "attachments": {},
   "cell_type": "markdown",
   "metadata": {},
   "source": [
    "- Binary Search with Iteration\n",
    "    - Compare x with the middle element.\n",
    "    - If x matches with the middle element, we return the mid index.\n",
    "    - Else if x is greater than the mid element, then x can only lie in the right (greater) half sub-array after the mid element. Then we apply the algorithm again for the right half.\n",
    "    - Else if x is smaller, the target x must lie in the left (lower) half. So we apply the algorithm for the left half."
   ]
  },
  {
   "cell_type": "code",
   "execution_count": 4,
   "metadata": {},
   "outputs": [
    {
     "name": "stdout",
     "output_type": "stream",
     "text": [
      "Found at position :  6\n"
     ]
    }
   ],
   "source": [
    "def binary_search(arr, x):\n",
    "    low = 0\n",
    "    high = len(arr)-1\n",
    "    mid = 0\n",
    "\n",
    "    if low<=high:\n",
    "        mid = (low + high) // 2 #integer part\n",
    "        \n",
    "        if x == arr[mid]:\n",
    "            return mid\n",
    "        elif x < arr[mid]:\n",
    "            high = mid - 1\n",
    "            return high\n",
    "        else:\n",
    "            low = mid + 1\n",
    "            return low\n",
    "    else:\n",
    "        return -1\n",
    "\n",
    "arr = [1,2,3,4,5,6,7,8,9,10,11]\n",
    "x = 11\n",
    "\n",
    "result = binary_search(arr, x)\n",
    "\n",
    "if result != -1:\n",
    "    print(\"Found at position : \",str(result))\n",
    "else:\n",
    "    print(\"Not in the array!\")"
   ]
  },
  {
   "attachments": {},
   "cell_type": "markdown",
   "metadata": {},
   "source": [
    "- FlowChart for Situation\n",
    "    - You're playing a short game using a random number generator from 1 to 20\n",
    "    - On each turn, a player will generate 3 random numbers\n",
    "    - They get to keep the highest number that they generate as their score\n",
    "\n",
    "<a href=\"https://docs.google.com/drawings/d/1_cPj4VegdhM9HvCq8o0PEbi6QhlcjS_8MHo2i8su0xA/edit?usp=sharing\">Link to Google Drawing</a>\n",
    "\n",
    "![googleDrawing](https://github.com/vivianknee/FastPages/blob/master/images/googleDrawing.png?raw=true)"
   ]
  },
  {
   "cell_type": "code",
   "execution_count": 26,
   "metadata": {},
   "outputs": [
    {
     "name": "stdout",
     "output_type": "stream",
     "text": [
      "You rolled the numbers ['12', '2', '4']. Your score is: 12\n"
     ]
    }
   ],
   "source": [
    "import random\n",
    "Num = []\n",
    "Score = 0\n",
    "\n",
    "num1, num2, num3 = random.sample(range(1, 20), 3) #generates a random number and equates it to num1, num2, and num3\n",
    "Num.extend([str(num1), str(num2), str(num3)]) #adds num1, num2, and num3 to the list ‘Num’\n",
    "\n",
    "for i in Num: #iterates through each number in the list Num\n",
    "    newScore = (max(map(int, Num))) #map makes the list a list of integers. uses max syntax to find the largest number in the list Num. \n",
    "\n",
    "print(\"You rolled the numbers \" + str(Num) + \". Your score is: \" + str(newScore)) ##prints new score\n"
   ]
  }
 ],
 "metadata": {
  "kernelspec": {
   "display_name": "Python 3.8.10 64-bit",
   "language": "python",
   "name": "python3"
  },
  "language_info": {
   "codemirror_mode": {
    "name": "ipython",
    "version": 3
   },
   "file_extension": ".py",
   "mimetype": "text/x-python",
   "name": "python",
   "nbconvert_exporter": "python",
   "pygments_lexer": "ipython3",
   "version": "3.8.10 (default, Jun 22 2022, 20:18:18) \n[GCC 9.4.0]"
  },
  "orig_nbformat": 4,
  "vscode": {
   "interpreter": {
    "hash": "916dbcbb3f70747c44a77c7bcd40155683ae19c65e1c03b4aa3499c5328201f1"
   }
  }
 },
 "nbformat": 4,
 "nbformat_minor": 2
}
