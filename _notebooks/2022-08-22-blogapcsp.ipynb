{
 "cells": [
  {
   "cell_type": "markdown",
   "metadata": {},
   "source": [
    "# APCSP Blog-The Process and Progress\n",
    ">This notebook will follow my APCSP journey. Covering packages, code, setup, and more.\n",
    "\n",
    "- badges: true\n",
    "- comments: true\n",
    "- categories: [jupyter]"
   ]
  },
  {
   "cell_type": "markdown",
   "metadata": {},
   "source": [
    "## Using the Python command: print"
   ]
  },
  {
   "cell_type": "code",
   "execution_count": 2,
   "metadata": {
    "vscode": {
     "languageId": "shellscript"
    }
   },
   "outputs": [
    {
     "name": "stdout",
     "output_type": "stream",
     "text": [
      "This took a lot of unnecessary sweat, blood, and tears to set up\n"
     ]
    }
   ],
   "source": [
    "msg = \"This took a lot of unnecessary sweat, blood, and tears to set up\"\n",
    "print(msg)"
   ]
  },
  {
   "cell_type": "markdown",
   "metadata": {},
   "source": [
    "## Python Quiz\n",
    ">This code ask questions and provide answers."
   ]
  },
  {
   "cell_type": "code",
   "execution_count": null,
   "metadata": {
    "vscode": {
     "languageId": "shellscript"
    }
   },
   "outputs": [],
   "source": [
    "import getpass, sys\n",
    "\n",
    "def question_with_response(prompt):\n",
    "    print(\"Question: \" + prompt)\n",
    "    msg = input()\n",
    "    return msg\n",
    "\n",
    "questions = 8\n",
    "correct = 0\n",
    "\n",
    "print('Hello, ' + getpass.getuser() + \" running \" + sys.executable)\n",
    "print(\"You will be asked \" + str(questions) + \" questions.\")\n",
    "#question_and_answer(\"Are you ready to take a test?\")\n",
    "\n",
    "rsp = question_with_response(\"What command is used to include other functions that were previously developed?\")\n",
    "if rsp == \"import\":\n",
    "    print(rsp + \" is correct!\")\n",
    "    correct += 1\n",
    "else:\n",
    "    print(rsp + \" is incorrect!\")\n",
    "\n",
    "rsp = question_with_response(\"What command is used to evaluate correct or incorrect response in this example?\")\n",
    "if rsp == \"if\":\n",
    "    print(rsp + \" is correct!\")\n",
    "    correct += 1\n",
    "else:\n",
    "    print(rsp + \" is incorrect!\")\n",
    "\n",
    "rsp = question_with_response(\"Each 'if' command contains an '_________' to determine a true or false condition?\")\n",
    "if rsp == \"expression\":\n",
    "    print(rsp + \" is correct!\")\n",
    "    correct += 1\n",
    "else:\n",
    "    print(rsp + \" is incorrect!\")\n",
    "rsp = question_with_response(\"Two or more lines of code is known as a '_______'?\")\n",
    "if rsp == \"sequence\":\n",
    "    print(rsp + \" is correct!\")\n",
    "    correct += 1\n",
    "else:\n",
    "    print(rsp + \" is incorrect!\")\n",
    "\n",
    "rsp = question_with_response(\"What is it called when one groups a sequence of commands that are used repeatesdly?\")\n",
    "if rsp == \"procedural abstraction\":\n",
    "    print(rsp + \" is correct!\")\n",
    "    correct += 1\n",
    "else:\n",
    "    print(rsp + \" is incorrect!\")\n",
    "\n",
    "rsp = question_with_response(\"What key word in python defines a function by defining a group of commands but not intitially running them?\")\n",
    "if rsp == \"def\":\n",
    "    print(rsp + \" is correct!\")\n",
    "    correct += 1\n",
    "else:\n",
    "    print(rsp + \" is incorrect!\")\n",
    "rsp = question_with_response(\"What statement must you use to place variables that are defined as numbers into strings?\")\n",
    "if rsp == \"str()\":\n",
    "    print(rsp + \" is correct!\")\n",
    "    correct += 1\n",
    "else:\n",
    "    print(rsp + \" is incorrect!\")\n",
    "\n",
    "rsp = question_with_response(\"What term is used to refer to the paramater which is a message output to the user to describe the input requested?\")\n",
    "if rsp == \"prompt\":\n",
    "    print(rsp + \" is correct!\")\n",
    "    correct += 1\n",
    "else:\n",
    "    print(rsp + \" is incorrect!\")\n",
    "\n",
    "print(getpass.getuser() + \" you scored \" + str(correct) +\"/\" + str(questions))"
   ]
  },
  {
   "cell_type": "markdown",
   "metadata": {},
   "source": [
    "## Tool Check\n",
    ">This code will run to see if I have all the necessary packages installed. These tools include java, javascript, python, bash, and conda. "
   ]
  },
  {
   "cell_type": "markdown",
   "metadata": {},
   "source": [
    "`python`"
   ]
  },
  {
   "cell_type": "code",
   "execution_count": 6,
   "metadata": {
    "vscode": {
     "languageId": "shellscript"
    }
   },
   "outputs": [
    {
     "name": "stdout",
     "output_type": "stream",
     "text": [
      "Python Check\n",
      "  python3       /home/vivian/.local/share/jupyter/kernels/python3\n"
     ]
    }
   ],
   "source": [
    "# test for a kernel installation\n",
    "echo Python Check \n",
    "test=\"python3\" # keyword\n",
    "check=`jupyter kernelspec list | grep $test` # run command\n",
    "n=${#check} # determine length\n",
    "\n",
    "if [[ ${n} > 0 ]];  # testt length\n",
    "then # greater than zero\n",
    "    echo \"$check\"\n",
    "else # less than zero\n",
    "    echo \"$test not found\"\n",
    "fi"
   ]
  },
  {
   "cell_type": "markdown",
   "metadata": {},
   "source": [
    "`conda`"
   ]
  },
  {
   "cell_type": "code",
   "execution_count": 5,
   "metadata": {
    "vscode": {
     "languageId": "shellscript"
    }
   },
   "outputs": [
    {
     "name": "stdout",
     "output_type": "stream",
     "text": [
      "Conda Check\n",
      "jupyter                   1.0.0            py39h06a4308_7  \n",
      "jupyter_client            6.1.12             pyhd3eb1b0_0  \n",
      "jupyter_console           6.4.0              pyhd3eb1b0_0  \n",
      "jupyter_core              4.9.2            py39h06a4308_0  \n",
      "jupyter_server            1.13.5             pyhd3eb1b0_0  \n",
      "jupyterlab                3.3.2              pyhd3eb1b0_0  \n",
      "jupyterlab_pygments       0.1.2                      py_0  \n",
      "jupyterlab_server         2.10.3             pyhd3eb1b0_1  \n",
      "jupyterlab_widgets        1.0.0              pyhd3eb1b0_1  \n"
     ]
    }
   ],
   "source": [
    "echo Conda Check\n",
    "# test for a kernel installation\n",
    "test=\"jupyter\" # keyword\n",
    "check=`conda list | grep $test` # run command\n",
    "n=${#check} # determine length\n",
    "\n",
    "if [[ ${n} > 0 ]];  # testt length\n",
    "then # greater than zero\n",
    "    echo \"$check\"\n",
    "else # less than zero\n",
    "    echo \"$test not found\"\n",
    "fi"
   ]
  },
  {
   "cell_type": "markdown",
   "metadata": {},
   "source": [
    "`java and javascript`"
   ]
  },
  {
   "cell_type": "code",
   "execution_count": 8,
   "metadata": {
    "vscode": {
     "languageId": "shellscript"
    }
   },
   "outputs": [
    {
     "name": "stdout",
     "output_type": "stream",
     "text": [
      "Java Check\n",
      "  java          /home/vivian/.local/share/jupyter/kernels/java\n",
      "  javascript    /home/vivian/.local/share/jupyter/kernels/javascript\n"
     ]
    }
   ],
   "source": [
    "echo Java Check\n",
    "# test for a kernel installation\n",
    "test=\"java\" # keyword\n",
    "check=`jupyter kernelspec list | grep $test` # run command\n",
    "n=${#check} # determine length\n",
    "\n",
    "if [[ ${n} > 0 ]];  # testt length\n",
    "then # greater than zero\n",
    "    echo \"$check\"\n",
    "else # less than zero\n",
    "    echo \"$test not found\"\n",
    "fi"
   ]
  }
 ],
 "metadata": {
  "kernelspec": {
   "display_name": "Python 3.10.5 64-bit",
   "language": "python",
   "name": "python3"
  },
  "language_info": {
   "codemirror_mode": {
    "name": "ipython",
    "version": 3
   },
   "file_extension": ".py",
   "mimetype": "text/x-python",
   "name": "python",
   "nbconvert_exporter": "python",
   "pygments_lexer": "ipython3",
   "version": "3.10.5"
  },
  "orig_nbformat": 4,
  "vscode": {
   "interpreter": {
    "hash": "32ed86b3ffa559bcacbace9601ce361a752c54a5601a76201e2c8b67a3b7e6fb"
   }
  }
 },
 "nbformat": 4,
 "nbformat_minor": 2
}
