{
 "cells": [
  {
   "attachments": {},
   "cell_type": "markdown",
   "metadata": {},
   "source": [
    "# Unit 3 Sections 12 and 13\n",
    "- badges: true\n",
    "- toc: true"
   ]
  },
  {
   "attachments": {},
   "cell_type": "markdown",
   "metadata": {},
   "source": [
    "- Calling and Developing Procedures\n",
    "    - **procedure**: named group of programming instructions that may have parameters and return values\n",
    "        - can be referred to as **method** or **function**\n",
    "    - Parameters: input values of a procedure\n",
    "    - **Arguments**: specify the values of the parameters when a procedure is called \n",
    "    - Procedure calls\n",
    "        - interrupts the **sequential** execution of statements causing the program to execute the statements within the procedure before continuing. One the last statement in the procedure (or a return statement) has executed, flow or control is returned to the point immediately following where the procedure was **called**.\n",
    "        - consider whether the call returns data or a block of **statements**\n",
    "            -block of statements: call the procedure by referring to the procedure name and **inputting** the arguments\n",
    "            - Data(**boolean or value**): assign that value to a variable\n",
    "    "
   ]
  },
  {
   "attachments": {},
   "cell_type": "markdown",
   "metadata": {},
   "source": [
    "- Problem 1\n",
    "    - convert **pseudo** code to python\n",
    "    - procedure **convertFahrenheit** converts fahrenheit to celsius"
   ]
  },
  {
   "cell_type": "code",
   "execution_count": 1,
   "metadata": {},
   "outputs": [
    {
     "name": "stdout",
     "output_type": "stream",
     "text": [
      "7.280000000000001\n"
     ]
    }
   ],
   "source": [
    "def convertFahrenheit(temperature):\n",
    "    celsius = temperature - 32\n",
    "    celsius = celsius * 0.56\n",
    "    return celsius\n",
    "\n",
    "outsideTemp = input(\"what is the temperature outside?\")\n",
    "outsideTemp = (convertFahrenheit(int(outsideTemp)))\n",
    "print(outsideTemp)"
   ]
  },
  {
   "attachments": {},
   "cell_type": "markdown",
   "metadata": {},
   "source": [
    "- Developing procedures\n",
    "    - Two Types of Procedures\n",
    "        - one that returns a value\n",
    "        - on that executes a block of statements\n",
    "    - important to pick a **descriptive** name\n",
    "    - steps: picking a good name, thinking of parameters, making a flowchart, develop procedure"
   ]
  },
  {
   "attachments": {},
   "cell_type": "markdown",
   "metadata": {},
   "source": [
    "- Writing Procedures Activity"
   ]
  },
  {
   "cell_type": "code",
   "execution_count": 25,
   "metadata": {},
   "outputs": [
    {
     "name": "stdout",
     "output_type": "stream",
     "text": [
      "your new grade is: 100.0\n"
     ]
    }
   ],
   "source": [
    "quizGrade = 32\n",
    "def currentGrade(currentPoints):    \n",
    "    currentGrade = currentPoints / 40\n",
    "    currentGrade = currentGrade * 100\n",
    "    return currentGrade\n",
    "\n",
    "newPoints = int(input(\"how many points do you currently have?\"))\n",
    "newPercent = (currentGrade(int(newPoints)))\n",
    "\n",
    "if (newPoints > quizGrade):\n",
    "    newquizGrade = newPercent\n",
    "    print(\"your new grade is: \" + str(newquizGrade))\n",
    "else:\n",
    "    print(\"your score is still \" + str(quizGrade))"
   ]
  },
  {
   "attachments": {},
   "cell_type": "markdown",
   "metadata": {},
   "source": [
    "- Procedural Abstraction\n",
    "    - one type of abstraction is **procedural**: provides a name for a process and allows a procedure to be used only knowing what it does and not how it does it\n",
    "        - helpful for managing **complexity**\n",
    "    -Subdivision of a program into separate subprograms is called **modularity**\n",
    "    - may **extract** shared features to generalize functionality instead of duplicating code\n",
    "        - allows for program reuse, which helps manage complexity\n",
    "    - naming and calling a **pre-written** procedure\n",
    "    - include the right arguments so the **procedure** can do what its supposed to do"
   ]
  },
  {
   "attachments": {},
   "cell_type": "markdown",
   "metadata": {},
   "source": [
    "## HW"
   ]
  },
  {
   "cell_type": "code",
   "execution_count": null,
   "metadata": {},
   "outputs": [],
   "source": []
  }
 ],
 "metadata": {
  "kernelspec": {
   "display_name": "Python 3",
   "language": "python",
   "name": "python3"
  },
  "language_info": {
   "codemirror_mode": {
    "name": "ipython",
    "version": 3
   },
   "file_extension": ".py",
   "mimetype": "text/x-python",
   "name": "python",
   "nbconvert_exporter": "python",
   "pygments_lexer": "ipython3",
   "version": "3.8.10"
  },
  "orig_nbformat": 4,
  "vscode": {
   "interpreter": {
    "hash": "916dbcbb3f70747c44a77c7bcd40155683ae19c65e1c03b4aa3499c5328201f1"
   }
  }
 },
 "nbformat": 4,
 "nbformat_minor": 2
}
