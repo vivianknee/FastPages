{
 "cells": [
  {
   "attachments": {},
   "cell_type": "markdown",
   "metadata": {},
   "source": [
    "# Unit 3 Sections 16 \n",
    "- badges: true\n",
    "- toc: true"
   ]
  },
  {
   "attachments": {},
   "cell_type": "markdown",
   "metadata": {},
   "source": [
    "## Vocab\n",
    "- Simulation: a tested scenario used for viewing results/outputs to prepare for them in real world situations "
   ]
  },
  {
   "attachments": {},
   "cell_type": "markdown",
   "metadata": {},
   "source": [
    "## Simulations\n",
    "- Simulation \n",
    "    - a tested scenario used for viewing results/outputs to prepare for them in real world situations \n",
    "    - Can be used for games like dice rolling, spinners, etc \n",
    "    - Can be used for practical things such as building structures, testing car crashes, and other things before engaging in them in the real world \n",
    "    - Can have the option of obeying real world physics (Gravity, collision) or they can go against these norms since this is a fictitious scenario, and couldn't happen in real life\n",
    "\n"
   ]
  },
  {
   "attachments": {},
   "cell_type": "markdown",
   "metadata": {},
   "source": [
    "- Big Questions\n",
    "    - Which of the following simulations could be the LEAST useful? \n",
    "        - A retailer trying to identify which products sold the most (correct!)\n",
    "        - A restaurant determining the efficiency of robots \n",
    "        - An insurance company studying the rain impact of cars \n",
    "        - A sports bike company studying design changes to their new bike design \n",
    "    - If you were making a simulation for making a new train station, which of the following would be true about this simulation? \n",
    "        - It could reveal potential problems/safety issues before construction starts (correct!) \n",
    "        - It cannot be used to test the train station in different weather \n",
    "        - Simulation will add high costs to projects \n",
    "        - Simulation is not needed because this train station already exists \n",
    "     "
   ]
  },
  {
   "attachments": {},
   "cell_type": "markdown",
   "metadata": {},
   "source": [
    "- Simulation 1\n",
    "    - Both programs below do the same thing. Given a height and a weight, they calculate how long it will take for a object to fall to the ground in a vacuum subjected to normal Earth levels of gravity. \n",
    "    - However, the second one is a simulation. It calculates the distance the object has fallen every 0.1 seconds. This is useful for if you wanted a visual representation of a falling object, which pure math can't do as smoothly. "
   ]
  },
  {
   "cell_type": "code",
   "execution_count": 1,
   "metadata": {},
   "outputs": [
    {
     "name": "stdout",
     "output_type": "stream",
     "text": [
      "It will take 1.2777531299998797 seconds for an object that weighs 9 pounds to fall  8.0 meters in a vacuum\n"
     ]
    }
   ],
   "source": [
    "height = float(input(\"height in meters?\"))\n",
    "\n",
    "weight = input(\"weight in pounds?\")\n",
    "\n",
    "stuff = (2 * (height / 9.8))**(1/2)\n",
    "\n",
    "print(\"It will take\", stuff,\"seconds for an object that weighs\",weight,\"pounds\",\"to fall \",height,\"meters in a vacuum\")"
   ]
  },
  {
   "cell_type": "code",
   "execution_count": 2,
   "metadata": {},
   "outputs": [
    {
     "name": "stdout",
     "output_type": "stream",
     "text": [
      "1.3\n",
      "8.281\n"
     ]
    }
   ],
   "source": [
    "t = 0\n",
    "g = 0\n",
    "d = 0\n",
    "false = True\n",
    "while false:\n",
    "    t = t + 0.1\n",
    "    d = 9.8 / 2 * (t**2)\n",
    "    if d >= height:\n",
    "        false = False\n",
    "    #print(d) # if you want to print the distance every time it calculates it. Too long to output to a terminal, but this could be useful to display graphically. \n",
    "    #print(t)\n",
    "\n",
    "print(t)\n",
    "print(d)"
   ]
  },
  {
   "attachments": {},
   "cell_type": "markdown",
   "metadata": {},
   "source": [
    "- Simulation 2\n",
    "    - This simulation is made in order to simulate movement on a 2d plane vs a 3d plane.  \n",
    "    - How it works: we have multiple variables, if statements and equations under a while command in order to random generate steps on a 2d plane. Once it reaches the set destination, it will say that the man made it home after x amount of steps. \n",
    "    - For the 3D plane, it takes a lot longer due to how big and open the 3d environment is, so there are more if statements in the 3d plane"
   ]
  },
  {
   "cell_type": "code",
   "execution_count": null,
   "metadata": {},
   "outputs": [],
   "source": [
    "import random\n",
    "x = 0\n",
    "y = 0\n",
    "nights = 0\n",
    "turn = 0\n",
    "stopped = 0\n",
    "turns = []\n",
    "\n",
    "while (nights < 100):\n",
    "    step = random.randrange(4)\n",
    "    if step == 0:\n",
    "        x = x+1\n",
    "    if step == 1:\n",
    "        x = x-1\n",
    "    if step == 2:\n",
    "        y = y+1\n",
    "    if step == 3:\n",
    "        y = y-1\n",
    "\n",
    "    turn = turn + 1\n",
    "\n",
    "    if x == 0 and y == 0:\n",
    "        nights = nights + 1\n",
    "        print(\"The Man Has Made It Home After \", turn, \"Turns\")\n",
    "        turns.append(turn)\n",
    "        turn = 0\n",
    "    if turn/1000 % 1000 == 0 and x + y != 0:\n",
    "        print(\"(\", x,y, \")\")\n",
    "    if (turn > 10000000):\n",
    "        stopped = stopped + 1\n",
    "        turn = 0\n",
    "        x = 0\n",
    "        y = 0\n",
    "        nights = nights + 1\n",
    "        print(\"Caped\")\n",
    "\n",
    "average = sum(turns) / len(turns)\n",
    "print(\"Average\", average, \"Ones that when't too long \", stopped)"
   ]
  },
  {
   "cell_type": "code",
   "execution_count": null,
   "metadata": {},
   "outputs": [],
   "source": [
    "import random\n",
    "x = 0\n",
    "y = 0\n",
    "z = 0\n",
    "nights = 0\n",
    "turn = 0\n",
    "stopped = 0\n",
    "turns = []\n",
    "\n",
    "while (nights < 100):\n",
    "    #random movement\n",
    "    step = random.randrange(6)\n",
    "    if step == 0:\n",
    "        x = x+1\n",
    "    if step == 1:\n",
    "        x = x-1\n",
    "    if step == 2:\n",
    "        y = y+1\n",
    "    if step == 3:\n",
    "        y = y-1\n",
    "    if step == 4:\n",
    "        z = z+1\n",
    "    if step == 5:\n",
    "        z = z-1\n",
    "    #Turn counter\n",
    "    turn = turn + 1\n",
    "    #Goal check\n",
    "    if x == 0 and y == 0 and z == 0:\n",
    "        nights = nights + 1\n",
    "        print(\"The Bird Has Made It Home After \", turn, \"Turns\")\n",
    "        turns.append(turn)\n",
    "        turn = 0\n",
    "    if turn/1000 % 1000 == 0 and x + y + z != 0:\n",
    "        print(\"(\", x,y, \") \",\"| \", z)\n",
    "    #Too long Stopper\n",
    "    if (turn > 10000000):\n",
    "        stopped = stopped + 1\n",
    "        turn = 0\n",
    "        x = 0\n",
    "        y = 0\n",
    "        z = 0\n",
    "        nights = nights + 1\n",
    "        print(\"Caped\")\n",
    "\n",
    "average = sum(turns) / len(turns)\n",
    "print(\"Average\", average,\"Ones that when't too long \", stopped)"
   ]
  },
  {
   "attachments": {},
   "cell_type": "markdown",
   "metadata": {},
   "source": [
    "## HW\n",
    "- Create a simulation. It can be anything, just has to simulate something"
   ]
  },
  {
   "cell_type": "code",
   "execution_count": 16,
   "metadata": {},
   "outputs": [
    {
     "name": "stdout",
     "output_type": "stream",
     "text": [
      "Welcome to my stock simulation. You will start with $1000. The goal is to reach $1,000,000 in the least amount of weeks. Test how good your strategies are! If you lose half of the initial investment, YOU LOSE, simulation over.\n",
      "Winning trade! Accumulated profit: 1130.0 Trade count: 1\n",
      "Winning trade! Accumulated profit: 1265.6 Trade count: 2\n",
      "Winning trade! Accumulated profit: 1442.78 Trade count: 3\n",
      "Losing trade! Accumulated profit: 1399.5 Trade count: 4\n",
      "Losing trade! Accumulated profit: 1329.53 Trade count: 5\n",
      "Winning trade! Accumulated profit: 1515.66 Trade count: 6\n",
      "Winning trade! Accumulated profit: 1667.22 Trade count: 7\n",
      "Winning trade! Accumulated profit: 1833.95 Trade count: 8\n",
      "Winning trade! Accumulated profit: 2072.36 Trade count: 9\n",
      "Winning trade! Accumulated profit: 2362.49 Trade count: 10\n",
      "Winning trade! Accumulated profit: 2716.86 Trade count: 11\n",
      "Winning trade! Accumulated profit: 3097.23 Trade count: 12\n",
      "Losing trade! Accumulated profit: 2973.34 Trade count: 13\n",
      "Winning trade! Accumulated profit: 3330.14 Trade count: 14\n",
      "Winning trade! Accumulated profit: 3763.05 Trade count: 15\n",
      "Losing trade! Accumulated profit: 3650.16 Trade count: 16\n",
      "Winning trade! Accumulated profit: 4124.68 Trade count: 17\n",
      "Winning trade! Accumulated profit: 4537.15 Trade count: 18\n",
      "Losing trade! Accumulated profit: 4310.3 Trade count: 19\n",
      "Winning trade! Accumulated profit: 4956.84 Trade count: 20\n",
      "Winning trade! Accumulated profit: 5700.37 Trade count: 21\n",
      "Losing trade! Accumulated profit: 5529.35 Trade count: 22\n",
      "Winning trade! Accumulated profit: 6358.76 Trade count: 23\n",
      "Winning trade! Accumulated profit: 7312.57 Trade count: 24\n",
      "Winning trade! Accumulated profit: 8043.83 Trade count: 25\n",
      "Losing trade! Accumulated profit: 7641.64 Trade count: 26\n",
      "Winning trade! Accumulated profit: 8787.88 Trade count: 27\n",
      "Winning trade! Accumulated profit: 10018.19 Trade count: 28\n",
      "Winning trade! Accumulated profit: 11220.37 Trade count: 29\n",
      "Losing trade! Accumulated profit: 10659.35 Trade count: 30\n",
      "Winning trade! Accumulated profit: 11938.47 Trade count: 31\n",
      "Winning trade! Accumulated profit: 13132.32 Trade count: 32\n",
      "Winning trade! Accumulated profit: 15102.17 Trade count: 33\n",
      "Winning trade! Accumulated profit: 17216.47 Trade count: 34\n",
      "Losing trade! Accumulated profit: 16699.98 Trade count: 35\n",
      "Winning trade! Accumulated profit: 19037.97 Trade count: 36\n",
      "Losing trade! Accumulated profit: 18276.45 Trade count: 37\n",
      "Winning trade! Accumulated profit: 20835.16 Trade count: 38\n",
      "Losing trade! Accumulated profit: 20418.46 Trade count: 39\n",
      "Winning trade! Accumulated profit: 23072.85 Trade count: 40\n",
      "Losing trade! Accumulated profit: 22611.4 Trade count: 41\n",
      "Winning trade! Accumulated profit: 25324.77 Trade count: 42\n",
      "Winning trade! Accumulated profit: 28870.23 Trade count: 43\n",
      "Losing trade! Accumulated profit: 28004.13 Trade count: 44\n",
      "Losing trade! Accumulated profit: 26883.96 Trade count: 45\n",
      "Winning trade! Accumulated profit: 30110.04 Trade count: 46\n",
      "Winning trade! Accumulated profit: 34626.54 Trade count: 47\n",
      "Winning trade! Accumulated profit: 38089.19 Trade count: 48\n",
      "Winning trade! Accumulated profit: 41898.11 Trade count: 49\n",
      "Winning trade! Accumulated profit: 46506.91 Trade count: 50\n",
      "Winning trade! Accumulated profit: 52087.74 Trade count: 51\n",
      "Losing trade! Accumulated profit: 50004.23 Trade count: 52\n",
      "Winning trade! Accumulated profit: 56004.73 Trade count: 53\n",
      "Losing trade! Accumulated profit: 54884.64 Trade count: 54\n",
      "Losing trade! Accumulated profit: 53238.1 Trade count: 55\n",
      "Winning trade! Accumulated profit: 60159.05 Trade count: 56\n",
      "Losing trade! Accumulated profit: 58354.28 Trade count: 57\n",
      "Winning trade! Accumulated profit: 65356.79 Trade count: 58\n",
      "Winning trade! Accumulated profit: 73853.18 Trade count: 59\n",
      "Winning trade! Accumulated profit: 84192.62 Trade count: 60\n",
      "Losing trade! Accumulated profit: 79982.99 Trade count: 61\n",
      "Winning trade! Accumulated profit: 91180.61 Trade count: 62\n",
      "Losing trade! Accumulated profit: 88445.19 Trade count: 63\n",
      "Losing trade! Accumulated profit: 84022.93 Trade count: 64\n",
      "Winning trade! Accumulated profit: 96626.37 Trade count: 65\n",
      "Winning trade! Accumulated profit: 108221.54 Trade count: 66\n",
      "Winning trade! Accumulated profit: 120125.91 Trade count: 67\n",
      "Losing trade! Accumulated profit: 116522.13 Trade count: 68\n",
      "Winning trade! Accumulated profit: 129339.56 Trade count: 69\n",
      "Losing trade! Accumulated profit: 122872.59 Trade count: 70\n",
      "Winning trade! Accumulated profit: 137617.3 Trade count: 71\n",
      "Losing trade! Accumulated profit: 134864.95 Trade count: 72\n",
      "Winning trade! Accumulated profit: 152397.39 Trade count: 73\n",
      "Winning trade! Accumulated profit: 173733.03 Trade count: 74\n",
      "Winning trade! Accumulated profit: 191106.33 Trade count: 75\n",
      "Losing trade! Accumulated profit: 185373.14 Trade count: 76\n",
      "Winning trade! Accumulated profit: 213179.11 Trade count: 77\n",
      "Winning trade! Accumulated profit: 245155.98 Trade count: 78\n",
      "Losing trade! Accumulated profit: 232898.18 Trade count: 79\n",
      "Losing trade! Accumulated profit: 221253.27 Trade count: 80\n",
      "Winning trade! Accumulated profit: 254441.26 Trade count: 81\n",
      "Winning trade! Accumulated profit: 279885.39 Trade count: 82\n",
      "Winning trade! Accumulated profit: 307873.93 Trade count: 83\n",
      "Winning trade! Accumulated profit: 347897.54 Trade count: 84\n",
      "Winning trade! Accumulated profit: 389645.24 Trade count: 85\n",
      "Winning trade! Accumulated profit: 432506.22 Trade count: 86\n",
      "Winning trade! Accumulated profit: 488732.03 Trade count: 87\n",
      "Losing trade! Accumulated profit: 478957.39 Trade count: 88\n",
      "Winning trade! Accumulated profit: 541221.85 Trade count: 89\n",
      "Losing trade! Accumulated profit: 519572.97 Trade count: 90\n",
      "Losing trade! Accumulated profit: 509181.51 Trade count: 91\n",
      "Winning trade! Accumulated profit: 580466.92 Trade count: 92\n",
      "Winning trade! Accumulated profit: 644318.29 Trade count: 93\n",
      "Losing trade! Accumulated profit: 612102.37 Trade count: 94\n",
      "Winning trade! Accumulated profit: 673312.61 Trade count: 95\n",
      "Losing trade! Accumulated profit: 646380.1 Trade count: 96\n",
      "Winning trade! Accumulated profit: 736873.32 Trade count: 97\n",
      "Winning trade! Accumulated profit: 832666.85 Trade count: 98\n",
      "Winning trade! Accumulated profit: 932586.87 Trade count: 99\n",
      "Winning trade! Accumulated profit: 1044497.3 Trade count: 100\n"
     ]
    }
   ],
   "source": [
    "import random\n",
    "\n",
    "print(\"Welcome to my stock simulation. You will start with $1000. The goal is to reach $1,000,000 in the least amount of weeks. Test how good your strategies are and see how lucky you would be in real life! If you lose half of the initial investment, YOU LOSE, simulation over.\")\n",
    "\n",
    "win_rate = int(input(\"What is your win rate? (input integer number 1-100)\"))\n",
    "win_percent_floor = int(input(\"When you win, what is the minimum gain in percent? (input integer number)\"))\n",
    "win_percent_ceiling = int(input(\"When you win, what is the maximum gain in percent? (input integer number)\"))\n",
    "loss_percent_floor = int(input(\"When you lose, what is the minimum loss in percent? (input integer number)\"))\n",
    "loss_percent_ceiling = int(input(\"When you lose, what is the maximum loss in percent? (input integer number)\"))\n",
    "\n",
    "initial_invest = 1000\n",
    "profit_target = 1000000\n",
    "accumulated_profit = initial_invest\n",
    "trade_count = 1\n",
    "\n",
    "while accumulated_profit < profit_target:\n",
    "   won = random.randint(1, 100) < win_rate\n",
    "   if won:\n",
    "        win_percent = random.randint(win_percent_floor, win_percent_ceiling)\n",
    "        accumulated_profit = accumulated_profit * (1 + float(win_percent / 100))\n",
    "        print(\"Winning trade! Accumulated profit: \" + str(round(accumulated_profit, 2))+ \" Trade count: \" + str(trade_count))\n",
    "   else:\n",
    "        loss_percent = random.randint(loss_percent_floor, loss_percent_ceiling)\n",
    "        accumulated_profit = accumulated_profit * (1 - float(loss_percent / 100))\n",
    "        print(\"Losing trade! Accumulated profit: \" + str(round(accumulated_profit, 2)) + \" Trade count: \" + str(trade_count))\n",
    "        if accumulated_profit < 500:\n",
    "            print(\"Game over, your strategy fell short of success\")\n",
    "            break\n",
    "   trade_count = trade_count + 1\n",
    "    \n"
   ]
  },
  {
   "attachments": {},
   "cell_type": "markdown",
   "metadata": {},
   "source": [
    "- Find an example of a simulation in a software/game you use, screenshot, and explain how it is a simulation\n",
    "    - Blender\n",
    "        -  includes advanced physics simulation in the form of the Bullet Physics Engine\n",
    "        - allows the user to create realistic scenarios of situations that may be hard to simulate in real life\n",
    "        - For ex: water moving, ruberg gold machines, crashes, ect.\n",
    "<a href=\"https://docs.google.com/presentation/d/1X_pc9-cCPiYj7ChtLuSDeRjad3fC8VVjkJuYl7c1Whs/edit?usp=sharing\">link to a few of my own examples of simulations within blender</a>\n",
    "\n",
    "![simulation](https://github.com/vivianknee/FastPages/blob/master/images/simulation.png?raw=true)"
   ]
  }
 ],
 "metadata": {
  "kernelspec": {
   "display_name": "Python 3",
   "language": "python",
   "name": "python3"
  },
  "language_info": {
   "codemirror_mode": {
    "name": "ipython",
    "version": 3
   },
   "file_extension": ".py",
   "mimetype": "text/x-python",
   "name": "python",
   "nbconvert_exporter": "python",
   "pygments_lexer": "ipython3",
   "version": "3.8.10"
  },
  "orig_nbformat": 4,
  "vscode": {
   "interpreter": {
    "hash": "916dbcbb3f70747c44a77c7bcd40155683ae19c65e1c03b4aa3499c5328201f1"
   }
  }
 },
 "nbformat": 4,
 "nbformat_minor": 2
}
