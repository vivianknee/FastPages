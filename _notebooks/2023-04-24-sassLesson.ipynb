{
 "cells": [
  {
   "attachments": {},
   "cell_type": "markdown",
   "metadata": {},
   "source": [
    "# SASS\n",
    "- toc: true\n",
    "- badges: false\n",
    "- type: ap\n",
    "- week: 29"
   ]
  },
  {
   "attachments": {},
   "cell_type": "markdown",
   "metadata": {},
   "source": [
    "# Why SASS?\n",
    "\n",
    "SASS is an improvement on CSS in that there are methods of abstraction. It is a stylesheet language that is compiled into CSS, which means that Sass will translate the sass code you wrote into CSS, which is what your web browser can read.\n",
    "\n",
    "# SASS vs SCSS\n",
    "As you learn about Sass, you might notice something called Scss. They are basically the same thing except that Scss uses curly braces and semicolons to distinguish between lines. Sass uses indentation and newlines instead.\n",
    "\n",
    "We will be teaching the Scss syntax because it is more commonly used."
   ]
  },
  {
   "attachments": {},
   "cell_type": "markdown",
   "metadata": {},
   "source": [
    "# Getting started\n",
    "\n",
    "A easy way to write SASS and have it preprocessed into CSS is by using a Jekyll powered website, such as GitHub pages or Fastpages.\n",
    "\n",
    "The first step is to clone a GitHub pages repo, such as this [one](https://github.com/lwu1822/sassy_squad).\n",
    "\n",
    "Within the repository, head over to `assets/css/`, and open `style.scss`.\n",
    "\n",
    "This is where you can create your SASS code.\n",
    "\n",
    "To see your CSS-translated SASS code, head over to `_site/assets/css/style.css`\n",
    "\n",
    "Note: You will need to run bundle exec jekyll serve before the _site directory appears.\n",
    "\n",
    "The first few hundred lines are used to style Github's theme. Make sure to scroll to the very bottom to see the SASS code that you wrote, which is in the form of CSS."
   ]
  },
  {
   "attachments": {},
   "cell_type": "markdown",
   "metadata": {},
   "source": [
    "# Nesting\n",
    "- allows you to write styling code in a way that looks like an HTML hierarchy\n",
    "- For example, without nesting, CSS code might look like:"
   ]
  },
  {
   "cell_type": "code",
   "execution_count": null,
   "metadata": {
    "vscode": {
     "languageId": "plaintext"
    }
   },
   "outputs": [],
   "source": [
    ".font .title { \n",
    "\n",
    "\tfont-family: \"Times New Roman\", serif; \n",
    "\n",
    "\tfont-size: 3em;\n",
    "\n",
    "}\n",
    "\n",
    ".font .text {\n",
    "\n",
    "\tfont-family: \"Times New Roman\", serif; \n",
    "\n",
    "\tfont-size: 1em;\n",
    "\n",
    "}"
   ]
  },
  {
   "attachments": {},
   "cell_type": "markdown",
   "metadata": {},
   "source": [
    "- SASS allows you to reduce repetitiveness and put everything in one class"
   ]
  },
  {
   "cell_type": "code",
   "execution_count": null,
   "metadata": {
    "vscode": {
     "languageId": "plaintext"
    }
   },
   "outputs": [],
   "source": [
    ".font {\n",
    "\n",
    "\t.title {\n",
    "\tfont-family: \"Times New Roman\", serif;\n",
    "\tfont-size: 3em;\n",
    "\n",
    "\t.text {\n",
    "\tfont-family: \"Times New Roman\", serif;\n",
    "\tfont-size: 1em;/div>    \n",
    "    }       \n",
    "    }\n",
    "}"
   ]
  },
  {
   "attachments": {},
   "cell_type": "markdown",
   "metadata": {},
   "source": [
    "# Mini-hack\n",
    "\n",
    "Write out the SASS equivalent for the following CSS code:\n",
    "\n",
    "```\n",
    ".a .b {\n",
    "    color: green;\n",
    "}\n",
    "\n",
    ".a .c {\n",
    "    color: blue;\n",
    "}\n",
    "```\n",
    "SASS Equivalent\n",
    "\n",
    "```\n",
    ".a {\n",
    "    .c {\n",
    "        color: blue;\n",
    "    }\n",
    "    .b {\n",
    "        color: green;\n",
    "    }\n",
    "}\n",
    "```\n"
   ]
  },
  {
   "attachments": {},
   "cell_type": "markdown",
   "metadata": {},
   "source": [
    "# Extend/Inheritance\n",
    "- the buttons have the same width, height, and font but they have different background colors\n",
    "- SASS allows you to specify differences in one selector whereas with CSS, you would need to specify properties for separate buttons\n",
    "- SASS allows you to use @extend to inherit code if you want to reuse portions of code in multiple selectors\n",
    "- we can create a placeholder class that stores the code we want to reuse. A placeholder class looks like this:"
   ]
  },
  {
   "cell_type": "code",
   "execution_count": null,
   "metadata": {
    "vscode": {
     "languageId": "plaintext"
    }
   },
   "outputs": [],
   "source": [
    "//syntax\n",
    "\n",
    "%class-name { \n",
    "}\n",
    "\n",
    "//Examples\n",
    "\n",
    "%buttonLayout {\n",
    "\twidth: 15em;\n",
    "\theight: 15em;\n",
    "\tcolor: #ffffff;\n",
    "\tmargin-right: 10%;\n",
    "}"
   ]
  },
  {
   "attachments": {},
   "cell_type": "markdown",
   "metadata": {},
   "source": [
    "- this is what the code looks like to make the buttons share code. But, you can still individually customize each button"
   ]
  },
  {
   "cell_type": "code",
   "execution_count": null,
   "metadata": {
    "vscode": {
     "languageId": "plaintext"
    }
   },
   "outputs": [],
   "source": [
    ".gettingStartedButton, .nestingButton, .extendButton {\n",
    "\t@extend %buttonLayout;\n",
    "}\n",
    "\n",
    ".gettingStartedButton {\n",
    "\tbackground: radial-gradient( #1539db, #8a8ce6);\n",
    "}\n",
    "\n",
    ".nestingButton {\n",
    "\tbackground: radial-gradient( #3a9fa7, #8ae0e6);\n",
    "}\n",
    "\n",
    ".extendButton {\n",
    "\tbackground: radial-gradient( #643aa7, #d78ae6);\n",
    "}"
   ]
  },
  {
   "attachments": {},
   "cell_type": "markdown",
   "metadata": {},
   "source": [
    "# Mixin\n",
    "- similar to \"extend\" because it creates a code template that can be reused\n",
    "- it can also take in parameters so that you can create dynamic styling\n",
    "- you can also place styling rules that do not take in variables within mixin\n",
    "- This is how you create a @mixin"
   ]
  },
  {
   "cell_type": "code",
   "execution_count": null,
   "metadata": {
    "vscode": {
     "languageId": "plaintext"
    }
   },
   "outputs": [],
   "source": [
    "@mixin buttonLayout($innerColor, $outerColor) {\n",
    "    //the background takes in variables\n",
    "\tbackground: radial-gradient($innerColor, $outerColor); \n",
    "\n",
    "    //these styling rules do not take in variables\n",
    "    width: 15em;\n",
    "\theight: 15em;\n",
    "\tcolor: #ffffff;\n",
    "\tmargin-right: 10%;\n",
    "\tborder-radius: 2em;\n",
    "\n",
    "}"
   ]
  },
  {
   "attachments": {},
   "cell_type": "markdown",
   "metadata": {},
   "source": [
    "This is how to call the mixin in a scss selector"
   ]
  },
  {
   "cell_type": "code",
   "execution_count": null,
   "metadata": {
    "vscode": {
     "languageId": "plaintext"
    }
   },
   "outputs": [],
   "source": [
    ".gettingStartedButton {\n",
    "\n",
    "\t@include buttonLayout(#1539db, #8a8ce6);\n",
    "\n",
    "}"
   ]
  },
  {
   "attachments": {},
   "cell_type": "markdown",
   "metadata": {},
   "source": [
    "# Mini-hack\n",
    "\n",
    "Write out a mixin in SASS that takes in a color and a font size as the parameter. Within the mixin, set the background color and font color to the color parameter, and set the font size to the font size parameter. Then create a selector that calls the mixin, and pass in a color and font size of your choice as the arguments.\n",
    "\n",
    "```\n",
    "@mixin design($color, $fontsize) {\n",
    "    background: $color; \n",
    "    font-color: $color;\n",
    "    font-size: $fontsize;\n",
    "}\n",
    "\n",
    ".designTest {\n",
    "    @include design(#1539db, 24);\n",
    "}\n",
    "```"
   ]
  },
  {
   "attachments": {},
   "cell_type": "markdown",
   "metadata": {},
   "source": [
    "# Function\n",
    "\n",
    "- Function in SASS follow this format:"
   ]
  },
  {
   "cell_type": "code",
   "execution_count": null,
   "metadata": {
    "vscode": {
     "languageId": "plaintext"
    }
   },
   "outputs": [],
   "source": [
    "@function name(parameters) [\n",
    "    //code\n",
    "    @return value;\n",
    "]"
   ]
  },
  {
   "attachments": {},
   "cell_type": "markdown",
   "metadata": {},
   "source": [
    "- Here is how to create an invert function in SASS (for light mode or dark mode)"
   ]
  },
  {
   "cell_type": "code",
   "execution_count": null,
   "metadata": {
    "vscode": {
     "languageId": "plaintext"
    }
   },
   "outputs": [],
   "source": [
    "@function sassInvert($r, $g, $b) {\n",
    "    \n",
    "    //the \"$\" creates new functions in sass\n",
    "\t$newColor: rgb(255 - $r, 255 - $g, 255 - $b); \n",
    "\n",
    "\t@return $newColor;\n",
    "\n",
    "}"
   ]
  },
  {
   "attachments": {},
   "cell_type": "markdown",
   "metadata": {},
   "source": [
    "- functions are called by specifying the function name with parenthesis. inside the parenthesis you can specify arguments. For Example:"
   ]
  },
  {
   "cell_type": "code",
   "execution_count": null,
   "metadata": {
    "vscode": {
     "languageId": "plaintext"
    }
   },
   "outputs": [],
   "source": [
    "//selector called invert. this would go in the styling section\n",
    "\n",
    ".invert {\n",
    "    // instead of putting a single color, the background color calls the function to invert colors\n",
    "\t\n",
    "    background-color: sassInvert(0, 0, 0);\n",
    "\tcolor: sassInvert(211,202,202);\n",
    "\n",
    "}"
   ]
  },
  {
   "attachments": {},
   "cell_type": "markdown",
   "metadata": {},
   "source": [
    "# Import\n",
    "- import helps to prevent SASS files from getting cluttered\n",
    "- there is a way to split code into multiple files and import them into one file. Here are the steps to do so\n",
    "    - to put the styling for function.html in another SASS file, first create a directory called _sass\n",
    "    - within the directory, create another SASS file. for example functionStyle.scss\n",
    "    - write your sass code in that file. Once you have finished, switch back to style.scss and import the file with @import \"file-name\"\n",
    "    - For instance, to import the functionStyle.scss file into style.scss , the import statement would be @import \"functionStyle\".\n",
    "\n"
   ]
  },
  {
   "attachments": {},
   "cell_type": "markdown",
   "metadata": {},
   "source": [
    "# SASS Hacks\n",
    "\n",
    "1. Take notes and complete the mini-hacks. (0.9) DONE"
   ]
  },
  {
   "attachments": {},
   "cell_type": "markdown",
   "metadata": {},
   "source": [
    "\n",
    "2. Complete the [quiz questions](https://lwu1822.github.io/sassy_squad/quizQuestions) and provide your answers in this notebook. (0.9) DONE\n",
    "\n",
    "What is SASS?\n",
    "- b. A scripting language that has many styling operations\n",
    "\n",
    "What is the difference between SASS and SCSS?\n",
    "- a. They are very similar in their function, but their syntax is slightly different\n",
    "\n",
    "What is an example of an advantage of using SASS over just CSS?\n",
    "- a. SASS has more functions than CSS\n",
    "\n",
    "What does SASS stand for?\n",
    "- b. Systematically Awesome Sample Sheets\n",
    "\n",
    "Which of the following is NOT an example of an available SASS directive?\n",
    "- d. compute\n",
    "\n",
    "The __ directive is used to share rules and relationships between selectors.\n",
    "- b. extend\n",
    "\n",
    "What is “@___” called?\n",
    "- b. Directive"
   ]
  },
  {
   "attachments": {},
   "cell_type": "markdown",
   "metadata": {},
   "source": [
    "3. Use SASS to create something that uses either extend or mixin. (0.9)\n",
    "\n",
    "```\n",
    "// mixin to align text\n",
    "@mixin align-text($alignment) {\n",
    "  text-align: $alignment;\n",
    "}\n",
    "\n",
    "// using the mixin for different selectors\n",
    ".text-center {\n",
    "  @include align-text(center);\n",
    "}\n",
    "\n",
    ".text-left {\n",
    "  @include align-text(left);\n",
    "}\n",
    "\n",
    ".text-right {\n",
    "  @include align-text(right);\n",
    "}\n",
    "\n",
    ".text-justify {\n",
    "  @include align-text(justify);\n",
    "}\n",
    "```\n",
    "\n",
    "4. Extra credit: Research other SASS features and blog about what you learned or add to your SASS project with any extra features not covered in this lesson. More points will be given if both are done."
   ]
  }
 ],
 "metadata": {
  "language_info": {
   "name": "python"
  },
  "orig_nbformat": 4
 },
 "nbformat": 4,
 "nbformat_minor": 2
}
