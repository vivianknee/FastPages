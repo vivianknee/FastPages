{
 "cells": [
  {
   "attachments": {},
   "cell_type": "markdown",
   "metadata": {},
   "source": [
    "# Unit 3 Sections 14 and 15 \n",
    "- badges: true\n",
    "- toc: true"
   ]
  },
  {
   "attachments": {},
   "cell_type": "markdown",
   "metadata": {},
   "source": [
    "## Vocab\n",
    "- Libraries: collection of precompiled codes that can be used later on in a program for sme specific well-defined operations\n",
    "- API: contains specific direction for how the procedures in a library can behave or be used"
   ]
  },
  {
   "attachments": {},
   "cell_type": "markdown",
   "metadata": {},
   "source": [
    "## Libraries and Random Values\n",
    "- Libraries\n",
    "    - collection of precompiled codes that can be used later on in a program for some specific well-defined operations.\n",
    "    - precompiled codes can be referred to as modules. Each module contains bundles of code that can be used repeatedly in different programs.\n",
    "    - may also contain documentation, configuration data, message templates, classes, and values, etc.\n",
    "    - makes Python Programming simpler and convenient for the programmer\n",
    "    - ex: Pillow, Tensor Flow, Matplotlib\n",
    "- APIs\n",
    "    - application program interface, contains specific direction for how the procedures in a library can behave or be used\n",
    "    - acts as a gateway for the imported procedures from a library to interact with the rest of your code"
   ]
  },
  {
   "cell_type": "code",
   "execution_count": 2,
   "metadata": {},
   "outputs": [
    {
     "name": "stdout",
     "output_type": "stream",
     "text": [
      "[[1 2 3]\n",
      " [4 5 6]\n",
      " [7 8 9]]\n"
     ]
    }
   ],
   "source": [
    "import numpy as np\n",
    "new_matrix = np.array([[1, 2, 3],[4, 5, 6],[7, 8, 9]])\n",
    " \n",
    "print (new_matrix)"
   ]
  },
  {
   "attachments": {},
   "cell_type": "markdown",
   "metadata": {},
   "source": [
    "Numpy to find derivatives"
   ]
  },
  {
   "cell_type": "code",
   "execution_count": 1,
   "metadata": {},
   "outputs": [
    {
     "name": "stdout",
     "output_type": "stream",
     "text": [
      "Polynomial function, f(x):\n",
      "    2\n",
      "2 x + 1\n",
      "Derivative, f(x)'=  \n",
      "4 x\n",
      "When x=5  f(x)'= 20\n"
     ]
    }
   ],
   "source": [
    "import numpy as np\n",
    " \n",
    "# defining polynomial function\n",
    "var = np.poly1d([2, 0, 1])\n",
    "print(\"Polynomial function, f(x):\\n\", var)\n",
    " \n",
    "# calculating the derivative\n",
    "derivative = var.deriv()\n",
    "print(\"Derivative, f(x)'=\", derivative)\n",
    " \n",
    "# calculates the derivative of after\n",
    "# given value of x\n",
    "print(\"When x=5  f(x)'=\", derivative(5))"
   ]
  },
  {
   "attachments": {},
   "cell_type": "markdown",
   "metadata": {},
   "source": [
    "- Random Values\n",
    "    - Random number generation (RNG) produces a random number\n",
    "        - procedure with RNG can return different values even if the parameters do not change"
   ]
  },
  {
   "cell_type": "code",
   "execution_count": 2,
   "metadata": {},
   "outputs": [
    {
     "data": {
      "text/plain": [
       "18"
      ]
     },
     "execution_count": 2,
     "metadata": {},
     "output_type": "execute_result"
    }
   ],
   "source": [
    "import random \n",
    "def dice(n):\n",
    "    sum = 0\n",
    "    while n > 0:\n",
    "        sum = sum + random.randint(1,6)\n",
    "        n = n -1\n",
    "    return sum\n",
    "\n",
    "dice(5)"
   ]
  },
  {
   "attachments": {},
   "cell_type": "markdown",
   "metadata": {},
   "source": [
    "## HW\n",
    "- Find two other libraries and explain their function and how it helps programmers code"
   ]
  },
  {
   "attachments": {},
   "cell_type": "markdown",
   "metadata": {},
   "source": [
    "1. Requests \n",
    "    - allows you to send HTTP/1.1 requests extremely easily\n",
    "    - coders don't have to manually add query strings to URLs, form encode PUT and POST data\n",
    "    - creates more efficient ways to:\n",
    "        - Make requests using the most common HTTP methods\n",
    "        - Customize your requests’ headers and data, using the query string and message body\n",
    "        - Inspect data from your requests and responses\n",
    "        - Make authenticated requests\n",
    "        - Configure your requests to help prevent your application from backing up or slowing down\n",
    "\n",
    "2. Theano\n",
    "    - allows tou to define, optimize, and efficiently evaluate mathematical expressions involving multi-dimensional arrays\n",
    "    - helps you perform data intensive computations up to 140x faster\n",
    "    - can compute derivatives for functions of one or many inputs\n",
    "    - evaluates expressions faster\n"
   ]
  },
  {
   "cell_type": "code",
   "execution_count": null,
   "metadata": {},
   "outputs": [],
   "source": []
  },
  {
   "attachments": {},
   "cell_type": "markdown",
   "metadata": {},
   "source": [
    "1. Write a procedure that generates n random numbers, then sorts those numbers into lists of even and odd numbers (JS or Python, Python will be easier).\n",
    "\n",
    "2. Using NumPy and only coding in python cell, find the answer to the following questions: a. What is the derivative of 2x^5 - 6x^2 + 24x? b. What is the derivative of (13x^4 + 4x^2) / 2 when x = 9?\n",
    "\n",
    "3. Suppose you have a group of 10 dogs and 10 cats, and you want to create a random order for them. Show how random number generation could be used to create this random order."
   ]
  },
  {
   "cell_type": "code",
   "execution_count": null,
   "metadata": {},
   "outputs": [],
   "source": []
  }
 ],
 "metadata": {
  "kernelspec": {
   "display_name": "base",
   "language": "python",
   "name": "python3"
  },
  "language_info": {
   "codemirror_mode": {
    "name": "ipython",
    "version": 3
   },
   "file_extension": ".py",
   "mimetype": "text/x-python",
   "name": "python",
   "nbconvert_exporter": "python",
   "pygments_lexer": "ipython3",
   "version": "3.9.12"
  },
  "orig_nbformat": 4,
  "vscode": {
   "interpreter": {
    "hash": "81fbe58ce2928082c2c3d5e69f42b4d98eaf6e17aa44233118c0f86de95de484"
   }
  }
 },
 "nbformat": 4,
 "nbformat_minor": 2
}
