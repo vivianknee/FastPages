{
 "cells": [
  {
   "cell_type": "markdown",
   "metadata": {},
   "source": [
    "# Unit 3 Sections 5-7\n",
    "- badges: true\n",
    "- toc: true"
   ]
  },
  {
   "attachments": {},
   "cell_type": "markdown",
   "metadata": {},
   "source": [
    "## Vocab\n",
    "- Boolean: a data type with two possible values: true or false\n",
    "- Logical Operators: these types of operators don't necessarily deal with equivalent/non-equivalent values\n",
    "- Conditionals\n",
    "    - Selection: Uses a condition that evaluates to true or false\n",
    "    - determines which part of an algorithm are executed based on a condition being true or false\n",
    "    - Algorithm is a finite set of instructions that accomplish a specific task\n",
    "- Nested Conditionals: consist of conditional statements within other conditional statements"
   ]
  },
  {
   "attachments": {},
   "cell_type": "markdown",
   "metadata": {},
   "source": [
    "## Boolean Expression, Conditionals, Nested Conditionals\n",
    "- Boolean\n",
    "    - a data type with two possible values: true or false\n",
    "    - boolean quantities are restricted to a singular bit (can only be either 1 or 0)"
   ]
  },
  {
   "cell_type": "markdown",
   "metadata": {},
   "source": [
    "- Relational Operators\n",
    "    - The AP exam will provide a ref sheet with these operators:\n",
    "![operators](https://github.com/vivianknee/FastPages/blob/master/images/operators.png?raw=true)"
   ]
  },
  {
   "cell_type": "code",
   "execution_count": null,
   "metadata": {},
   "outputs": [],
   "source": [
    "grade1 = 90\n",
    "grade2 = 65\n",
    "grade3 = 60\n",
    "grade4 = 75\n",
    "grade5 = 95\n",
    "\n",
    "totalGrade = grade1 + grade2 + grade3 + grade4 + grade5\n",
    "avgGrade = totalGrade/5\n",
    "if avgGrade > 80:\n",
    "    print(\"The avf grade was \" + avgGrade)\n",
    "else:\n",
    "    print(\"the avg grade was not greater than 80 :(. It was \" + str(avgGrade))"
   ]
  },
  {
   "cell_type": "markdown",
   "metadata": {},
   "source": [
    "- Logical Operators\n",
    "    - these types of operators don't necessarily deal with equivalent/non-equivalent values. \n",
    "    - Instead they work on operands to produce a singular boolean result\n",
    "    1. AND: returns TRUE if the operands around it are TRUE\n",
    "    2. OR: returns TRUE if at least one operand is TRUE\n",
    "    3. NOT: returns TRUE if the following boolean is FALSE"
   ]
  },
  {
   "cell_type": "code",
   "execution_count": null,
   "metadata": {},
   "outputs": [],
   "source": [
    "print(\"1 > 2 or 5 < 12:\", 1 > 2 or 5 < 12)\n",
    "# Output TRUE  using OR ^\n",
    "\n",
    "# Output FALSE using NOT\n",
    "print(\"7 > 8:\", not 7 > 8)\n",
    "\n",
    "# Output FALSE using AND\n",
    "print(\"10 > 20:\", 10 > 20 and False)"
   ]
  },
  {
   "cell_type": "markdown",
   "metadata": {},
   "source": [
    "- Conditionals\n",
    "    - Selection: Uses a condition that evaluates to true or false\n",
    "    - determines which part of an algorithm are executed based on a condition being true or false\n",
    "    - Algorithm is a finite set of instructions that accomplish a specific task\n",
    "![conditionals](https://github.com/vivianknee/FastPages/blob/master/images/conditionals.png?raw=true)"
   ]
  },
  {
   "cell_type": "markdown",
   "metadata": {},
   "source": [
    "- Conditional Statements\n",
    "    - also known as if statements"
   ]
  },
  {
   "cell_type": "code",
   "execution_count": null,
   "metadata": {},
   "outputs": [],
   "source": [
    "x = 20\n",
    "y = 10\n",
    "if x > y:\n",
    "    print(\"x is greater than y\")\n",
    "else:\n",
    "    print(\"x is not greater than y\")"
   ]
  },
  {
   "cell_type": "code",
   "execution_count": null,
   "metadata": {},
   "outputs": [],
   "source": [
    "num1 = 100\n",
    "num2 = 100\n",
    "sum = num1 + num2\n",
    "if sum == 200:\n",
    "    print(sum)\n",
    "else:\n",
    "    print(sum)"
   ]
  },
  {
   "cell_type": "markdown",
   "metadata": {},
   "source": [
    "- Nested Conditionals\n",
    "    - consist of conditional statements within other conditional statements\n",
    "    - uses \"if else\" statements within \"if else\" statements\n",
    "![nested](https://github.com/vivianknee/FastPages/blob/master/images/nested.jpg?raw=true)"
   ]
  },
  {
   "cell_type": "markdown",
   "metadata": {},
   "source": [
    "## HW\n",
    "- Write a program that fits these conditions using nested conditionals:\n",
    "    - If the product is expired, print \"this product is no good\"\n",
    "    - If the cost is above 50 dollars, and the product isn't expired, print \"this product is too expensive\"\n",
    "    - If the cost is more than 25 dollars but under 50, and the product isn't expired, print \"this is a regular product\"\n",
    "    - If the cost is under 25 dollars, print \"this is a cheap product\""
   ]
  },
  {
   "cell_type": "code",
   "execution_count": 2,
   "metadata": {},
   "outputs": [
    {
     "name": "stdout",
     "output_type": "stream",
     "text": [
      "Come back again!\n",
      "Total Number of Records:  3\n",
      "\t Product: Cheese\n",
      "\t Expired: True\n",
      "\t Cost: 15\n",
      "\t This product is no good\n",
      "\n",
      "\n",
      "\t Product: Wine\n",
      "\t Expired: False\n",
      "\t Cost: 75\n",
      "\t This product is too expensive\n",
      "\n",
      "\n",
      "\t Product: pie\n",
      "\t Expired: False\n",
      "\t Cost: 15\n",
      "\t This is a cheap product\n",
      "\n",
      "\n"
     ]
    }
   ],
   "source": [
    "infoP = []\n",
    "\n",
    "infoP.append({\n",
    "    \"Product\": \"Cheese\",\n",
    "    \"Expired\": True,\n",
    "    \"Cost\": 15,\n",
    "})\n",
    "\n",
    "infoP.append({\n",
    "    \"Product\": \"Wine\",\n",
    "    \"Expired\": False,\n",
    "    \"Cost\": 75,\n",
    "})\n",
    "\n",
    "def print_info(p_rec):\n",
    "    if (p_rec[\"Expired\"]): \n",
    "            print(\"\\t\", \"This product is no good\")\n",
    "    else:\n",
    "        if (p_rec[\"Cost\"] > 50):\n",
    "            print(\"\\t\", \"This product is too expensive\")\n",
    "        elif (p_rec[\"Cost\"] > 25 and p_rec[\"Cost\"] <= 50):\n",
    "            print(\"\\t\", \"This is a regular product\")\n",
    "        else:\n",
    "            print(\"\\t\", \"This is a cheap product\")\n",
    "\n",
    "def print_data(p_rec): #formatting\n",
    "    print(\"\\t\", \"Product:\", p_rec[\"Product\"])  \n",
    "    print(\"\\t\", \"Expired:\", p_rec[\"Expired\"]) \n",
    "    print(\"\\t\", \"Cost:\", p_rec[\"Cost\"])\n",
    "    print_info(p_rec)\n",
    "    print(\"\\n\")\n",
    "\n",
    "def data_entry(): #defining the function that asks for user input\n",
    "    product = input(\"What is the product? (one word)\")\n",
    "    expired_string = input(\"Is it expired? (True or False)\")\n",
    "    cost = input(\"How much did it cost(dont include $, round to nearest whole number)\")\n",
    "\n",
    "    if (expired_string == \"True\"):\n",
    "        expired = True\n",
    "    else:\n",
    "        expired = False\n",
    "\n",
    "    infoP.append({ #appends the user input to the dictionary\n",
    "        \"Product\": product,\n",
    "        \"Expired\": expired,\n",
    "        \"Cost\": int(cost),\n",
    "   \n",
    "    })\n",
    "\n",
    "def main():\n",
    "    Continue = True #defining continue as true\n",
    "    while Continue:\n",
    "        inp = input(\"Would you like to add a product to the database, type no if you want to exit)?\")\n",
    "        if inp == \"no\":\n",
    "            print(\"Come back again!\")\n",
    "            Continue = False\n",
    "        elif inp == \"add\":\n",
    "            data_entry()\n",
    "        else:\n",
    "            print(\"Invalid input. Please try again\")\n",
    "\n",
    "    length = len(infoP) #defines length as the number of records\n",
    "    print(\"Total Number of Records: \", length) \n",
    "    for record in infoP:\n",
    "            print_data(record)\n",
    "            \n",
    " \n",
    "main()"
   ]
  },
  {
   "cell_type": "markdown",
   "metadata": {},
   "source": [
    "- Create a multiple choice quiz that ...\n",
    "    - uses Boolean expressions\n",
    "    - uses Logical operators\n",
    "    - uses Conditional statements\n",
    "    - prompts quiz-taker with multiple options (only one can be right)\n",
    "    - has at least 3 questions"
   ]
  },
  {
   "cell_type": "code",
   "execution_count": 1,
   "metadata": {},
   "outputs": [
    {
     "name": "stdout",
     "output_type": "stream",
     "text": [
      "Hello, vivian\n",
      "You will be asked 3 questions.\n",
      "Question: Have humans ever reached the moon? False True\n",
      "True is correct!\n",
      "Question: How many hearts does an octopus have? a. 8 b. 4 c. 3 d. 1\n",
      "c is correct!\n",
      "Question: Which of the following countries have won the world cup?(Type your answer separated by ',') a. Brazil b. France c. Japan d. China\n",
      "a,b is correct!\n",
      "You got 3 out of 3\n"
     ]
    }
   ],
   "source": [
    "import getpass\n",
    "\n",
    "def question_with_response(prompt):  #defines question_with_response\n",
    "    print(\"Question: \" + prompt) #prints the question to the user\n",
    "    msg = input() #takes the user's input\n",
    "    return msg #returns the user's input as a printed answer\n",
    "\n",
    "def question_and_answer(prompt): \n",
    "    print(\"Question: \" + prompt)  \n",
    "    msg = input()  \n",
    "    print(\"Answer: \" + msg) \n",
    "\n",
    "questions = 3\n",
    "correct = 0\n",
    "\n",
    "print('Hello, ' + getpass.getuser())\n",
    "print(\"You will be asked \" + str(questions) + \" questions.\") #str(questions) turns the number 3 that is = to questions into a string that can be printed\n",
    "\n",
    "rsp = question_with_response(\"Have humans ever reached the moon? False True\") #asks the question in terminal\n",
    "if (rsp == \"True\"):\n",
    "    print(rsp + \" is correct!\") #prints \"is correct\" if the rsp was correct\n",
    "    correct += 1\n",
    "else:\n",
    "    print(rsp + \" is incorrect!\")\n",
    "\n",
    "rsp = question_with_response(\"How many hearts does an octopus have? a. 8 b. 4 c. 3 d. 1\")\n",
    "if rsp == \"c\":\n",
    "    print(rsp + \" is correct!\")\n",
    "    correct += 1\n",
    "else:\n",
    "    print(rsp + \" is incorrect!\")\n",
    "\n",
    "rsp = question_with_response(\"Which of the following countries have won the world cup?(Type your answer separated by ',') a. Brazil b. France c. Japan d. China\")\n",
    "# rsp = \"a,b\"\n",
    "if (\"a\" in rsp) and (\"b\" in rsp) and (\"c\" not in rsp) and (\"d\" not in rsp):\n",
    "    print(rsp + \" is correct!\")\n",
    "    correct += 1\n",
    "else:\n",
    "    print(rsp + \" is incorrect!\")\n",
    "\n",
    "print(\"You got \" + str(correct) + \" out of 3\") "
   ]
  }
 ],
 "metadata": {
  "kernelspec": {
   "display_name": "Python 3.8.10 64-bit",
   "language": "python",
   "name": "python3"
  },
  "language_info": {
   "codemirror_mode": {
    "name": "ipython",
    "version": 3
   },
   "file_extension": ".py",
   "mimetype": "text/x-python",
   "name": "python",
   "nbconvert_exporter": "python",
   "pygments_lexer": "ipython3",
   "version": "3.8.10 (default, Jun 22 2022, 20:18:18) \n[GCC 9.4.0]"
  },
  "orig_nbformat": 4,
  "vscode": {
   "interpreter": {
    "hash": "916dbcbb3f70747c44a77c7bcd40155683ae19c65e1c03b4aa3499c5328201f1"
   }
  }
 },
 "nbformat": 4,
 "nbformat_minor": 2
}
