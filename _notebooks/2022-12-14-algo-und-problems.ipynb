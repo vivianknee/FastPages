{
 "cells": [
  {
   "attachments": {},
   "cell_type": "markdown",
   "metadata": {},
   "source": [
    "# Unit 3 Sections 17 and 18\n",
    "- badges: true\n",
    "- toc: true"
   ]
  },
  {
   "attachments": {},
   "cell_type": "markdown",
   "metadata": {},
   "source": [
    "## Vocab\n",
    "- heuristic solution: an approach to a problem that produces a solution that isn’t necessarily optimal but can be used when normal methods to an optimal solution would take forever\n",
    "- algorithmic efficiency: The ability of an algorithm to solve a problem in an efficient way"
   ]
  },
  {
   "attachments": {},
   "cell_type": "markdown",
   "metadata": {},
   "source": [
    "## Algorithm Efficiency and Undecidable Problems\n",
    "- algorithmic efficiency\n",
    "    - The ability of an algorithm to solve a problem in an efficient way\n",
    "    - An efficient algorithm solves a problem quickly and with a min amount of resources, such as time and memory.\n",
    "- How do we determine if an algorithm is efficient or not?\n",
    "    - One way we can do this is by determining the time complexity of the algorithm.\n",
    "    - Another way is through space complexity."
   ]
  },
  {
   "attachments": {},
   "cell_type": "markdown",
   "metadata": {},
   "source": [
    "- Time complexity\n",
    "    - How does the runtime of the function grow as the size of the input grows\n",
    "\n",
    "array = [1, 5, 8, 3 …, 10]\n",
    "\n",
    "def find_sum(array):\n",
    "\ttotal = 0\n",
    "\tfor each i in given array:\n",
    "\t\ttotal += i\n",
    "\treturn total"
   ]
  },
  {
   "attachments": {},
   "cell_type": "markdown",
   "metadata": {},
   "source": [
    "- heuristic solution\n",
    "    - an approach to a problem that produces a solution that isn’t necessarily optimal but can be used when normal methods to an optimal solution would take forever\n",
    "    - Usually made up using logic\n"
   ]
  },
  {
   "attachments": {},
   "cell_type": "markdown",
   "metadata": {},
   "source": [
    "- Traveling Merchant Problem Hacks:\n",
    "    - What did you and your team discuss? (record below)\n",
    "        - start at Indianapolis, then Louisville Cincinnati, Columbus, Detroit, and finally Chicago (805 miles)\n",
    "\n",
    "![travel](https://github.com/vivianknee/FastPages/blob/master/images/travel.png?raw=true)\n",
    "   "
   ]
  },
  {
   "attachments": {},
   "cell_type": "markdown",
   "metadata": {},
   "source": [
    "- decidable problem\n",
    "    - problem in cs and mathematics for which an algo can be created that can always produce a correct answer\n",
    "    - there exists an algo that can be used to determine whether a given input is a valid solution or not"
   ]
  },
  {
   "cell_type": "code",
   "execution_count": 1,
   "metadata": {},
   "outputs": [
    {
     "name": "stdout",
     "output_type": "stream",
     "text": [
      "True\n",
      "False\n"
     ]
    }
   ],
   "source": [
    "# ex\n",
    "def divideThirteen(number):\n",
    "    if number % 13 == 0:\n",
    "        return True\n",
    "    else:\n",
    "        return False\n",
    "\n",
    "print(divideThirteen(26))\n",
    "print(divideThirteen(30))"
   ]
  },
  {
   "attachments": {},
   "cell_type": "markdown",
   "metadata": {},
   "source": [
    "- undecidable problem\n",
    "    - a problem in cs and mathematics for which it is impossible to create an algorithm that can always provide a correct answer or solution. \n",
    "    - not possible for an algorithm to always determine whether a given input is a valid solution to an undecidable problem"
   ]
  },
  {
   "cell_type": "code",
   "execution_count": null,
   "metadata": {},
   "outputs": [],
   "source": [
    "#ex dont run\n",
    "i = 0\n",
    "number = 1\n",
    "def integerTest(n):\n",
    "    # Testing if the number is an integer\n",
    "    if n%1 ==0:\n",
    "        return True\n",
    "    else:\n",
    "        return False\n",
    "# Using while loop to keep searching an a non-integer above 1. Note that the computer runs forever.\n",
    "while i == 0:\n",
    "    number += 1\n",
    "    if integerTest(number) == False:\n",
    "        i +=1\n",
    "        print(\"Done\")"
   ]
  },
  {
   "attachments": {},
   "cell_type": "markdown",
   "metadata": {},
   "source": [
    "- halting problem\n",
    "    - example of an undecidable problem\n",
    "    - no way to write an algo to analyze and determine whether a body of code can run forever or not"
   ]
  },
  {
   "attachments": {},
   "cell_type": "markdown",
   "metadata": {},
   "source": [
    "- halting problem example\n",
    "    - `HaltChecker` analyzes the program, program P, and its input, input I. If program P halts with input I, `HaltChecker` returns an output of \"halts\". If program P doesn't halt(runs forever) with input I, `HaltChecker` returns an output of \"never\". For example, in the code where it tests if variable number, the code runs forever, so `HaltChecker` returns an output of “never”.\n",
    "    - Then, we add another algorithm called Reverser which reverses `HaltChecker`'s output. So, if \"never\" is the output of `HaltChecker`, then the output of Reverser is “halts”. It's also the same the other way around: if `HaltChecker` has an output of \"halts\", then `Reverser` has an output of “never”.\n",
    "    - We combine these algorithms into one entire body of code.\n",
    "    - **Since `Reverser` is the algorithm at the end, hence giving the ultimate output, notice how it prints \"never\" when in fact there is an end(As proved by `HaltChecker`), and how it also prints \"halts\" when there is in fact is no end to the code(Also proved by `HaltChecker`). As a result, `HaltChecker` is inaccurate and this is an undecidable problem**\n",
    "\n",
    "![halt](https://github.com/vivianknee/FastPages/blob/master/images/halt.png?raw=true)\n"
   ]
  },
  {
   "attachments": {},
   "cell_type": "markdown",
   "metadata": {},
   "source": [
    "## HW\n",
    "- Come up with one situation in which a computer runs into an undecidable problem. Explain why it is considered an undecidable problem."
   ]
  }
 ],
 "metadata": {
  "kernelspec": {
   "display_name": "Python 3",
   "language": "python",
   "name": "python3"
  },
  "language_info": {
   "codemirror_mode": {
    "name": "ipython",
    "version": 3
   },
   "file_extension": ".py",
   "mimetype": "text/x-python",
   "name": "python",
   "nbconvert_exporter": "python",
   "pygments_lexer": "ipython3",
   "version": "3.8.10"
  },
  "orig_nbformat": 4,
  "vscode": {
   "interpreter": {
    "hash": "916dbcbb3f70747c44a77c7bcd40155683ae19c65e1c03b4aa3499c5328201f1"
   }
  }
 },
 "nbformat": 4,
 "nbformat_minor": 2
}
