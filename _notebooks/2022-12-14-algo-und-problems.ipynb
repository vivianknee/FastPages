{
 "cells": [
  {
   "attachments": {},
   "cell_type": "markdown",
   "metadata": {},
   "source": [
    "# Unit 3 Sections 17 and 18\n",
    "- badges: true\n",
    "- toc: true"
   ]
  },
  {
   "attachments": {},
   "cell_type": "markdown",
   "metadata": {},
   "source": [
    "## Vocab\n",
    "- heuristic solution: an approach to a problem that produces a solution that isn’t necessarily optimal but can be used when normal methods to an optimal solution would take forever\n",
    "- algorithmic efficiency: The ability of an algorithm to solve a problem in an efficient way"
   ]
  },
  {
   "attachments": {},
   "cell_type": "markdown",
   "metadata": {},
   "source": [
    "## Algorithm Efficiency and Undecidable Problems\n",
    "- algorithmic efficiency\n",
    "    - The ability of an algorithm to solve a problem in an efficient way\n",
    "    - An efficient algorithm solves a problem quickly and with a min amount of resources, such as time and memory.\n",
    "- How do we determine if an algorithm is efficient or not?\n",
    "    - One way we can do this is by determining the time complexity of the algorithm.\n",
    "    - Another way is through space complexity."
   ]
  },
  {
   "attachments": {},
   "cell_type": "markdown",
   "metadata": {},
   "source": [
    "- Time complexity\n",
    "    - How does the runtime of the function grow as the size of the input grows\n",
    "\n",
    "array = [1, 5, 8, 3 …, 10]\n",
    "\n",
    "def find_sum(array):\n",
    "\ttotal = 0\n",
    "\tfor each i in given array:\n",
    "\t\ttotal += i\n",
    "\treturn total"
   ]
  },
  {
   "attachments": {},
   "cell_type": "markdown",
   "metadata": {},
   "source": [
    "- heuristic solution\n",
    "    - an approach to a problem that produces a solution that isn’t necessarily optimal but can be used when normal methods to an optimal solution would take forever\n",
    "    - Usually made up using logic\n"
   ]
  },
  {
   "attachments": {},
   "cell_type": "markdown",
   "metadata": {},
   "source": [
    "- Traveling Merchant Problem Hacks:\n",
    "    - What did you and your team discuss? (record below)\n",
    "        - start at Indianapolis, then Louisville Cincinnati, Columbus, Detroit, and finally Chicago (805 miles)\n",
    "\n",
    "![travel](https://github.com/vivianknee/FastPages/blob/master/images/travel.png?raw=true)\n",
    "   "
   ]
  },
  {
   "attachments": {},
   "cell_type": "markdown",
   "metadata": {},
   "source": [
    "- decidable problem\n",
    "    - problem in cs and mathematics for which an algo can be created that can always produce a correct answer\n",
    "    - there exists an algo that can be used to determine whether a given input is a valid solution or not"
   ]
  },
  {
   "cell_type": "code",
   "execution_count": 1,
   "metadata": {},
   "outputs": [
    {
     "name": "stdout",
     "output_type": "stream",
     "text": [
      "True\n",
      "False\n"
     ]
    }
   ],
   "source": [
    "# ex\n",
    "def divideThirteen(number):\n",
    "    if number % 13 == 0:\n",
    "        return True\n",
    "    else:\n",
    "        return False\n",
    "\n",
    "print(divideThirteen(26))\n",
    "print(divideThirteen(30))"
   ]
  },
  {
   "attachments": {},
   "cell_type": "markdown",
   "metadata": {},
   "source": [
    "- undecidable problem\n",
    "    - a problem in cs and mathematics for which it is impossible to create an algorithm that can always provide a correct answer or solution. \n",
    "    - not possible for an algorithm to always determine whether a given input is a valid solution to an undecidable problem"
   ]
  },
  {
   "cell_type": "code",
   "execution_count": null,
   "metadata": {},
   "outputs": [],
   "source": [
    "#ex dont run\n",
    "i = 0\n",
    "number = 1\n",
    "def integerTest(n):\n",
    "    # Testing if the number is an integer\n",
    "    if n%1 ==0:\n",
    "        return True\n",
    "    else:\n",
    "        return False\n",
    "# Using while loop to keep searching an a non-integer above 1. Note that the computer runs forever.\n",
    "while i == 0:\n",
    "    number += 1\n",
    "    if integerTest(number) == False:\n",
    "        i +=1\n",
    "        print(\"Done\")"
   ]
  },
  {
   "attachments": {},
   "cell_type": "markdown",
   "metadata": {},
   "source": [
    "- halting problem\n",
    "    - example of an undecidable problem\n",
    "    - no way to write an algo to analyze and determine whether a body of code can run forever or not"
   ]
  },
  {
   "attachments": {},
   "cell_type": "markdown",
   "metadata": {},
   "source": [
    "- halting problem example\n",
    "    - `HaltChecker` analyzes the program, program P, and its input, input I. If program P halts with input I, `HaltChecker` returns an output of \"halts\". If program P doesn't halt(runs forever) with input I, `HaltChecker` returns an output of \"never\". For example, in the code where it tests if variable number, the code runs forever, so `HaltChecker` returns an output of “never”.\n",
    "    - Then, we add another algorithm called Reverser which reverses `HaltChecker`'s output. So, if \"never\" is the output of `HaltChecker`, then the output of Reverser is “halts”. It's also the same the other way around: if `HaltChecker` has an output of \"halts\", then `Reverser` has an output of “never”.\n",
    "    - We combine these algorithms into one entire body of code.\n",
    "    - **Since `Reverser` is the algorithm at the end, hence giving the ultimate output, notice how it prints \"never\" when in fact there is an end(As proved by `HaltChecker`), and how it also prints \"halts\" when there is in fact is no end to the code(Also proved by `HaltChecker`). As a result, `HaltChecker` is inaccurate and this is an undecidable problem**\n",
    "\n",
    "![halt](https://github.com/vivianknee/FastPages/blob/master/images/halt.png?raw=true)\n"
   ]
  },
  {
   "attachments": {},
   "cell_type": "markdown",
   "metadata": {},
   "source": [
    "## HW\n",
    "- Come up with one situation in which a computer runs into an undecidable problem. Explain why it is considered an undecidable problem\n",
    "    - an algorithm which finds all solutions of a Diophantine equation. \n",
    "    - A Diophantine equation is a more general case of Fermat's Last Theorem; we seek the integer roots of a polynomial in any number of variables with integer coefficients. Since we have only one equation but n variables, infinitely many solutions exist in the complex plane\n",
    "    - however, the problem becomes impossible if solutions are constrained to integer values only."
   ]
  },
  {
   "attachments": {},
   "cell_type": "markdown",
   "metadata": {},
   "source": [
    "- graph activity\n",
    "    1. Use the 1st code below and graph it (Desmos, TI Inpire Cas, e.t.c), change the x value only!\n",
    "    2. Label the number of loops done as x and the time (microseconds) to find the index as y\n",
    "    3. Connect the points \n",
    "    4. Do the same thing with the 2nd code\n",
    "    5. Compare the two graphs and explain which one of the two is more efficient and why (min. 2 sentences)\n",
    "\n",
    "The first graph appears to be more linear compared to the second graph which resembles the graph of logn. In addition, the points of the first graph are calculated using linear search which iterates through each number in the list one by one until it identifies the number. On the other hand, the second graph's points are calculated using binary search. Binary search cuts the list in half each time, repeating this process until your number is found. Therefore, binary search is much faster than linear search, hence the second graph is much more efficient."
   ]
  },
  {
   "attachments": {},
   "cell_type": "markdown",
   "metadata": {},
   "source": [
    "Graph 1\n",
    "\n",
    "![graph1](https://github.com/vivianknee/FastPages/blob/master/images/graph1.PNG?raw=true)\n",
    "\n",
    "Graph 2\n",
    "\n",
    "![graph2](https://github.com/vivianknee/FastPages/blob/master/images/graph2.PNG?raw=true)"
   ]
  },
  {
   "cell_type": "code",
   "execution_count": 16,
   "metadata": {},
   "outputs": [
    {
     "name": "stdout",
     "output_type": "stream",
     "text": [
      "Found element after 10000 loops in 616 microseconds\n",
      "Your number was found at 9999\n"
     ]
    }
   ],
   "source": [
    "import time\n",
    "\n",
    "def linear_search(lst, x):\n",
    "    start_time = time.perf_counter_ns() # records time (nanoseconds)\n",
    "    for i in range(len(lst)): # loops through the entire list \n",
    "\n",
    "        if lst[i] == x: # until the x value we are looking for is found\n",
    "            end_time = time.perf_counter_ns() # records time again\n",
    "            total_time = (end_time - start_time) // 1000 # subtracts last recorded time and first recorded time\n",
    "            print(\"Found element after {} loops in {} microseconds\".format(i+1, total_time)) # prints the results\n",
    "            return print(\"Your number was found at\", i)\n",
    "            \n",
    "    end_time = time.perf_counter_ns() # records the time again\n",
    "    total_time = (end_time - start_time) // 1000 # subtracts last recorded time and first recorded time\n",
    "    print(\"Element not found after {} loops in {} microseconds\".format(len(lst), total_time)) # prints the results\n",
    "    return \"Your number wasn't found :(\"\n",
    "\n",
    "\n",
    "lst = list(range(1, 10001)) # list with numbers 1-10000\n",
    "\n",
    "x = 10000 # replace with an integer between 1 and 10000 (I suggest big numbers like 500, 2000, so on)\n",
    "\n",
    "linear_search(lst, x) # runs procedure"
   ]
  },
  {
   "cell_type": "code",
   "execution_count": 37,
   "metadata": {},
   "outputs": [
    {
     "name": "stdout",
     "output_type": "stream",
     "text": [
      "Element found after 13 loops in 22 microseconds\n"
     ]
    },
    {
     "data": {
      "text/plain": [
       "99"
      ]
     },
     "execution_count": 37,
     "metadata": {},
     "output_type": "execute_result"
    }
   ],
   "source": [
    "import time \n",
    "\n",
    "def binary_search(lt, x):\n",
    "    start_time = time.perf_counter_ns() # starts timer\n",
    "    low = 0 # sets the lower side \n",
    "    mid = 0 # sets mid value\n",
    "    high = len(lt) -1 # sets the higher side\n",
    "    num_loops = 0 # number of loops the search undergoes to find the x value\n",
    "\n",
    "    while low<=high: # Loop ran until mid is reached\n",
    "        num_loops += 1 # adds one loop each time process is repeated\n",
    "        mid = (low + high) // 2 # takes the lowest and highest possible numbers and divides by 2 and rounds to closest whole #\n",
    "\n",
    "        if lt[mid] == x:\n",
    "            end_time = time.perf_counter_ns() # records time\n",
    "            total_time = (end_time - start_time) // 1000 # time in microseconds\n",
    "            print(\"Element found after {} loops in {} microseconds\".format(num_loops, total_time)) # prints the results\n",
    "            return mid # returns the index value\n",
    "\n",
    "        elif lt[mid] > x: # if mid was higher than x value, then sets new highest value as mid -1 \n",
    "            high = mid -1 \n",
    "\n",
    "        elif lt[mid] < x:\n",
    "            low = mid + 1 # if mid was lower than x, sets the new low as mid + 1\n",
    "            \n",
    "    end_time = time.perf_counter_ns()\n",
    "    total_time = (end_time - start_time) // 1000 \n",
    "    print(\"Element not found after {} loops in {} microseconds\".format(num_loops, total_time)) # prints the results\n",
    "    return \"Your number wasn't found :(\"\n",
    "\n",
    "\n",
    "lt = list(range(1, 10001)) # list with numbers 1-10000\n",
    "\n",
    "x = 100 # replace with an integer between 1 and 10000 (I suggest big numbers like 500, 2000, so on)\n",
    "\n",
    "binary_search(lt, x) # runs procedure"
   ]
  },
  {
   "attachments": {},
   "cell_type": "markdown",
   "metadata": {},
   "source": [
    "- Write an algorithm that solves a decidable problem. You can use math or whatever else you would like to do."
   ]
  },
  {
   "cell_type": "code",
   "execution_count": 40,
   "metadata": {},
   "outputs": [
    {
     "data": {
      "text/plain": [
       "False"
      ]
     },
     "execution_count": 40,
     "metadata": {},
     "output_type": "execute_result"
    }
   ],
   "source": [
    "#checks to see whether number is prime\n",
    "def isPrime(x):\n",
    "    for i in (2, x-1): #each number until x\n",
    "        if x % i == 0: #tests to see if the remainder is 0\n",
    "            return False\n",
    "    return True\n",
    "\n",
    "isPrime(10)"
   ]
  },
  {
   "attachments": {},
   "cell_type": "markdown",
   "metadata": {},
   "source": [
    "- Write code to get the computer to run forever"
   ]
  },
  {
   "cell_type": "code",
   "execution_count": null,
   "metadata": {},
   "outputs": [],
   "source": [
    "import random\n",
    "x = 1\n",
    "y = x + random.randint(1, 100)\n",
    "\n",
    "while x < y:\n",
    "    y = x - "
   ]
  }
 ],
 "metadata": {
  "kernelspec": {
   "display_name": "Python 3",
   "language": "python",
   "name": "python3"
  },
  "language_info": {
   "codemirror_mode": {
    "name": "ipython",
    "version": 3
   },
   "file_extension": ".py",
   "mimetype": "text/x-python",
   "name": "python",
   "nbconvert_exporter": "python",
   "pygments_lexer": "ipython3",
   "version": "3.8.10"
  },
  "orig_nbformat": 4,
  "vscode": {
   "interpreter": {
    "hash": "916dbcbb3f70747c44a77c7bcd40155683ae19c65e1c03b4aa3499c5328201f1"
   }
  }
 },
 "nbformat": 4,
 "nbformat_minor": 2
}
