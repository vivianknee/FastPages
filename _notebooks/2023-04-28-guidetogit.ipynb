{
 "cells": [
  {
   "attachments": {},
   "cell_type": "markdown",
   "metadata": {},
   "source": [
    "# Developing with Frontend & Backend\n",
    "> To get started with development, you need tools. You'll learn how to get the necessary tools here using Conda scripts.\n",
    "\n",
    "- toc: true\n",
    "- badges: false\n",
    "- comments: true\n",
    "- author: Paaras Purohit, Chinmay Ramamurthy, Raunak Mondal, Tanay Patel, Qais Jamili"
   ]
  },
  {
   "attachments": {},
   "cell_type": "markdown",
   "metadata": {},
   "source": [
    "# Setting up Machines with Conda Scripts "
   ]
  },
  {
   "attachments": {},
   "cell_type": "markdown",
   "metadata": {},
   "source": [
    "## GitHub\n",
    "\n",
    "- What is GitHub?\n",
    "    - place where users can share code\n",
    "- Why do we use GitHub? Why not Google Drive or messages?\n",
    "    - GitHub is primarily used for version control and collaboration on software development projects, while Google Drive is a cloud storage and document management platform.\n",
    "    - On the other hand, Google Drive is a cloud storage platform that allows users to store and share documents, spreadsheets, and other files. While it can be used for collaboration, it lacks the version control and code management features that make GitHub more suited for software development projects.\n",
    "- What's the difference between Git and GitHub?\n",
    "    - Git is the process of sharing code/ way to store code\n",
    "- Name as many Git commands as you can:\n",
    "    - git clone\n",
    "    - git push\n",
    "    - git pull\n",
    "    - git commit\n",
    "    - git config"
   ]
  },
  {
   "attachments": {},
   "cell_type": "markdown",
   "metadata": {},
   "source": [
    "## Two Main Machines\n",
    "- Which is better, MacOS or Windows?\n",
    "    - neither - Mr. Mort\n",
    "- Give some differences between MacOS and Windows in terms of the development we use in APCSP:\n",
    "    - Windows requires WSL to be installed but Mac already runs on linux so extra installations are'nt necessary\n",
    "- If you are on Windows, you want to skip the MacOS Setup instructions."
   ]
  },
  {
   "attachments": {},
   "cell_type": "markdown",
   "metadata": {},
   "source": [
    "## Our Tools:\n",
    "\n",
    "- What is the first tool you remember installing?\n",
    "    - python, bash, anaconda\n",
    "- Why was installations so hard the first time?\n",
    "    - lots of unknown errors\n",
    "    - impatience when reading instructions\n",
    "- Without looking back at previous notes, name three tools you remember installing. This can be kernels, extensions, any installation for APCSP, and also write why it is needed.\n",
    "    - Javascript - frontend code\n",
    "    - python - backend code\n",
    "    - anaconda \n",
    "    - brew - used to install other programs"
   ]
  },
  {
   "attachments": {},
   "cell_type": "markdown",
   "metadata": {},
   "source": [
    "## Actual Installations:\n",
    "\n",
    "Tool setup is a week 0 thing. You should already have the knowledge to set up your machine. There is also a high chance you had to remove your environments and set up your machine again due to errors. If, for some reason, these don't apply to you, go [here](https://nighthawkcoders.github.io/APCSP//techtalk/tools) to set up your machine, [here](https://nighthawkcoders.github.io/APCSP//techtalk/bash) to check everything working with Bash, and [here](https://nighthawkcoders.github.io/APCSP//c7.1/2022/09/12/PBL-fastpages-docker.html) for Docker setup, which are the main tools on our machine needed to develop in APCSP."
   ]
  },
  {
   "attachments": {},
   "cell_type": "markdown",
   "metadata": {},
   "source": [
    "### MacOS Conda Scripts\n",
    "\n",
    "After installing Homebrew, VSCode, and Python2, you'll need to run these Homebrew commands:"
   ]
  },
  {
   "cell_type": "code",
   "execution_count": null,
   "metadata": {
    "vscode": {
     "languageId": "shellscript"
    }
   },
   "outputs": [],
   "source": [
    "brew list # list packages\n",
    "brew update # update package list\n",
    "brew upgrade # upgrade packages\n",
    "brew install git  # install latest git\n",
    "brew install python # install python3 for development\n",
    "python --version # version of python3 installed\n",
    "brew install java # openjdk install"
   ]
  },
  {
   "attachments": {},
   "cell_type": "markdown",
   "metadata": {},
   "source": [
    "### Windows Conda Scripts\n",
    "\n",
    "To get set up, run these commands:"
   ]
  },
  {
   "cell_type": "code",
   "execution_count": null,
   "metadata": {
    "vscode": {
     "languageId": "shellscript"
    }
   },
   "outputs": [],
   "source": [
    "wsl --install\n",
    "wsl --list\n",
    "wsl --install -d Ubuntu-20.04\n",
    "# restart machine\n",
    "wsl\n",
    "cd ~\n",
    "mkdir vscode\n",
    "ls\n",
    "cd ~/vscode  # changes the directory to path for vscode files\n",
    "git clone https://github.com/nighthawkcoders/APCSP.git # clone repo\n",
    "cd APCSP  # changes the directory to path for APCSP repos assets\n",
    "code .  # opens APCSP in VSCode\n",
    "cd ..    # changes the directory to the previous/parent directory\n",
    "git config --global user.email mygmail@gmail.com  # tell git your email\n",
    "git config --global user.name mygithub   # tell git your github id\n",
    "shay@MSI:/mnt/c/Users/ShayM$ git config --global user.email your@email.here\n",
    "shay@MSI:/mnt/c/Users/ShayM$ git config --global user.name yourusernamehere\n",
    "# restart machine\n",
    "PS C:\\Users\\UserName> wsl  # Windows prompt to WSL command\n",
    "cd /tmp\n",
    "wget https://repo.anaconda.com/archive/Anaconda3-2022.05-Linux-x86_64.sh\n",
    "chmod +x Anaconda3-2022.05-Linux-x86_64.sh\n",
    "# Answer yes to all the prompts\n",
    "./Anaconda3-2022.05-Linux-x86_64.sh\n",
    "# run apt package commands now\n",
    "sudo apt list # list packages\n",
    "sudo apt update # update package list\n",
    "sudo apt upgrade # upgrade packages\n",
    "sudo apt install python2 # install python2 for package dependencies\n",
    "sudo apt install python3 python3-pip # install python3 and pip3 for development\n",
    "python --version  # version of python3 should be shown\n",
    "sudo apt install default-jdk default-jre  # java install\n",
    "java --version  # java runtime version\n",
    "javac --version # java compiler version\n",
    "sudo apt install unzip  # unzip utility"
   ]
  },
  {
   "attachments": {},
   "cell_type": "markdown",
   "metadata": {},
   "source": [
    "### Setting Up Kernels\n",
    "\n",
    "Now that you have everything installed on MacOS/Windows, we need to get kernels installed so that we can develop inside Fastpages notebooks. To do that, run these commands on both MacOS and Windows:"
   ]
  },
  {
   "cell_type": "code",
   "execution_count": null,
   "metadata": {
    "vscode": {
     "languageId": "shellscript"
    }
   },
   "outputs": [],
   "source": [
    "(base) id:~$ conda --version \n",
    "(base) id:~$ conda install jupyter # install jupyter\n",
    "(base) id:~$ jupyter kernelspec list # list installed kernels\n",
    "Available kernels:\n",
    "  python3    /home/shay/.local/share/jupyter/kernels/python3\n",
    "\n",
    "(base) id:~$ # start in home directory\n",
    "(base) id:~$ pip install bash_kernel # download bash kernel\n",
    "Collecting bash_kernel\n",
    "  Downloading bash_kernel-0.7.2-py2.py3-none-any.whl (15 kB)\n",
    "Requirement already satisfied: pexpect>=4.0 in ./anaconda3/lib/python3.9/site-packages (from bash_kernel) (4.8.0)\n",
    "Requirement already satisfied: ptyprocess>=0.5 in ./anaconda3/lib/python3.9/site-packages (from pexpect>=4.0->bash_kernel) (0.7.0)\n",
    "Installing collected packages: bash-kernel\n",
    "Successfully installed bash-kernel-0.7.2\n",
    "(base) id:~$ python -m bash_kernel.install # install kernel\n",
    "Installing IPython kernel spec\n",
    "(base) id:~$ jupyter kernelspec list # list kernels\n",
    "Available kernels:\n",
    "  bash       /home/shay/.local/share/jupyter/kernels/bash\n",
    "  python3    /home/shay/.local/share/jupyter/kernels/python3\n",
    "\n",
    "(base) id:~$ conda install nodejs # node is framework for JavaScript kernel\n",
    "(base) id:~$ npm -version  # node package manager comes with nodejs\n",
    "(base) id:~$ npm install -g ijavascript  # get the kernel\n",
    "(base) id:~$ ijsinstall # install javascript kernel\n",
    "(base) id:~$ jupyter kernelspec list # list kernels\n",
    "Available kernels:\n",
    "  bash          /home/shay/.local/share/jupyter/kernels/bash\n",
    "  javascript    /home/shay/.local/share/jupyter/kernels/javascript\n",
    "  python3       /home/shay/.local/share/jupyter/kernels/python3"
   ]
  },
  {
   "attachments": {},
   "cell_type": "markdown",
   "metadata": {},
   "source": [
    "By now, you should already know how to clone Git repositories into your VSCode directory. Once you do that, you're all set for developing with GitHub Pages and Fastpages!"
   ]
  },
  {
   "attachments": {},
   "cell_type": "markdown",
   "metadata": {},
   "source": [
    "## Before We Set Up Pages, A Guide to Git\n",
    "\n",
    "As we've discussed, Git is different from GitHub. Because GitHub is merely the place where we store Git repos, we use Git's commands to help us get, open, and configure these repositories. Here are some of the Git commands you should be using a lot (In the comments, tell what each Git command does):"
   ]
  },
  {
   "cell_type": "code",
   "execution_count": null,
   "metadata": {
    "vscode": {
     "languageId": "shellscript"
    }
   },
   "outputs": [],
   "source": [
    "git clone {repos-name-here.git} # what does it do? clones a repo onto your own local vscode folder\n",
    "git checkout [branch] # what does it do? Commit only to certain branches of a repo instead of to the main branch\n",
    "git fork {repos-name-here.git} # what does it do? makes a copy of an existing repository. Can make changes without affecting original repo\n",
    "git commit -m {\"commit-msg\"} # what does it do? commits any changes to the repo. -m just adds a message since that it required to commit\n",
    "git pull # what does it do? pull changes from repo. synch and become up to date\n",
    "git push # what does it do? push changes to repo\n",
    "\n",
    "# After this line, name other commands that you can use and what they do. This should be easy, as you've already answered the qeue\n",
    "git init # Initializes a new Git repository in the current directory.\n",
    "git add # Adds changes to the staging area. This command allows you to choose which changes to commit.\n",
    "git status # Shows the current status of the repository. This command displays information about changes made to the files in the repository.\n",
    "git log # Shows a log of all the commits made to the repository. This command displays information about the author, date, and message of each commit."
   ]
  },
  {
   "attachments": {},
   "cell_type": "markdown",
   "metadata": {},
   "source": [
    "## Setting Up GitHub Pages\n",
    "\n",
    "1. Some of you may have come to know that GitHub Pages is starting to become outdated. So why do we still use it? The answer is that we are in a class, and following a curriculum with something like GitHub Pages is much easier than creating portfolio content from scratch, which becomes quite unnecessary. Therefore, we can use GitHub Pages to create this content instead. \n",
    "2. On the topic of unnecessary vs necessary coding, we don't need to make GitHub Pages from scratch as opposed to using a template that our very own Mr. Mortensen created for us. To do that, we can go to the [Leuck Reunion](https://github.com/jm1021/leuck_reunion) repository and use the template to make our own GitHub Pages. \n",
    "3. Then, in Ubuntu, we can ```git clone``` our repository and open it in VSCode. After we have it open, the last thing we want to do is set up local hosting for this website, so that we can preview it and make changes in real time. To do that, head [here](https://jekyllrb.com/docs/installation/ubuntu/) to install Jekyll for Ubuntu, [here](https://www.ruby-lang.org/en/documentation/installation/) to install Ruby next, and [here](https://bundler.io/) to finalize the process by installing Bundler."
   ]
  },
  {
   "attachments": {},
   "cell_type": "markdown",
   "metadata": {},
   "source": [
    "## Setting Up FastPages\n",
    "\n",
    "In Setting Up Github Pages, we talked about how it is easier to use a template to create portfolio content. It is also easier to use a template when creating the portfolio itself. To do that, we can use Fastpages, which is what we have been using to show our blogs, code, and projects. However, Fastpages has been deprecated for some time now, so the instructions in Week 0 won't be effective. So, we need to fork the APCSP Fastpages. To do that, follow [this]() video to get started developing with Fastpages."
   ]
  },
  {
   "attachments": {},
   "cell_type": "markdown",
   "metadata": {},
   "source": [
    "# Hacks\n",
    "\n",
    "- Show how you incorporate three tools that we have installed into your project. 0.1 points for each feature. (0.3). This can include code, but definitely blog about it.\n",
    "    - Used javascript to write a function that filters data that is fetched from the backend. Additionally, javascript is used to write a fetch method to actually access the data in the backend.\n",
    "    - Used python to adapt the API and Model code. API acts as a bridge between frontend and backend. Model code creates my Car objects and populates a data table which is accessed by fetch call on the frontend. \n",
    "    - \n",
    "- frontend hack goes here\n",
    "    - frontend code below utilizes javascript to do a fetch call to the backend (which is deployed with AWS)\n",
    "    - Below the fetch call is a function that does filtering. It iterates through the list which contains data from the backend. Users select values from drop down menus on the user interface. These values are compared to the values of the cars in the list \"all_cars\". matches are pushed to a list called \"result\", which are then pushed to a table on the user's screen."
   ]
  },
  {
   "cell_type": "code",
   "execution_count": null,
   "metadata": {
    "vscode": {
     "languageId": "javascript"
    }
   },
   "outputs": [],
   "source": [
    " \n",
    " function getAllCars() {\n",
    "        fetch('https://finalssvgcars.duckdns.org/api/cars/').then(function(response) {\n",
    "                return response.json();\n",
    "            }).then(function(data) {\n",
    "                console.log(data);\n",
    "                all_cars = data;\n",
    "            }).catch(function(err) {\n",
    "                console.log(err);\n",
    "            });\n",
    "    }"
   ]
  },
  {
   "cell_type": "code",
   "execution_count": null,
   "metadata": {
    "vscode": {
     "languageId": "javascript"
    }
   },
   "outputs": [],
   "source": [
    "\n",
    "function getCarResults(brand, color, type, powersource, pricerange) {\n",
    "    var result = [];\n",
    "    for (const car of all_cars){\n",
    "          console.log(car);\n",
    "          console.log(\"price range from data is:\" + typeof car[\"pricerange\"] + car[\"pricerange\"])\n",
    "          console.log(\"being compared to:\" + typeof pricerange + pricerange)\n",
    "\n",
    "        if ((car[\"brand\"] === brand || !brand) &&\n",
    "            (car[\"color\"] === color || !color) &&\n",
    "            (car[\"type\"] === type || !type) && \n",
    "            (car[\"powersource\"] === powersource || !powersource) && \n",
    "            (car[\"pricerange\"] === parseInt(pricerange, 10) || !pricerange)) {\n",
    "            result.push(car);\n",
    "        }\n",
    "    }\n",
    "\n",
    "    if (result.length === 0) {\n",
    "        console.log('No Cars Found');\n",
    "    }\n",
    "\n",
    "    else {\n",
    "        console.log(result.length + 'Cars Found');\n",
    "    }\n",
    "\n",
    "    return result;\n",
    "}"
   ]
  },
  {
   "attachments": {},
   "cell_type": "markdown",
   "metadata": {},
   "source": [
    "- backend hack goes here\n",
    "    - not all of the code but this is the function initCars which pre-defines Car objects and populates them into a database\n",
    "    - I've also included CRUD features which are responsible for Create, read, add, and deleting objects from the database"
   ]
  },
  {
   "cell_type": "code",
   "execution_count": null,
   "metadata": {},
   "outputs": [],
   "source": [
    "def initCars():\n",
    "    with app.app_context():\n",
    "        \"\"\"Create database and tables\"\"\"\n",
    "        db.create_all()\n",
    "\n",
    "        \"\"\"Tester data for table\"\"\"\n",
    "        c1 = Car(image='1', brand='Acura', color='gray', powersource='ice', type='suv', pricerange='2')\n",
    "        c2 = Car(image='2', brand='Hyundai', color='red', powersource='ice', type='sedan', pricerange='1') \n",
    "        c3 = Car(image='3', brand='Mazda', color='white', powersource='ice', type='sedan', pricerange='1')\n",
    "        c4 = Car(image='4', brand='Honda', color='gray', powersource='ice', type='suv', pricerange='1')\n",
    "        c5 = Car(image='5', brand='Dodge', color='black', powersource='ice', type='suv', pricerange='2')\n",
    "        c6 = Car(image='6', brand='Toyota', color='white', powersource='ice', type='truck', pricerange='2') \n",
    "        c7 = Car(image='7', brand='Hyundai', color='blue', powersource='ice', type='sedan', pricerange='1')\n",
    "        c8 = Car(image='8', brand='Chevrolet', color='gray', powersource='ice', type='truck', pricerange='2')\n",
    "        c9 = Car(image='9', brand='Jeep', color='gray', powersource='ice', type='suv', pricerange='1')\n",
    "        c10 = Car(image='10', brand='Nissan', color='silver', powersource='ice', type='sedan', pricerange='1') \n",
    "        c11 = Car(image='11', brand='Lexus', color='black', powersource='ice', type='sedan', pricerange='2')\n",
    "        c12 = Car(image='12', brand='Kia', color='red', powersource='ice', type='suv', pricerange='1')\n",
    "        c13 = Car(image='13', brand='Mazda', color='red', powersource='ice', type='truck', pricerange='2')\n",
    "        c14 = Car(image='14', brand='Ford', color='white', powersource='ice', type='sedan', pricerange='2') \n",
    "        c15 = Car(image='15', brand='Kia', color='red', powersource='ice', type='truck', pricerange='2')\n",
    "        c16 = Car(image='16', brand='Ford', color='gray', powersource='ice', type='suv', pricerange='1')\n",
    "        c17 = Car(image='17', brand='Jeep', color='red', powersource='ice', type='truck', pricerange='1')\n",
    "        c18 = Car(image='18', brand='Toyota', color='red', powersource='electric', type='suv', pricerange='3') \n",
    "        c19 = Car(image='19', brand='Kia', color='silver', powersource='ice', type='truck', pricerange='1')\n",
    "        c20 = Car(image='20', brand='Honda', color='white', powersource='ice', type='suv', pricerange='1')\n",
    "        c21 = Car(image='21', brand='Hyundai', color='white', powersource='ice', type='sedan', pricerange='1')\n",
    "        c22 = Car(image='22', brand='Chevrolet', color='white', powersource='ice', type='suv', pricerange='3') \n",
    "        c23 = Car(image='23', brand='Jeep', color='white', powersource='ice', type='suv', pricerange='3')\n",
    "        c24 = Car(image='24', brand='BMW', color='gray', powersource='ice', type='sedan', pricerange='4')\n",
    "        c25 = Car(image='25', brand='Ferrari', color='yellow', powersource='ice', type='sports', pricerange='4')\n",
    "        c26 = Car(image='26', brand='Tesla', color='red', powersource='electric', type='suv', pricerange='4') \n",
    "        c27 = Car(image='27', brand='Tesla', color='blue', powersource='electric', type='suv', pricerange='4')\n",
    "        c28 = Car(image='28', brand='Ford', color='white', powersource='electric', type='truck', pricerange='3')\n",
    "        c29 = Car(image='29', brand='Ford', color='blue', powersource='electric', type='truck', pricerange='4')\n",
    "        c30 = Car(image='30', brand='Audi', color='black', powersource='electric', type='suv', pricerange='4') \n",
    "        c31 = Car(image='31', brand='Ferrari', color='red', powersource='electric', type='sports', pricerange='4')\n",
    "        c32 = Car(image='32', brand='Mercedes', color='silver', powersource='electric', type='sedan', pricerange='4')\n",
    "        c33 = Car(image='33', brand='Mazda', color='silver', powersource='electric', type='suv', pricerange='2')\n",
    "        c34 = Car(image='34', brand='Nissan', color='blue', powersource='electric', type='suv', pricerange='2') \n",
    "        c35 = Car(image='35', brand='Subaru', color='red', powersource='electric', type='suv', pricerange='2')\n",
    "\n",
    "        cars = [c1, c2, c3, c4, c5, c6, c7, c8, c9, c10, c11, c12, c13, c14, c15, c16, c17, c18, c19, c20, c21, c22, c23, c24, c25, c26, c27, c28, c29, c30, c31, c32, c33, c34, c35]\n",
    "\n",
    "        try:\n",
    "            db.session.query(Car).delete()\n",
    "            db.session.commit()\n",
    "        except:\n",
    "            db.session.rollback()\n",
    "\n",
    "        \"\"\"Builds sample car/note(s) data\"\"\"\n",
    "        for car in cars:\n",
    "            try:\n",
    "                car.create()\n",
    "            except IntegrityError:\n",
    "                '''fails with bad or duplicate data'''\n",
    "                db.session.remove()\n",
    "                print(f\"Records exist, duplicate email, or error: {car.model}\")"
   ]
  },
  {
   "cell_type": "code",
   "execution_count": null,
   "metadata": {},
   "outputs": [],
   "source": [
    "  def create(self):\n",
    "        try:\n",
    "            # creates a person object from User(db.Model) class, passes initializers\n",
    "            db.session.add(self)  # add prepares to persist person object to Users table\n",
    "            db.session.commit()  # SqlAlchemy \"unit of work pattern\" requires a manual commit\n",
    "            return self\n",
    "        except IntegrityError:\n",
    "            db.session.remove()\n",
    "            return None\n",
    "\n",
    "    # CRUD read converts self to dictionary\n",
    "    # returns dictionary\n",
    "    def read(self):\n",
    "        return {\n",
    "            \"id\": self.id,\n",
    "            \"image\": self.image,\n",
    "            \"brand\" : self.brand,\n",
    "            \"color\" : self.color,\n",
    "            \"type\" : self.type,\n",
    "            \"powersource\" : self.powersource,\n",
    "            \"pricerange\" : self.pricerange\n",
    "        }\n",
    "\n",
    "    # CRUD update: updates user name, password, phone\n",
    "    # returns self\n",
    "    def update(self, image=\"\", brand=\"\", color=\"\", powersource=\"\", type=\"\", pricerange=\"\"):\n",
    "        \"\"\"only updates values with length\"\"\"\n",
    "        if len(image) > 0:\n",
    "            self.image = image\n",
    "        if len(brand) > 0:\n",
    "            self.brand = brand\n",
    "        if len(color) > 0:\n",
    "            self.color = color\n",
    "        if len(type) > 0:\n",
    "            self.type = type\n",
    "        if len(powersource) > 0:\n",
    "            self.powersource = powersource\n",
    "        if len(pricerange) > 0:\n",
    "            self.pricerange = pricerange\n",
    "        db.session.commit()\n",
    "        return self\n",
    "\n",
    "    # CRUD delete: remove self\n",
    "    # None\n",
    "    def delete(self):\n",
    "        db.session.delete(self)\n",
    "        db.session.commit()\n",
    "        return None"
   ]
  }
 ],
 "metadata": {
  "kernelspec": {
   "display_name": "base",
   "language": "python",
   "name": "python3"
  },
  "language_info": {
   "codemirror_mode": {
    "name": "ipython",
    "version": 3
   },
   "file_extension": ".py",
   "mimetype": "text/x-python",
   "name": "python",
   "nbconvert_exporter": "python",
   "pygments_lexer": "ipython3",
   "version": "3.10.9"
  },
  "orig_nbformat": 4
 },
 "nbformat": 4,
 "nbformat_minor": 2
}
