{
 "cells": [
  {
   "attachments": {},
   "cell_type": "markdown",
   "metadata": {},
   "source": [
    "# Sorting Algorithms\n",
    "> Working with Data Structures and manipulating data.\n",
    "- toc: true"
   ]
  },
  {
   "cell_type": "code",
   "execution_count": 3,
   "metadata": {},
   "outputs": [
    {
     "name": "stdout",
     "output_type": "stream",
     "text": [
      "Random List\n",
      "[9, 62, 78, 54, 18, 74, 58, 84, 20, 46]\n"
     ]
    }
   ],
   "source": [
    "import random\n",
    "\n",
    "numbers = []\n",
    "for i in range(10):\n",
    "    numbers.append(random.randint(0,100))\n",
    "print(\"Random List\")\n",
    "print(numbers)"
   ]
  },
  {
   "attachments": {},
   "cell_type": "markdown",
   "metadata": {},
   "source": [
    "# Warm Up\n",
    "> Discuss with a partner... \n",
    "What are some strategies you would use to sort this list? (Don't worry about writing code for now)\n",
    "- built in syntax (PANDAS)"
   ]
  },
  {
   "attachments": {},
   "cell_type": "markdown",
   "metadata": {},
   "source": [
    "# Explore\n",
    "Bubble Sort\n",
    "What is happening with this sort?\n",
    "- It repeatedly compares adjacent elements in a list and swaps them if they are in the wrong order.\n",
    "- It starts by comparing the first two elements and swapping them if necessary.\n",
    "- Then it compares the second and third elements, the third and fourth elements, and so on, until reaching the end of the list.\n",
    "\n",
    "[Merge](https://www.geeksforgeeks.org/merge-sort/#)\n",
    "- Advantages\n",
    "    - time complexity of O(n logn) meaning it can sort though large arrays pretty quickly\n",
    "    - stable search\n",
    "- Process\n",
    "    - it is a recursive algorithm that continuously splits an array in half until it cannot be divided any further\n",
    "    - merge sort is done each time the array is halved and then when all halves have been sorted, the merge operation is applied.\n",
    "    - merge operation takes smaller sorted arrays and combines them into a larger one\n",
    "\n",
    "[Selection](https://www.geeksforgeeks.org/selection-sort/)\n",
    "- starts with a list and finds the smallest element, and swaps it with the 1st element\n",
    "- continues to do this until it gets to the largest element\n",
    "\n",
    "[Insertion](https://www.geeksforgeeks.org/insertion-sort/)\n",
    "- go from one number to the next and swap it if the number is smaller\n",
    "- it goes from item to item in the list and checks that the number is in the right spot"
   ]
  },
  {
   "attachments": {},
   "cell_type": "markdown",
   "metadata": {},
   "source": [
    "## Practice\n",
    "\n",
    "[75, 17, 46, 80, 67, 45, 69, 79, 40, 0]\n",
    "\n",
    "How would you sort this list with... \n",
    "- Bubble Sort\n",
    "    - it compares the first and second element, then the second and third, then the third and fourth until it reaches the end of the list. While it compares the numbers, it will swap them if one number is smaller than the other.\n",
    "- Selection Sort\n",
    "    - it will iterate through the list and find the smallest number which it will then swap with the first number in the list. It will then find the next smallest number and put it in the second spot in the list. It will keep doing this till it reaches the largest element.\n",
    "    \n",
    "[88, 39, 53, 39, 58, 43, 74, 81, 71, 51]\n",
    "\n",
    "How would you sort this list with... \n",
    "- Merge Sort\n",
    "    - you would halve the list again and again until the list cannot be sorted anymore. Then each time it is halved, the merge sort is done on each half so that when it can no longer be halved, everything is sorted. It then merges the halved lists back together into one list.\n",
    "- Insertion Sort\n",
    "    - starts from the first number in the list and compares it to the next number. if the number is smaller, they swap. It keeps going until it goes through the entire list. If a number is not in the right place, the algorithm will check the list and place it in the right spot."
   ]
  },
  {
   "attachments": {},
   "cell_type": "markdown",
   "metadata": {},
   "source": [
    "# Sorting Words\n",
    "> Sorting strings works in the same way as integers. Using your expertise algorithm, sort the following list of random words."
   ]
  },
  {
   "cell_type": "code",
   "execution_count": 5,
   "metadata": {},
   "outputs": [
    {
     "name": "stdout",
     "output_type": "stream",
     "text": [
      "Random List\n",
      "['parliament', 'preterpluperfect', 'dragade', 'cooperage', 'spasmodic', 'praesertim', 'munj', 'loveless', 'asporogenous', 'storeship']\n"
     ]
    },
    {
     "name": "stderr",
     "output_type": "stream",
     "text": [
      "[nltk_data] Downloading package words to /Users/vivian/nltk_data...\n",
      "[nltk_data]   Package words is already up-to-date!\n"
     ]
    }
   ],
   "source": [
    "import nltk\n",
    "import random\n",
    "\n",
    "nltk.download('words')  # Download the word list (only required once)\n",
    "\n",
    "from nltk.corpus import words\n",
    "\n",
    "english_words = words.words()\n",
    "#print(len(english_words))  # Prints the number of words in the list\n",
    "\n",
    "# You can now use the 'english_words' list in your code\n",
    "\n",
    "word_list = []\n",
    "for i in range(10):\n",
    "    word_list.append(english_words[random.randint(0,len(english_words))])\n",
    "print(\"Random List\")\n",
    "print(word_list)"
   ]
  },
  {
   "cell_type": "code",
   "execution_count": 6,
   "metadata": {},
   "outputs": [
    {
     "name": "stdout",
     "output_type": "stream",
     "text": [
      "Sorted words: ['asporogenous', 'cooperage', 'dragade', 'loveless', 'munj', 'parliament', 'praesertim', 'preterpluperfect', 'spasmodic', 'storeship']\n"
     ]
    }
   ],
   "source": [
    "def bubble_sort(word_list):\n",
    "    n = len(word_list)\n",
    "    for i in range(n-1):\n",
    "        for j in range(n-i-1):\n",
    "            if word_list[j] > word_list[j+1]:\n",
    "                word_list[j], word_list[j+1] = word_list[j+1], word_list[j]\n",
    "\n",
    "bubble_sort(word_list)\n",
    "\n",
    "print(\"Sorted words:\", word_list)"
   ]
  },
  {
   "attachments": {},
   "cell_type": "markdown",
   "metadata": {},
   "source": [
    "## Discuss \n",
    "Answer the following with your group.\n",
    "\n",
    "- When should you use each algorithm? What makes an algorithm the right choice?\n",
    "    - time and space complexity\n",
    "- Given the following lists...\n",
    "    - [0, 2, 6, 4, 8, 10]\n",
    "    - [Elephant, Banana, Cat, Dog, Apple]\n",
    "    - [29, 13, 83, 47, 32, 78, 100, 60, 65, 15, 24, 9, 40, 68, 53, 8, 90, 58, 39, 32, 34, 91, 74, 94, 49, 87, 34, 87, 23, 17, 27, 2, 38, 58, 84, 15, 9, 46, 74, 40, 44, 8, 55, 28, 81, 92, 81, 88, 53, 38, 19, 21, 9, 54, 21, 67, 3, 41, 3, 74, 13, 71, 70, 45, 5, 36, 80, 64, 97, 86, 73, 74, 94, 79, 49, 32, 20, 68, 64, 69, 1, 77, 31, 56, 100, 80, 48, 75, 85, 93, 67, 57, 26, 56, 43, 53, 59, 28, 67, 50]\n",
    "\n",
    "- Select the algorithm you believe is best for each, explain.\n",
    "    - for the first one, you can use insertion which could swap the 6 and 4. Once it reaches the end of the list, the algorithm is finished so it is the most efficient\n",
    "    - for the second list, selection is the best sorting algorithm because it looks for the smallest item in the list which would be apple since it is alphabetically at a minimum. It would then swap it with elephant and so on\n",
    "    - for the third list, the best sorting algorithm would be merge because merge works the best on larger data sets. It can keep halving the data set, sorting, and finally merge it back into one list. "
   ]
  },
  {
   "attachments": {},
   "cell_type": "markdown",
   "metadata": {},
   "source": [
    "## HACKS\n",
    "> Provided below is a Bubble Sort Algorithm sorting a list of dictionaries based off of selected key.\n",
    "\n",
    "- Now it's time to do some coding...\n",
    "\n",
    "- Run code and then research and answer these questions...\n",
    "    - Is a list and/or dictionary in python considered a primitive or collection type?  Why?\n",
    "        - In Python, both lists and dictionaries are considered collection types\n",
    "        - A primitive type refers to data types such as integers, floats, booleans, and characters. These types hold a single value and are not composed of smaller elements. On the other hand, collection types are data structures that can hold multiple values or objects.\n",
    "        - Lists in Python are ordered collections of elements, where each element can be of any data type. Lists are considered collection types because they can store multiple values in a single variable.\n",
    "    - Is the list passed into bubble sort \"pass-by-value\" or \"pass-by-reference? Describe why in relation to output.\n",
    "        - In Python, the list is passed by reference when passed into a function like bubble sort\n",
    "        - This means that any changes made to the list inside the function will affect the original list outside the function. The reason for this behavior is that when a list is passed to a function, its 'reference' is passed, rather than creating a new copy of the entire list.\n",
    "        - In the case of bubble sort, as elements are swapped within the function, the original list is modified. The modifications are reflected in the output because the function operates directly on the referenced list\n",
    "\n",
    "- Implement new cell(s) and/or organize cells to do the following.\n",
    "    - Create your own list and sorting algorithm \n",
    "    - Test your list with my bubble sort\n",
    "    - Test my list with your new sort\n",
    "    - Research analysis on sorting: comparisons, swaps, time.  Build this into your hacks.\n",
    "    - Find a better way to print the data, key first, then other elements in viewable form.\n",
    "\n",
    "Use the code below to help guide your adventure"
   ]
  },
  {
   "cell_type": "code",
   "execution_count": 9,
   "metadata": {},
   "outputs": [
    {
     "name": "stdout",
     "output_type": "stream",
     "text": [
      "Original\n",
      "[{'name': 'Risa', 'age': 18, 'city': 'New York'}, {'name': 'John', 'age': 63, 'city': 'Eugene'}, {'name': 'Shekar', 'age': 18, 'city': 'San Francisco'}, {'name': 'Ryan', 'age': 21, 'city': 'Los Angeles'}]\n",
      "name\n",
      "[{'name': 'John', 'age': 63, 'city': 'Eugene'}, {'name': 'Risa', 'age': 18, 'city': 'New York'}, {'name': 'Ryan', 'age': 21, 'city': 'Los Angeles'}, {'name': 'Shekar', 'age': 18, 'city': 'San Francisco'}]\n",
      "age\n",
      "[{'name': 'Risa', 'age': 18, 'city': 'New York'}, {'name': 'Shekar', 'age': 18, 'city': 'San Francisco'}, {'name': 'Ryan', 'age': 21, 'city': 'Los Angeles'}, {'name': 'John', 'age': 63, 'city': 'Eugene'}]\n",
      "city\n",
      "[{'name': 'John', 'age': 63, 'city': 'Eugene'}, {'name': 'Ryan', 'age': 21, 'city': 'Los Angeles'}, {'name': 'Risa', 'age': 18, 'city': 'New York'}, {'name': 'Shekar', 'age': 18, 'city': 'San Francisco'}]\n"
     ]
    }
   ],
   "source": [
    "\"\"\"\n",
    "* Creator: Nighthawk Coding Society\n",
    "Bubble Sort of a List with optimizations\n",
    "\"\"\"\n",
    "\n",
    "# bubble sorts a list of dictionaries, base off of provided key\n",
    "def bubbleSort(list, key):\n",
    "    n = len(list) - 1  # list are indexed 0 to n-1, len is n\n",
    "    \n",
    "    # Traverse through list with i index\n",
    "    for i in range(n):\n",
    "        swapped = False  # optimize code, so it exits if now swaps on inner loop\n",
    "\n",
    "        # Inner traversal using j index\n",
    "        for j in range(n-i):  # n-i as positions on right are in order in bubble\n",
    " \n",
    "            # Swap if the element KeyN is greater KeyN1\n",
    "            keyN = list[j].get(key)\n",
    "            keyN1 = list[j+1].get(key)\n",
    "            if keyN > keyN1:\n",
    "                swapped = True\n",
    "                list[j], list[j + 1] = list[j + 1], list[j]  # single line swap\n",
    "         \n",
    "        if not swapped:  # if no swaps on inner pass, list is sorted\n",
    "            return  # exit function\n",
    "    \n",
    "\n",
    "if __name__ == \"__main__\":\n",
    "    # list/dictionary sample\n",
    "    list_of_people = [\n",
    "    {\"name\": \"Risa\", \"age\": 18, \"city\": \"New York\"},\n",
    "    {\"name\": \"John\", \"age\": 63, \"city\": \"Eugene\"},\n",
    "    {\"name\": \"Shekar\", \"age\": 18, \"city\": \"San Francisco\"},\n",
    "    {\"name\": \"Ryan\", \"age\": 21, \"city\": \"Los Angeles\"}\n",
    "    ]\n",
    "    \n",
    "    # assuming uniform keys, pick 1st row as source of keys\n",
    "    key_row = list_of_people[0]\n",
    "\n",
    "    # print list as defined\n",
    "    print(\"Original\")\n",
    "    print(list_of_people)\n",
    "    \n",
    "    for key in key_row:  # finds each key in the row\n",
    "        print(key)\n",
    "        bubbleSort(list_of_people, key)  # sort list of people\n",
    "        print(list_of_people)"
   ]
  },
  {
   "attachments": {},
   "cell_type": "markdown",
   "metadata": {},
   "source": [
    "Creating my own list and sorting algorithm (merge)"
   ]
  },
  {
   "cell_type": "code",
   "execution_count": 7,
   "metadata": {},
   "outputs": [
    {
     "name": "stdout",
     "output_type": "stream",
     "text": [
      "[{'name': 'Aliya', 'rating': 7, 'hours': 8}, {'name': 'Sreeja', 'rating': 8, 'hours': 5}, {'name': 'Vivian', 'rating': 8, 'hours': 7}, {'name': 'Sri', 'rating': 10, 'hours': 11}, {'name': 'Drew', 'rating': 10, 'hours': 80}, {'name': 'mort', 'rating': 50, 'hours': 50}, {'name': 'yeung', 'rating': 100, 'hours': 67}]\n",
      "[{'name': 'Sreeja', 'rating': 8, 'hours': 5}, {'name': 'Vivian', 'rating': 8, 'hours': 7}, {'name': 'Aliya', 'rating': 7, 'hours': 8}, {'name': 'Sri', 'rating': 10, 'hours': 11}, {'name': 'mort', 'rating': 50, 'hours': 50}, {'name': 'yeung', 'rating': 100, 'hours': 67}, {'name': 'Drew', 'rating': 10, 'hours': 80}]\n"
     ]
    }
   ],
   "source": [
    "def mergeSort(arr, sortkey):\n",
    "    if len(arr) > 1: # makes sure list isn't alr sorted\n",
    "        left_arr = arr[:len(arr)//2] #starts at beginning and goes to mid\n",
    "        right_arr = arr[len(arr)//2:] #starts at middle and goes to end\n",
    "        \n",
    "        # recursion for merge sort\n",
    "        mergeSort(left_arr, sortkey)\n",
    "        mergeSort(right_arr, sortkey)\n",
    "        \n",
    "        # merge step\n",
    "        i = 0 # keep track of leftmost element in left arr\n",
    "        j = 0 # keep track of leftmost element in right arr\n",
    "        k = 0 # merged array index\n",
    "        \n",
    "        while i < len(left_arr) and j < len(right_arr): # keep going until one array is at the end of the index\n",
    "            if compareArrItem(left_arr[i], right_arr[j], sortkey):\n",
    "                arr[k] = left_arr[i]\n",
    "                i += 1\n",
    "            else:\n",
    "                arr[k] = right_arr[j]\n",
    "                j += 1\n",
    "            k += 1 # add 1 to k each time so that next item is added to next index of arr\n",
    "        \n",
    "        #checking for leftovers\n",
    "        while i < len(left_arr): \n",
    "            arr[k] = left_arr[i]\n",
    "            i += 1\n",
    "            k += 1\n",
    "        while j < len(right_arr):\n",
    "            arr[k] = right_arr[j]\n",
    "            j += 1\n",
    "            k += 1\n",
    "            \n",
    "def compareArrItem(item1, item2, sortkey): #return true if item1 is less than item2\n",
    "    return item1[sortkey] < item2[sortkey]\n",
    "    \n",
    "# my list is a group of users and their enjoyment rating out of 10 of DVASS(our group project) which includes uno, war, black jack, and the memory game as well as how many hours they spent playing the games\n",
    "dvass_survey = [\n",
    "    {\"name\": \"Vivian\", \"rating\": 8, \"hours\": 7},\n",
    "    {\"name\": \"Drew\", \"rating\": 10, \"hours\": 80},\n",
    "    {\"name\": \"Aliya\", \"rating\": 7, \"hours\": 8},\n",
    "    {\"name\": \"Sreeja\", \"rating\": 8, \"hours\": 5},\n",
    "    {\"name\": \"Sri\", \"rating\": 10, \"hours\": 11},\n",
    "    {\"name\": \"mort\", \"rating\": 50, \"hours\": 50},\n",
    "    {\"name\": \"yeung\", \"rating\": 100, \"hours\": 67}\n",
    "    ]\n",
    "\n",
    "mergeSort(dvass_survey, 'rating')\n",
    "print(dvass_survey)\n",
    "mergeSort(dvass_survey, 'hours')\n",
    "print(dvass_survey)\n",
    "        "
   ]
  },
  {
   "attachments": {},
   "cell_type": "markdown",
   "metadata": {},
   "source": [
    "Test my list with given bubble sort"
   ]
  },
  {
   "cell_type": "code",
   "execution_count": 10,
   "metadata": {},
   "outputs": [
    {
     "name": "stdout",
     "output_type": "stream",
     "text": [
      "[{'name': 'Aliya', 'rating': 7, 'hours': 8}, {'name': 'Sreeja', 'rating': 8, 'hours': 5}, {'name': 'Vivian', 'rating': 8, 'hours': 7}, {'name': 'Sri', 'rating': 10, 'hours': 11}, {'name': 'Drew', 'rating': 10, 'hours': 80}, {'name': 'mort', 'rating': 50, 'hours': 50}, {'name': 'yeung', 'rating': 100, 'hours': 67}]\n",
      "[{'name': 'Sreeja', 'rating': 8, 'hours': 5}, {'name': 'Vivian', 'rating': 8, 'hours': 7}, {'name': 'Aliya', 'rating': 7, 'hours': 8}, {'name': 'Sri', 'rating': 10, 'hours': 11}, {'name': 'mort', 'rating': 50, 'hours': 50}, {'name': 'yeung', 'rating': 100, 'hours': 67}, {'name': 'Drew', 'rating': 10, 'hours': 80}]\n"
     ]
    }
   ],
   "source": [
    "bubbleSort(dvass_survey, 'rating')\n",
    "print(dvass_survey)\n",
    "bubbleSort(dvass_survey, 'hours')\n",
    "print(dvass_survey)"
   ]
  },
  {
   "attachments": {},
   "cell_type": "markdown",
   "metadata": {},
   "source": [
    "Test give list with my new sort"
   ]
  },
  {
   "cell_type": "code",
   "execution_count": 11,
   "metadata": {},
   "outputs": [
    {
     "name": "stdout",
     "output_type": "stream",
     "text": [
      "[{'name': 'Shekar', 'age': 18, 'city': 'San Francisco'}, {'name': 'Risa', 'age': 18, 'city': 'New York'}, {'name': 'Ryan', 'age': 21, 'city': 'Los Angeles'}, {'name': 'John', 'age': 63, 'city': 'Eugene'}]\n"
     ]
    }
   ],
   "source": [
    "mergeSort(list_of_people, 'age')\n",
    "print(list_of_people)"
   ]
  },
  {
   "attachments": {},
   "cell_type": "markdown",
   "metadata": {},
   "source": [
    "Research analysis on sorting: comparisons, swaps, time.  Build this into your hacks.\n",
    "Bubble Sort:\n",
    "- Comparisons: Bubble Sort makes a maximum of n*(n-1)/2 comparisons in the worst case, where n is the number of elements.\n",
    "- Swaps: Bubble Sort makes a maximum of n*(n-1)/2 swaps in the worst case.\n",
    "- Time Complexity: Bubble Sort has an average and worst-case time complexity of O(n^2).\n",
    "\n",
    "Insertion Sort:\n",
    "- Comparisons: Insertion Sort makes a maximum of n*(n-1)/2 comparisons in the worst case.\n",
    "- Swaps: Insertion Sort makes a maximum of n*(n-1)/2 swaps in the worst case.\n",
    "- Time Complexity: Insertion Sort has an average and worst-case time complexity of O(n^2). However, it performs well on partially sorted or small lists.\n",
    "\n",
    "Selection Sort:\n",
    "- Comparisons: Selection Sort makes a maximum of n*(n-1)/2 comparisons in the worst case.\n",
    "- Swaps: Selection Sort makes a maximum of n swaps in the worst case.\n",
    "- Time Complexity: Selection Sort has an average and worst-case time complexity of O(n^2).\n",
    "\n",
    "Merge Sort:\n",
    "- Comparisons: Merge Sort makes a maximum of n*log(n) comparisons in the worst case.\n",
    "- Swaps: Merge Sort requires additional memory for merging and does not involve element swaps.\n",
    "- Time Complexity: Merge Sort has an average and worst-case time complexity of O(n log n)."
   ]
  },
  {
   "attachments": {},
   "cell_type": "markdown",
   "metadata": {},
   "source": [
    "Find a better way to print the data, key first, then other elements in viewable form."
   ]
  },
  {
   "cell_type": "code",
   "execution_count": 16,
   "metadata": {},
   "outputs": [
    {
     "name": "stdout",
     "output_type": "stream",
     "text": [
      "#1 in rating\n",
      "\tname: Aliya\n",
      "\trating: 7\n",
      "\thours: 8\n",
      "\n",
      "#2 in rating\n",
      "\tname: Vivian\n",
      "\trating: 8\n",
      "\thours: 7\n",
      "\n",
      "#3 in rating\n",
      "\tname: Sreeja\n",
      "\trating: 8\n",
      "\thours: 5\n",
      "\n",
      "#4 in rating\n",
      "\tname: Drew\n",
      "\trating: 10\n",
      "\thours: 80\n",
      "\n",
      "#5 in rating\n",
      "\tname: Sri\n",
      "\trating: 10\n",
      "\thours: 11\n",
      "\n",
      "#6 in rating\n",
      "\tname: mort\n",
      "\trating: 50\n",
      "\thours: 50\n",
      "\n",
      "#7 in rating\n",
      "\tname: yeung\n",
      "\trating: 100\n",
      "\thours: 67\n",
      "\n"
     ]
    }
   ],
   "source": [
    "mergeSort(dvass_survey, 'rating')\n",
    "\n",
    "def mergePrint(list, key):\n",
    "   for i, user in enumerate(list):\n",
    "        print(\"#\" + str(i + 1) + ' in ' + key)\n",
    "        for k, v in user.items():\n",
    "            print(\"\\t\" + str(k) + \":\", str(v))\n",
    "        print(\"\")\n",
    "\n",
    "mergePrint(dvass_survey, 'rating')"
   ]
  }
 ],
 "metadata": {
  "kernelspec": {
   "display_name": "base",
   "language": "python",
   "name": "python3"
  },
  "language_info": {
   "codemirror_mode": {
    "name": "ipython",
    "version": 3
   },
   "file_extension": ".py",
   "mimetype": "text/x-python",
   "name": "python",
   "nbconvert_exporter": "python",
   "pygments_lexer": "ipython3",
   "version": "3.10.9"
  },
  "orig_nbformat": 4
 },
 "nbformat": 4,
 "nbformat_minor": 2
}
