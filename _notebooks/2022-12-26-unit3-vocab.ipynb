{
 "cells": [
  {
   "attachments": {},
   "cell_type": "markdown",
   "metadata": {},
   "source": [
    "# Unit 3 Vocab\n",
    "- badges: true\n",
    "- toc: true\n",
    "- categories: [Student Teaching Portfolio]"
   ]
  },
  {
   "attachments": {},
   "cell_type": "markdown",
   "metadata": {},
   "source": [
    "## Vocab"
   ]
  },
  {
   "attachments": {},
   "cell_type": "markdown",
   "metadata": {},
   "source": [
    "| Term | Definition |\n",
    "| - | - |\n",
    "| algorithms | set of instructions that can accomplish a specific task |\n",
    "| Pseudocode | A blend of human language and coding format |\n",
    "| Strings | A string is a collection of characters. character can be anything from numbers, letters, spaces |\n",
    "| String concatenation | combining 2 or more strings to make a new strings in order to create a new string |\n",
    "| Substrings | A substring is a part of and already existing string |\n",
    "| Boolean | a data type with two possible values: true or false |\n",
    "| Logical Operators | these types of operators don't necessarily deal with equivalent/non-equivalent values |\n",
    "| Conditionals | determines which part of an algorithm are executed based on a condition being true or false |\n",
    "| Nested Conditionals | consist of conditional statements within other conditional statements |\n",
    "| Lists | sequence of variables |\n",
    "| Index | a term used to sort data in order to reference to an element in a list (allows for duplicates) |\n",
    "| Elements | the values in the list assigned to an index |\n",
    "| condition | is a boolean expression when an expression outputs either true or false |\n",
    "| Selection | process used in algorithms where a conditional if statement leads to one of two outcomes |\n",
    "| Iteration | process that allows certain things to happen until a condition is satisfied |\n",
    "| Binary Search | A search algorithm that locates the position of a target value within a sorted array by repeatedly dividing the search interval in half; can only be used when the list is sorted. Because of its divide-and-conquer approach, the amount of work required to find an item grows much more slowly with Binary Search than with Sequential Search. In fact, with this logarithmic behavior |\n",
    "| Linear Search | A process that checks every element in the list sequentially until the desired element is found or all elements have been searched. Can be used in any type of list. Has linear performance. |\n",
    "| Bits | most basic unit of information in computing and digital communications |\n",
    "| byte | a group of binary digits or bits (usually eight) operated on as a unit |\n",
    "| hexadecimal | relating to or using a system of numerical notation that has 16 rather than 10 as its base. |\n",
    "| Procedural Abstraction | provides a name for a process and allows a procedure to be used only knowing what it does and not how it does it |\n",
    "| Parameters | input values of a procedure |\n",
    "| Arguments | specify the values of the parameters when a procedure is called |\n",
    "| Libraries | collection of precompiled codes that can be used later on in a program for sme specific well-defined operations |\n",
    "| API | contains specific direction for how the procedures in a library can behave or be used |\n",
    "| Simulation | a tested scenario used for viewing results/outputs to prepare for them in real world situations |\n",
    "| heuristic solution | an approach to a problem that produces a solution that isn’t necessarily optimal but can be used when normal methods to an optimal solution would take forever |\n",
    "| algorithmic efficiency | The ability of an algorithm to solve a problem in an efficient way |\n",
    "| decidable problem | problem in cs and mathematics for which an algo can be created that can always produce a correct answer |\n",
    "| undecidable problem | problem in cs and mathematics for which it is impossible to create an algorithm that can always provide a correct answer or solution. |"
   ]
  },
  {
   "attachments": {},
   "cell_type": "markdown",
   "metadata": {},
   "source": [
    "## Examples"
   ]
  },
  {
   "attachments": {},
   "cell_type": "markdown",
   "metadata": {},
   "source": [
    "Algorithm:"
   ]
  },
  {
   "cell_type": "code",
   "execution_count": 1,
   "metadata": {},
   "outputs": [
    {
     "name": "stdout",
     "output_type": "stream",
     "text": [
      "Sure I will play outside!\n"
     ]
    }
   ],
   "source": [
    "temp = int(input(\"Select a temperature from 0 to 99 degrees F\"))\n",
    "if (temp >= 90):\n",
    "    print(\"It's too hot outside!\")\n",
    "else:\n",
    "    if (temp >= 65):\n",
    "        print(\"Sure I will play outside!\")\n",
    "    else: \n",
    "        print(\"It is too cold outside!\")"
   ]
  },
  {
   "attachments": {},
   "cell_type": "markdown",
   "metadata": {},
   "source": [
    "Conditionals and Booleans:"
   ]
  },
  {
   "cell_type": "code",
   "execution_count": 2,
   "metadata": {},
   "outputs": [
    {
     "name": "stdout",
     "output_type": "stream",
     "text": [
      "True\n"
     ]
    }
   ],
   "source": [
    "IsHoliday = False\n",
    "IsWeekday = True\n",
    "if IsHoliday:\n",
    "    driveWork = True\n",
    "else: \n",
    "    if IsWeekday: \n",
    "        driveWork = True\n",
    "    else: \n",
    "        driveWork = False\n",
    "print(driveWork)"
   ]
  },
  {
   "attachments": {},
   "cell_type": "markdown",
   "metadata": {},
   "source": [
    "Selection and Iteration:"
   ]
  },
  {
   "cell_type": "code",
   "execution_count": 1,
   "metadata": {},
   "outputs": [
    {
     "name": "stdout",
     "output_type": "stream",
     "text": [
      "25\n"
     ]
    }
   ],
   "source": [
    "sum = 1\n",
    "counter = 3\n",
    "loop = 0\n",
    "while (loop < 4):\n",
    "    sum = sum + counter\n",
    "    counter = counter + 2\n",
    "    loop = loop + 1\n",
    "else:\n",
    "    print(sum)"
   ]
  },
  {
   "attachments": {},
   "cell_type": "markdown",
   "metadata": {},
   "source": [
    "List, Index, and Element : "
   ]
  },
  {
   "cell_type": "code",
   "execution_count": 2,
   "metadata": {},
   "outputs": [
    {
     "name": "stdout",
     "output_type": "stream",
     "text": [
      "grape\n"
     ]
    }
   ],
   "source": [
    "fruits = [\"apple\", \"grape\", \"strawberry\"]\n",
    "index = 1\n",
    "\n",
    "print (fruits[index])"
   ]
  },
  {
   "attachments": {},
   "cell_type": "markdown",
   "metadata": {},
   "source": [
    "String Concatenation and Substrings: "
   ]
  },
  {
   "cell_type": "code",
   "execution_count": 3,
   "metadata": {},
   "outputs": [
    {
     "name": "stdout",
     "output_type": "stream",
     "text": [
      "Very handsome Mr.Mor is.\n"
     ]
    }
   ],
   "source": [
    "Noun = \"Mr.Mortenson\" \n",
    "Adjective = \"handsome\" \n",
    "Adjective2 = \"Very\" \n",
    "Verb = \"is\" \n",
    "abrev = Noun[0:6]\n",
    "yoda = Adjective2 + \" \" + Adjective + \" \" + abrev + \" \" + Verb + \".\"\n",
    "print(yoda)"
   ]
  },
  {
   "attachments": {},
   "cell_type": "markdown",
   "metadata": {},
   "source": [
    "Logical Operators:"
   ]
  },
  {
   "cell_type": "code",
   "execution_count": 4,
   "metadata": {},
   "outputs": [
    {
     "name": "stdout",
     "output_type": "stream",
     "text": [
      "1 > 2 or 5 < 12: True\n",
      "7 > 8: True\n",
      "10 > 20: False\n"
     ]
    }
   ],
   "source": [
    "print(\"1 > 2 or 5 < 12:\", 1 > 2 or 5 < 12)\n",
    "# Output TRUE  using OR ^\n",
    "\n",
    "# Output FALSE using NOT\n",
    "print(\"7 > 8:\", not 7 > 8)\n",
    "\n",
    "# Output FALSE using AND\n",
    "print(\"10 > 20:\", 10 > 20 and False)"
   ]
  },
  {
   "attachments": {},
   "cell_type": "markdown",
   "metadata": {},
   "source": [
    " Binary Search: "
   ]
  },
  {
   "cell_type": "code",
   "execution_count": null,
   "metadata": {},
   "outputs": [],
   "source": [
    "def BinarySearch(array, x, low, high):\n",
    "\n",
    "    # Repeat until the pointers low and high meet each other \n",
    "    while low <= high:\n",
    "\n",
    "        mid = low + (high - low)//2 # find the middle (taking the higest index number plus the lowest and divided by two)\n",
    "\n",
    "        if array[mid] == x: # if desired number is the middle is found return desired number (middle number) \n",
    "            return mid\n",
    "\n",
    "        elif array[mid] < x: \n",
    "            low = mid + 1\n",
    "\n",
    "        else:\n",
    "            high = mid - 1\n",
    "\n",
    "    return -1\n",
    "\n",
    "\n",
    "array = [3, 4, 5, 6, 7, 8, 9]\n",
    "x = 4\n",
    "\n",
    "result = BinarySearch(array, x, 0, len(array)-1)\n",
    "\n",
    "if result != -1:\n",
    "    print(\"Element is present at index \" + str(result))\n",
    "else:\n",
    "    print(\"Not found\")"
   ]
  },
  {
   "attachments": {},
   "cell_type": "markdown",
   "metadata": {},
   "source": [
    "Nested Conditionals: "
   ]
  },
  {
   "cell_type": "code",
   "execution_count": null,
   "metadata": {},
   "outputs": [],
   "source": [
    "infoP = []\n",
    "\n",
    "infoP.append({\n",
    "    \"Product\": \"Cheese\",\n",
    "    \"Expired\": True,\n",
    "    \"Cost\": 15,\n",
    "})\n",
    "\n",
    "infoP.append({\n",
    "    \"Product\": \"Wine\",\n",
    "    \"Expired\": False,\n",
    "    \"Cost\": 75,\n",
    "})\n",
    "\n",
    "def print_info(p_rec):\n",
    "    if (p_rec[\"Expired\"]): \n",
    "            print(\"\\t\", \"This product is no good\")\n",
    "    else:\n",
    "        if (p_rec[\"Cost\"] > 50):\n",
    "            print(\"\\t\", \"This product is too expensive\")\n",
    "        elif (p_rec[\"Cost\"] > 25 and p_rec[\"Cost\"] <= 50):\n",
    "            print(\"\\t\", \"This is a regular product\")\n",
    "        else:\n",
    "            print(\"\\t\", \"This is a cheap product\")\n",
    "\n",
    "def print_data(p_rec): #formatting\n",
    "    print(\"\\t\", \"Product:\", p_rec[\"Product\"])  \n",
    "    print(\"\\t\", \"Expired:\", p_rec[\"Expired\"]) \n",
    "    print(\"\\t\", \"Cost:\", p_rec[\"Cost\"])\n",
    "    print_info(p_rec)\n",
    "    print(\"\\n\")\n",
    "\n",
    "def data_entry(): #defining the function that asks for user input\n",
    "    product = input(\"What is the product? (one word)\")\n",
    "    expired_string = input(\"Is it expired? (True or False)\")\n",
    "    cost = input(\"How much did it cost(dont include $, round to nearest whole number)\")\n",
    "\n",
    "    if (expired_string == \"True\"):\n",
    "        expired = True\n",
    "    else:\n",
    "        expired = False\n",
    "\n",
    "    infoP.append({ #appends the user input to the dictionary\n",
    "        \"Product\": product,\n",
    "        \"Expired\": expired,\n",
    "        \"Cost\": int(cost),\n",
    "   \n",
    "    })\n",
    "\n",
    "def main():\n",
    "    Continue = True #defining continue as true\n",
    "    while Continue:\n",
    "        inp = input(\"Would you like to add a product to the database, type no if you want to exit)?\")\n",
    "        if inp == \"no\":\n",
    "            print(\"Come back again!\")\n",
    "            Continue = False\n",
    "        elif inp == \"add\":\n",
    "            data_entry()\n",
    "        else:\n",
    "            print(\"Invalid input. Please try again\")\n",
    "\n",
    "    length = len(infoP) #defines length as the number of records\n",
    "    print(\"Total Number of Records: \", length) \n",
    "    for record in infoP:\n",
    "            print_data(record)\n",
    "            \n",
    " \n",
    "main()"
   ]
  },
  {
   "attachments": {},
   "cell_type": "markdown",
   "metadata": {},
   "source": [
    "Simulation: "
   ]
  },
  {
   "cell_type": "code",
   "execution_count": null,
   "metadata": {},
   "outputs": [],
   "source": [
    "height = float(input(\"height in meters?\"))\n",
    "\n",
    "weight = input(\"weight in pounds?\")\n",
    "\n",
    "stuff = (2 * (height / 9.8))**(1/2)\n",
    "\n",
    "print(\"It will take\", stuff,\"seconds for an object that weighs\",weight,\"pounds\",\"to fall \",height,\"meters in a vacuum\")"
   ]
  }
 ],
 "metadata": {
  "kernelspec": {
   "display_name": "Python 3",
   "language": "python",
   "name": "python3"
  },
  "language_info": {
   "codemirror_mode": {
    "name": "ipython",
    "version": 3
   },
   "file_extension": ".py",
   "mimetype": "text/x-python",
   "name": "python",
   "nbconvert_exporter": "python",
   "pygments_lexer": "ipython3",
   "version": "3.8.10"
  },
  "orig_nbformat": 4,
  "vscode": {
   "interpreter": {
    "hash": "916dbcbb3f70747c44a77c7bcd40155683ae19c65e1c03b4aa3499c5328201f1"
   }
  }
 },
 "nbformat": 4,
 "nbformat_minor": 2
}
