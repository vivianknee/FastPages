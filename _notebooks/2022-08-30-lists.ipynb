{
 "cells": [
  {
   "cell_type": "markdown",
   "metadata": {},
   "source": [
    "# Lists and Dictionaries\n",
    "\n",
    "- badges: true\n",
    "- comments: true\n",
    "- categories: [jupyter]"
   ]
  },
  {
   "cell_type": "markdown",
   "metadata": {},
   "source": [
    "## List of Dictionaries\n",
    ">this code appends the dictionaries to the list, the list being infoDb. As you can see, 2 dictionaries have been appended."
   ]
  },
  {
   "cell_type": "code",
   "execution_count": 31,
   "metadata": {},
   "outputs": [
    {
     "name": "stdout",
     "output_type": "stream",
     "text": [
      "[{'FirstName': 'Vivian', 'LastName': 'Ni', 'DOB': 'May 13', 'Residence': 'San Diego', 'Fav_Movie': 'Inception', 'Fav_Colors': ['sage green', 'coral', 'lilac purple'], 'Best_Treats': ['cookies', 'ice cream', 'cake', 'brownies']}, {'FirstName': 'Hanli', 'LastName': 'Ni', 'DOB': 'Jan 11', 'Residence': 'San Diego', 'Fav_Movie': 'MIB', 'Fav_Colors': ['blue', 'green'], 'Best_Treats': ['smoothies', 'ice cream']}]\n"
     ]
    }
   ],
   "source": [
    "infoDb = []\n",
    "\n",
    "# Append to List a Dictionary of key/values \n",
    "infoDb.append({\n",
    "    \"FirstName\": \"Vivian\",\n",
    "    \"LastName\": \"Ni\",\n",
    "    \"DOB\": \"May 13\",\n",
    "    \"Residence\": \"San Diego\",\n",
    "    \"Fav_Movie\": \"Inception\",\n",
    "    \"Fav_Colors\": [\"sage green\", \"coral\" ,\"lilac purple\"],\n",
    "    \"Best_Treats\": [\"cookies\", \"ice cream\", \"cake\", \"brownies\"]\n",
    "})\n",
    "\n",
    "infoDb.append({\n",
    "    \"FirstName\": \"Hanli\",\n",
    "    \"LastName\": \"Ni\",\n",
    "    \"DOB\": \"Jan 11\",\n",
    "    \"Residence\": \"San Diego\",\n",
    "    \"Fav_Movie\": \"MIB\",\n",
    "    \"Fav_Colors\": [\"blue\", \"green\"],\n",
    "    \"Best_Treats\": [\"smoothies\", \"ice cream\"]\n",
    "})\n",
    "\n",
    "# Print the data structure\n",
    "print(infoDb)"
   ]
  },
  {
   "cell_type": "markdown",
   "metadata": {},
   "source": [
    "## For Loop with an Index\n",
    ">this code uses a for loop to print every dictionary in the list infoDb. It also uses the range and index syntax to print it so that the data is in reverse order"
   ]
  },
  {
   "cell_type": "code",
   "execution_count": 32,
   "metadata": {},
   "outputs": [
    {
     "name": "stdout",
     "output_type": "stream",
     "text": [
      "For loop output\n",
      "\n",
      "Hanli Ni\n",
      "\t Residence: San Diego\n",
      "\t Birth Day: Jan 11\n",
      "\t Favorite Movie MIB\n",
      "\t Favorite Colors: blue, green\n",
      "\t Best Treats: smoothies, ice cream\n",
      "\n",
      "Vivian Ni\n",
      "\t Residence: San Diego\n",
      "\t Birth Day: May 13\n",
      "\t Favorite Movie Inception\n",
      "\t Favorite Colors: sage green, coral, lilac purple\n",
      "\t Best Treats: cookies, ice cream, cake, brownies\n",
      "\n"
     ]
    }
   ],
   "source": [
    "def print_data(d_rec):\n",
    "    print(d_rec[\"FirstName\"], d_rec[\"LastName\"])  # using comma puts space between values\n",
    "    print(\"\\t\", \"Residence:\", d_rec[\"Residence\"]) # \\t is a tab indent\n",
    "    print(\"\\t\", \"Birth Day:\", d_rec[\"DOB\"])\n",
    "    print(\"\\t\", \"Favorite Movie\", d_rec[\"Fav_Movie\"])\n",
    "    print(\"\\t\", \"Favorite Colors: \", end=\"\")  # end=\"\" make sure no return occurs\n",
    "    print(\", \".join(d_rec[\"Fav_Colors\"])) \n",
    "    print(\"\\t\", \"Best Treats: \", end=\"\")  # end=\"\" make sure no return occurs\n",
    "    print(\", \".join(d_rec[\"Best_Treats\"]))  # join allows printing a string list with separator\n",
    "    print()\n",
    "\n",
    "# for loop iterates on length of InfoDb\n",
    "def for_loop():\n",
    "    print(\"For loop output\\n\")\n",
    "    length = len(infoDb) #figures out the length of the list infoDb (which is 2 because there are 2 dictionaries in the list)\n",
    "    ran = range(length) #defines ran as the range of the length. (this is 0 and 1 because the length is 2)\n",
    "    for index in reversed(ran): #index is 0 and 1 so it takes the indexes of infoDb. 0 would be the first dictionary and 1 would be the second. reversed prints them as 1 0 instead of 0 1\n",
    "        print_data(infoDb[index])\n",
    "\n",
    "for_loop()\n",
    "\n"
   ]
  },
  {
   "cell_type": "markdown",
   "metadata": {},
   "source": [
    "## Using Input to Add Dictionaries"
   ]
  },
  {
   "cell_type": "code",
   "execution_count": null,
   "metadata": {},
   "outputs": [],
   "source": []
  },
  {
   "cell_type": "markdown",
   "metadata": {},
   "source": [
    "## Quiz that stores in a List of Dictionaries"
   ]
  }
 ],
 "metadata": {
  "kernelspec": {
   "display_name": "Python 3.10.5 64-bit",
   "language": "python",
   "name": "python3"
  },
  "language_info": {
   "codemirror_mode": {
    "name": "ipython",
    "version": 3
   },
   "file_extension": ".py",
   "mimetype": "text/x-python",
   "name": "python",
   "nbconvert_exporter": "python",
   "pygments_lexer": "ipython3",
   "version": "3.10.5"
  },
  "orig_nbformat": 4,
  "vscode": {
   "interpreter": {
    "hash": "32ed86b3ffa559bcacbace9601ce361a752c54a5601a76201e2c8b67a3b7e6fb"
   }
  }
 },
 "nbformat": 4,
 "nbformat_minor": 2
}
