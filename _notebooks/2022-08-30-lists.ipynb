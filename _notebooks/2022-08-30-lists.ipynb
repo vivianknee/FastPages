{
 "cells": [
  {
   "cell_type": "markdown",
   "metadata": {},
   "source": [
    "# Lists and Dictionaries\n",
    "\n",
    "- badges: true\n",
    "- comments: true\n",
    "- categories: [jupyter]"
   ]
  },
  {
   "cell_type": "code",
   "execution_count": 10,
   "metadata": {},
   "outputs": [
    {
     "name": "stdout",
     "output_type": "stream",
     "text": [
      "[{'FirstName': 'Vivian', 'LastName': 'Ni', 'DOB': 'May 13', 'Residence': 'San Diego', 'Fav_Movie': 'Inception', 'Fav_Colors': ['sage green', 'coral', 'lilac purple'], 'Best_Treats': ['cookies', 'ice cream', 'cake', 'brownies']}]\n"
     ]
    }
   ],
   "source": [
    "aboutV = []\n",
    "\n",
    "# Append to List a Dictionary of key/values \n",
    "aboutV.append({\n",
    "    \"FirstName\": \"Vivian\",\n",
    "    \"LastName\": \"Ni\",\n",
    "    \"DOB\": \"May 13\",\n",
    "    \"Residence\": \"San Diego\",\n",
    "    \"Fav_Movie\": \"Inception\",\n",
    "    \"Fav_Colors\": [\"sage green\", \"coral\" ,\"lilac purple\"],\n",
    "    \"Best_Treats\": [\"cookies\", \"ice cream\", \"cake\", \"brownies\"]\n",
    "})\n",
    "\n",
    "# Print the data structure\n",
    "print(aboutV)"
   ]
  },
  {
   "cell_type": "code",
   "execution_count": 13,
   "metadata": {},
   "outputs": [
    {
     "name": "stdout",
     "output_type": "stream",
     "text": [
      "For loop output\n",
      "\n",
      "Vivian Ni\n",
      "\t Residence: San Diego\n",
      "\t Birth Day: May 13\n",
      "\t Favorite Movie Inception\n",
      "\t Favorite Colors: sage green, coral, lilac purple\n",
      "\t Best Treats: cookies, ice cream, cake, brownies\n",
      "\n"
     ]
    }
   ],
   "source": [
    "def print_data(d_rec):\n",
    "    print(d_rec[\"FirstName\"], d_rec[\"LastName\"])  # using comma puts space between values\n",
    "    print(\"\\t\", \"Residence:\", d_rec[\"Residence\"]) # \\t is a tab indent\n",
    "    print(\"\\t\", \"Birth Day:\", d_rec[\"DOB\"])\n",
    "    print(\"\\t\", \"Favorite Movie\", d_rec[\"Fav_Movie\"])\n",
    "    print(\"\\t\", \"Favorite Colors: \", end=\"\")  # end=\"\" make sure no return occurs\n",
    "    print(\", \".join(d_rec[\"Fav_Colors\"])) \n",
    "    print(\"\\t\", \"Best Treats: \", end=\"\")  # end=\"\" make sure no return occurs\n",
    "    print(\", \".join(d_rec[\"Best_Treats\"]))  # join allows printing a string list with separator\n",
    "    print()\n",
    "\n",
    "# for loop iterates on length of InfoDb\n",
    "def for_loop():\n",
    "    print(\"For loop output\\n\")\n",
    "    for record in aboutV:\n",
    "        print_data(record)\n",
    "\n",
    "for_loop()"
   ]
  }
 ],
 "metadata": {
  "kernelspec": {
   "display_name": "Python 3.10.5 64-bit",
   "language": "python",
   "name": "python3"
  },
  "language_info": {
   "codemirror_mode": {
    "name": "ipython",
    "version": 3
   },
   "file_extension": ".py",
   "mimetype": "text/x-python",
   "name": "python",
   "nbconvert_exporter": "python",
   "pygments_lexer": "ipython3",
   "version": "3.10.5"
  },
  "orig_nbformat": 4,
  "vscode": {
   "interpreter": {
    "hash": "32ed86b3ffa559bcacbace9601ce361a752c54a5601a76201e2c8b67a3b7e6fb"
   }
  }
 },
 "nbformat": 4,
 "nbformat_minor": 2
}
