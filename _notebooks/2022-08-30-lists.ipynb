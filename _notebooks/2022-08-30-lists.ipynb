{
 "cells": [
  {
   "cell_type": "markdown",
   "metadata": {},
   "source": [
    "# Lists and Dictionaries\n",
    "\n",
    "- badges: true\n",
    "- comments: true\n",
    "- categories: [jupyter]"
   ]
  },
  {
   "cell_type": "markdown",
   "metadata": {},
   "source": [
    "## List of Dictionaries\n",
    ">this code appends the dictionaries to the list, the list being infoDb. As you can see, 2 dictionaries have been appended."
   ]
  },
  {
   "cell_type": "code",
   "execution_count": 41,
   "metadata": {},
   "outputs": [
    {
     "name": "stdout",
     "output_type": "stream",
     "text": [
      "[{'FirstName': 'Vivian', 'LastName': 'Ni', 'DOB': 'May 13', 'Residence': 'San Diego', 'Fav_Movie': 'Inception', 'Email': 'vivianni452@gmail.com', 'Best_Treats': ['cookies', 'ice cream', 'cake', 'brownies']}, {'FirstName': 'Hanli', 'LastName': 'Ni', 'DOB': 'Jan 11', 'Residence': 'San Diego', 'Email': 'hanlini@gmail.com', 'Fav_Movie': 'MIB', 'Best_Treats': ['smoothies', 'ice cream']}]\n"
     ]
    }
   ],
   "source": [
    "infoDb = []\n",
    "\n",
    "# Append to List a Dictionary of key/values \n",
    "infoDb.append({\n",
    "    \"FirstName\": \"Vivian\",\n",
    "    \"LastName\": \"Ni\",\n",
    "    \"DOB\": \"May 13\",\n",
    "    \"Residence\": \"San Diego\",\n",
    "    \"Fav_Movie\": \"Inception\",\n",
    "    \"Email\": \"vivianni452@gmail.com\",\n",
    "    \"Best_Treats\": [\"cookies\", \"ice cream\", \"cake\", \"brownies\"]\n",
    "})\n",
    "\n",
    "infoDb.append({\n",
    "    \"FirstName\": \"Hanli\",\n",
    "    \"LastName\": \"Ni\",\n",
    "    \"DOB\": \"Jan 11\",\n",
    "    \"Residence\": \"San Diego\",\n",
    "    \"Email\": \"hanlini@gmail.com\",\n",
    "    \"Fav_Movie\": \"MIB\",\n",
    "    \"Best_Treats\": [\"smoothies\", \"ice cream\"]\n",
    "})\n",
    "\n",
    "# Print the data structure\n",
    "print(infoDb)"
   ]
  },
  {
   "cell_type": "markdown",
   "metadata": {},
   "source": [
    "## For Loop for output of List/Dictionary"
   ]
  },
  {
   "cell_type": "markdown",
   "metadata": {},
   "source": [
    "### Basic For Loop\n",
    ">takes the dictionaries in the list and prints them"
   ]
  },
  {
   "cell_type": "code",
   "execution_count": 44,
   "metadata": {},
   "outputs": [
    {
     "name": "stdout",
     "output_type": "stream",
     "text": [
      "For loop output\n",
      "\n",
      "Vivian Ni\n",
      "\t Residence: San Diego\n",
      "\t Birth Day: May 13\n",
      "\t Favorite Movie Inception\n",
      "\t Email: vivianni452@gmail.com\n",
      "\t Best Treats: cookies, ice cream, cake, brownies\n",
      "\n",
      "Hanli Ni\n",
      "\t Residence: San Diego\n",
      "\t Birth Day: Jan 11\n",
      "\t Favorite Movie MIB\n",
      "\t Email: hanlini@gmail.com\n",
      "\t Best Treats: smoothies, ice cream\n",
      "\n"
     ]
    }
   ],
   "source": [
    "def for_loop():\n",
    "    print(\"For loop output\\n\")\n",
    "    for record in infoDb:\n",
    "        print_data(record)\n",
    "\n",
    "for_loop()"
   ]
  },
  {
   "cell_type": "markdown",
   "metadata": {},
   "source": [
    "## Alternate Methods of Iteration "
   ]
  },
  {
   "cell_type": "markdown",
   "metadata": {},
   "source": [
    "### For Loop with an Index\n",
    ">this code uses a for loop with the range and index syntax to print the dictionaries. It also does so in reverse order"
   ]
  },
  {
   "cell_type": "code",
   "execution_count": 45,
   "metadata": {},
   "outputs": [
    {
     "name": "stdout",
     "output_type": "stream",
     "text": [
      "For loop output\n",
      "\n",
      "Hanli Ni\n",
      "\t Residence: San Diego\n",
      "\t Birth Day: Jan 11\n",
      "\t Favorite Movie MIB\n",
      "\t Email: hanlini@gmail.com\n",
      "\t Best Treats: smoothies, ice cream\n",
      "\n",
      "Vivian Ni\n",
      "\t Residence: San Diego\n",
      "\t Birth Day: May 13\n",
      "\t Favorite Movie Inception\n",
      "\t Email: vivianni452@gmail.com\n",
      "\t Best Treats: cookies, ice cream, cake, brownies\n",
      "\n"
     ]
    }
   ],
   "source": [
    "def print_data(d_rec):\n",
    "    print(d_rec[\"FirstName\"], d_rec[\"LastName\"])  # using comma puts space between values\n",
    "    print(\"\\t\", \"Residence:\", d_rec[\"Residence\"]) # \\t is a tab indent\n",
    "    print(\"\\t\", \"Birth Day:\", d_rec[\"DOB\"])\n",
    "    print(\"\\t\", \"Favorite Movie\", d_rec[\"Fav_Movie\"])\n",
    "    print(\"\\t\", \"Email:\", d_rec[\"Email\"])\n",
    "    print(\"\\t\", \"Best Treats: \", end=\"\")  # end=\"\" make sure no return occurs\n",
    "    print(\", \".join(d_rec[\"Best_Treats\"]))  # join allows printing a string list with separator\n",
    "    print()\n",
    "\n",
    "# for loop iterates on length of InfoDb\n",
    "def for_loop():\n",
    "    print(\"For loop output\\n\")\n",
    "    length = len(infoDb) #figures out the length of the list infoDb (which is 2 because there are 2 dictionaries in the list)\n",
    "    ran = range(length) #defines ran as the range of the length. (this is 0 and 1 because the length is 2)\n",
    "    for index in reversed(ran): #index is 0 and 1 so it takes the indexes of infoDb. 0 would be the first dictionary and 1 would be the second. reversed prints them as 1 0 instead of 0 1\n",
    "        print_data(infoDb[index])\n",
    "\n",
    "for_loop()\n"
   ]
  },
  {
   "cell_type": "markdown",
   "metadata": {},
   "source": [
    "### While Loop\n",
    ">contains a while loop, \"while i < len(InfoDb):\". This counts through the elements in the list start at zero, and passes the record to print_data()"
   ]
  },
  {
   "cell_type": "code",
   "execution_count": 43,
   "metadata": {},
   "outputs": [
    {
     "name": "stdout",
     "output_type": "stream",
     "text": [
      "While loop output\n",
      "\n",
      "Vivian Ni\n",
      "\t Residence: San Diego\n",
      "\t Birth Day: May 13\n",
      "\t Favorite Movie Inception\n",
      "\t Email: vivianni452@gmail.com\n",
      "\t Best Treats: cookies, ice cream, cake, brownies\n",
      "\n",
      "Hanli Ni\n",
      "\t Residence: San Diego\n",
      "\t Birth Day: Jan 11\n",
      "\t Favorite Movie MIB\n",
      "\t Email: hanlini@gmail.com\n",
      "\t Best Treats: smoothies, ice cream\n",
      "\n"
     ]
    }
   ],
   "source": [
    "# while loop algorithm contains an initial n and an index incrementing statement (n += 1)\n",
    "def while_loop():\n",
    "    print(\"While loop output\\n\")\n",
    "    i = 0 \n",
    "    while i < len(infoDb): #length is 2 so while i is less than, it will keep printing\n",
    "        record = infoDb[i] #defines the record as the index of the list\n",
    "        print_data(record) #prints that index\n",
    "        i += 1 #adds 1 and returns to the top till i is no longer <2\n",
    "    return\n",
    "\n",
    "while_loop()"
   ]
  },
  {
   "cell_type": "markdown",
   "metadata": {},
   "source": [
    "### Recursion\n",
    ">this method calls itself repeatedly until the \"if i < len(infoDb)\" is no longer true. the recursive_loop(0) is set at the start and it keeps activating a new call as recursive_loop(i + 1)"
   ]
  },
  {
   "cell_type": "code",
   "execution_count": 39,
   "metadata": {},
   "outputs": [
    {
     "name": "stdout",
     "output_type": "stream",
     "text": [
      "Recursive loop output\n",
      "\n",
      "Vivian Ni\n",
      "\t Residence: San Diego\n",
      "\t Birth Day: May 13\n",
      "\t Favorite Movie Inception\n",
      "\t Favorite Colors: sage green, coral, lilac purple\n",
      "\t Best Treats: cookies, ice cream, cake, brownies\n",
      "\n",
      "Hanli Ni\n",
      "\t Residence: San Diego\n",
      "\t Birth Day: Jan 11\n",
      "\t Favorite Movie MIB\n",
      "\t Favorite Colors: blue, green\n",
      "\t Best Treats: smoothies, ice cream\n",
      "\n"
     ]
    }
   ],
   "source": [
    "# recursion algorithm loops incrementing on each call (n + 1) until exit condition is met\n",
    "def recursive_loop(i):\n",
    "    if i < len(infoDb): #ensures the code stops after it recurses through all the indexes since length determines amount of indexes\n",
    "        record = infoDb[i] #defines record as the index of infoDb\n",
    "        print_data(record)\n",
    "        recursive_loop(i + 1) #adds 1 to the original index and returns until i is no longer <2\n",
    "    return\n",
    "    \n",
    "print(\"Recursive loop output\\n\")\n",
    "recursive_loop(0)"
   ]
  },
  {
   "cell_type": "markdown",
   "metadata": {},
   "source": [
    "## Using Input to Add Dictionaries"
   ]
  },
  {
   "cell_type": "code",
   "execution_count": null,
   "metadata": {},
   "outputs": [],
   "source": [
    "Firstname = input(\"What is your firstname?\")\n",
    "Lastname = input(\"What is your lastname\")\n",
    "DOB = input(\"When is your birthday\")\n",
    "Email = input(\"What is your Email\")\n",
    "Movie = input(\"What is your favorite movie?\")\n",
    "Residence = input(\"Where do you live?\")\n",
    "\n",
    "\n",
    "infoDb.append({\n",
    "    \"FirstName\": \"Hanli\",\n",
    "    \"LastName\": \"Ni\",\n",
    "    \"DOB\": \"Jan 11\",\n",
    "    \"Residence\": \"San Diego\",\n",
    "    \"Fav_Movie\": \"MIB\",\n",
    "   \n",
    "})\n",
    "\n",
    "\n",
    "    def for_loop():\n",
    "        print(\"For loop output\\n\")\n",
    "        for record in infoDb:\n",
    "            print_data(record)\n",
    "\n",
    "for_loop()"
   ]
  },
  {
   "cell_type": "markdown",
   "metadata": {},
   "source": [
    "## Quiz that stores in a List of Dictionaries"
   ]
  },
  {
   "cell_type": "code",
   "execution_count": null,
   "metadata": {},
   "outputs": [],
   "source": []
  }
 ],
 "metadata": {
  "kernelspec": {
   "display_name": "Python 3.10.5 64-bit",
   "language": "python",
   "name": "python3"
  },
  "language_info": {
   "codemirror_mode": {
    "name": "ipython",
    "version": 3
   },
   "file_extension": ".py",
   "mimetype": "text/x-python",
   "name": "python",
   "nbconvert_exporter": "python",
   "pygments_lexer": "ipython3",
   "version": "3.10.5"
  },
  "orig_nbformat": 4,
  "vscode": {
   "interpreter": {
    "hash": "32ed86b3ffa559bcacbace9601ce361a752c54a5601a76201e2c8b67a3b7e6fb"
   }
  }
 },
 "nbformat": 4,
 "nbformat_minor": 2
}
