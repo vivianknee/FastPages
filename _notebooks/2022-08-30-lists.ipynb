{
 "cells": [
  {
   "cell_type": "markdown",
   "metadata": {},
   "source": [
    "# Lists and Dictionaries\n",
    "\n",
    "- badges: true\n",
    "- comments: true\n",
    "- categories: [jupyter,week2]"
   ]
  },
  {
   "cell_type": "markdown",
   "metadata": {},
   "source": [
    "## Variables\n",
    "> Variables all have a type: String, Integer, Float, List and Dictionary are some key types."
   ]
  },
  {
   "cell_type": "code",
   "execution_count": 18,
   "metadata": {},
   "outputs": [
    {
     "name": "stdout",
     "output_type": "stream",
     "text": [
      "name Vivian Ni <class 'str'>\n",
      "\n",
      "age 16 <class 'int'>\n",
      "\n",
      "score 3.0 <class 'float'>\n",
      "\n",
      "langs ['Python', 'JavaScript', 'Java', 'bash'] <class 'list'> length 4\n",
      "- langs[3] bash <class 'str'>\n",
      "\n",
      "person {'name': 'Vivian Ni', 'age': 16, 'score': 3.0, 'langs': ['Python', 'JavaScript', 'Java', 'bash']} <class 'dict'> length 4\n",
      "- person[\"name\"] Vivian Ni <class 'str'>\n"
     ]
    }
   ],
   "source": [
    "# variable of type string\n",
    "name = \"Vivian Ni\"\n",
    "print(\"name\", name, type(name))\n",
    "\n",
    "print()\n",
    "\n",
    "# variable of type integer\n",
    "age = 16\n",
    "print(\"age\", age, type(age))\n",
    "\n",
    "print()\n",
    "\n",
    "# variable of type float\n",
    "score = 3.00\n",
    "print(\"score\", score, type(score))\n",
    "\n",
    "print()\n",
    "\n",
    "# variable of type list (many values in one variable)\n",
    "langs = [\"Python\", \"JavaScript\", \"Java\", \"bash\"]\n",
    "print(\"langs\", langs, type(langs), \"length\", len(langs))\n",
    "print(\"- langs[3]\", langs[3], type(langs[3]))\n",
    "\n",
    "print()\n",
    "\n",
    "# variable of type dictionary (a group of keys and values)\n",
    "person = {\n",
    "    \"name\": name,\n",
    "    \"age\": age,\n",
    "    \"score\": score,\n",
    "    \"langs\": langs\n",
    "}\n",
    "print(\"person\", person, type(person), \"length\", len(person))\n",
    "print('- person[\"name\"]', person[\"name\"], type(person[\"name\"]))"
   ]
  },
  {
   "cell_type": "markdown",
   "metadata": {},
   "source": [
    "## List of Dictionaries\n",
    ">this code appends the dictionaries to the list, the list being infoDb. As you can see, 2 dictionaries have been appended."
   ]
  },
  {
   "cell_type": "code",
   "execution_count": 1,
   "metadata": {},
   "outputs": [
    {
     "name": "stdout",
     "output_type": "stream",
     "text": [
      "[{'FirstName': 'Vivian', 'LastName': 'Ni', 'DOB': 'May 13', 'Residence': 'San Diego', 'Fav_Movie': 'Inception', 'Email': 'vivianni452@gmail.com', 'Best_Treats': ['cookies', 'ice cream', 'cake', 'brownies']}, {'FirstName': 'Emma', 'LastName': 'Shen', 'DOB': 'July 29', 'Residence': 'San Diego', 'Email': 'aimashen.2017@gmail.com', 'Fav_Movie': 'MIB', 'Best_Treats': ['smoothies', 'ice cream']}]\n"
     ]
    }
   ],
   "source": [
    "infoDb = []\n",
    "\n",
    "# Append to List a Dictionary of key/values \n",
    "infoDb.append({\n",
    "    \"FirstName\": \"Vivian\",\n",
    "    \"LastName\": \"Ni\",\n",
    "    \"DOB\": \"May 13\",\n",
    "    \"Residence\": \"San Diego\",\n",
    "    \"Fav_Movie\": \"Inception\",\n",
    "    \"Email\": \"vivianni452@gmail.com\",\n",
    "    \"Best_Treats\": [\"cookies\", \"ice cream\", \"cake\", \"brownies\"]\n",
    "})\n",
    "\n",
    "infoDb.append({\n",
    "    \"FirstName\": \"Emma\",\n",
    "    \"LastName\": \"Shen\",\n",
    "    \"DOB\": \"July 29\",\n",
    "    \"Residence\": \"San Diego\",\n",
    "    \"Email\": \"aimashen.2017@gmail.com\",\n",
    "    \"Fav_Movie\": \"MIB\",\n",
    "    \"Best_Treats\": [\"smoothies\", \"ice cream\"]\n",
    "})\n",
    "\n",
    "# Print the data structure\n",
    "print(infoDb)"
   ]
  },
  {
   "cell_type": "markdown",
   "metadata": {},
   "source": [
    "## For Loop for output of List/Dictionary\n",
    ">takes the dictionaries in the list and prints them"
   ]
  },
  {
   "cell_type": "code",
   "execution_count": 2,
   "metadata": {},
   "outputs": [
    {
     "name": "stdout",
     "output_type": "stream",
     "text": [
      "For loop output\n",
      "\n",
      "{'FirstName': 'Vivian', 'LastName': 'Ni', 'DOB': 'May 13', 'Residence': 'San Diego', 'Fav_Movie': 'Inception', 'Email': 'vivianni452@gmail.com', 'Best_Treats': ['cookies', 'ice cream', 'cake', 'brownies']}\n",
      "{'FirstName': 'Emma', 'LastName': 'Shen', 'DOB': 'July 29', 'Residence': 'San Diego', 'Email': 'aimashen.2017@gmail.com', 'Fav_Movie': 'MIB', 'Best_Treats': ['smoothies', 'ice cream']}\n"
     ]
    }
   ],
   "source": [
    "def for_loop():\n",
    "    print(\"For loop output\\n\")\n",
    "    for record in infoDb:\n",
    "        print(record)\n",
    "\n",
    "for_loop()"
   ]
  },
  {
   "cell_type": "markdown",
   "metadata": {},
   "source": [
    "## Alternate Methods of Iteration "
   ]
  },
  {
   "cell_type": "markdown",
   "metadata": {},
   "source": [
    "### Formatted Output of Dictionaries: Using For Loop with an Index\n",
    ">this code uses a for loop with the range and index syntax to print the dictionaries. It also does so in reverse order\n",
    "\n",
    "Formatted output of Dictionary Managing data in Lists and Dictionaries is for the convenience of passing the data across the internet or preparing it to be stored into a database. Also, it is a great way to exchange data inside of our own programs.\n",
    " \n",
    "Next, we will take the stored data and output it within our notebook. There are multiple steps to this process.\n",
    "\n",
    "Preparing a function to format the data, the print_data() function receives a parameter called \"d_rec\" short for dictionary record. It then references different keys within [] square brackets. Preparing a function to iterate through the list, the for_loop() function uses an enhanced for loop that pull record by record out of InfoDb until the list is empty. Each time through the loop it call print_data(record), which passes the dictionary record to that function. Finally, you need to activate your function with the call to the defined function for_loop(). Functions are defined, not activated until they are called. By placing for_loop() at the left margin the function is activated."
   ]
  },
  {
   "cell_type": "code",
   "execution_count": 3,
   "metadata": {},
   "outputs": [
    {
     "name": "stdout",
     "output_type": "stream",
     "text": [
      "For loop with index output\n",
      "\n",
      "Emma Shen\n",
      "\t Residence: San Diego\n",
      "\t Birth Day: July 29\n",
      "\t Favorite Movie MIB\n",
      "\t Email: aimashen.2017@gmail.com\n",
      "\t Best Treats: smoothies, ice cream\n",
      "\n",
      "Vivian Ni\n",
      "\t Residence: San Diego\n",
      "\t Birth Day: May 13\n",
      "\t Favorite Movie Inception\n",
      "\t Email: vivianni452@gmail.com\n",
      "\t Best Treats: cookies, ice cream, cake, brownies\n",
      "\n"
     ]
    }
   ],
   "source": [
    "def print_data(d_rec): #formatting\n",
    "    print(d_rec[\"FirstName\"], d_rec[\"LastName\"])  # using comma puts space between values\n",
    "    print(\"\\t\", \"Residence:\", d_rec[\"Residence\"]) # \\t is a tab indent\n",
    "    print(\"\\t\", \"Birth Day:\", d_rec[\"DOB\"])\n",
    "    print(\"\\t\", \"Favorite Movie\", d_rec[\"Fav_Movie\"])\n",
    "    print(\"\\t\", \"Email:\", d_rec[\"Email\"])\n",
    "    print(\"\\t\", \"Best Treats: \", end=\"\")  # end=\"\" make sure no return occurs\n",
    "    print(\", \".join(d_rec[\"Best_Treats\"]))  # join allows printing a string list with separator\n",
    "    print()\n",
    "\n",
    "# for loop iterates on length of InfoDb\n",
    "def for_loop():\n",
    "    print(\"For loop with index output\\n\")\n",
    "    length = len(infoDb) #figures out the length of the list infoDb (which is 2 because there are 2 dictionaries in the list)\n",
    "    ran = range(length) #defines ran as the range of the length. (this is 0 and 1 because the length is 2)\n",
    "    for index in reversed(ran): #index is 0 and 1 so it takes the indexes of infoDb. 0 would be the first dictionary and 1 would be the second. reversed prints them as 1 0 instead of 0 1\n",
    "        print_data(infoDb[index])\n",
    "\n",
    "for_loop()\n"
   ]
  },
  {
   "cell_type": "markdown",
   "metadata": {},
   "source": [
    "### While Loop\n",
    ">contains a while loop, \"while i < len(InfoDb):\". This counts through the elements in the list start at zero, and passes the record to print_data()"
   ]
  },
  {
   "cell_type": "code",
   "execution_count": 4,
   "metadata": {},
   "outputs": [
    {
     "name": "stdout",
     "output_type": "stream",
     "text": [
      "While loop output\n",
      "\n",
      "Vivian Ni\n",
      "\t Residence: San Diego\n",
      "\t Birth Day: May 13\n",
      "\t Favorite Movie Inception\n",
      "\t Email: vivianni452@gmail.com\n",
      "\t Best Treats: cookies, ice cream, cake, brownies\n",
      "\n",
      "Emma Shen\n",
      "\t Residence: San Diego\n",
      "\t Birth Day: July 29\n",
      "\t Favorite Movie MIB\n",
      "\t Email: aimashen.2017@gmail.com\n",
      "\t Best Treats: smoothies, ice cream\n",
      "\n"
     ]
    }
   ],
   "source": [
    "# while loop algorithm contains an initial n and an index incrementing statement (n += 1)\n",
    "def while_loop():\n",
    "    print(\"While loop output\\n\")\n",
    "    i = 0 \n",
    "    while i < len(infoDb): #length is 2 so while i is less than, it will keep printing\n",
    "        record = infoDb[i] #defines the record as the index of the list\n",
    "        print_data(record) #prints that index using the formatted print function\n",
    "        i += 1 #adds 1 and returns to the top till i is no longer <2\n",
    "    return\n",
    "\n",
    "while_loop()"
   ]
  },
  {
   "cell_type": "markdown",
   "metadata": {},
   "source": [
    "### Recursion\n",
    ">this method calls itself repeatedly until the \"if i < len(infoDb)\" is no longer true. the recursive_loop(0) is set at the start and it keeps activating a new call as recursive_loop(i + 1)"
   ]
  },
  {
   "cell_type": "code",
   "execution_count": 5,
   "metadata": {},
   "outputs": [
    {
     "name": "stdout",
     "output_type": "stream",
     "text": [
      "Recursive loop output\n",
      "\n",
      "Vivian Ni\n",
      "\t Residence: San Diego\n",
      "\t Birth Day: May 13\n",
      "\t Favorite Movie Inception\n",
      "\t Email: vivianni452@gmail.com\n",
      "\t Best Treats: cookies, ice cream, cake, brownies\n",
      "\n",
      "Emma Shen\n",
      "\t Residence: San Diego\n",
      "\t Birth Day: July 29\n",
      "\t Favorite Movie MIB\n",
      "\t Email: aimashen.2017@gmail.com\n",
      "\t Best Treats: smoothies, ice cream\n",
      "\n"
     ]
    }
   ],
   "source": [
    "# recursion algorithm loops incrementing on each call (n + 1) until exit condition is met\n",
    "def recursive_loop(i):\n",
    "    if i < len(infoDb): #ensures the code stops after it recurses through all the indexes since length determines amount of indexes\n",
    "        record = infoDb[i] #defines record as the index of infoDb\n",
    "        print_data(record) #prints using the formatted print function\n",
    "        recursive_loop(i + 1) #adds 1 to the original index and returns until i is no longer <2\n",
    "    return\n",
    "    \n",
    "print(\"Recursive loop output\\n\")\n",
    "\n",
    "recursive_loop(0)"
   ]
  },
  {
   "cell_type": "markdown",
   "metadata": {},
   "source": [
    "## Using Input to Add/Search/Delete Dictionaries"
   ]
  },
  {
   "cell_type": "code",
   "execution_count": 17,
   "metadata": {},
   "outputs": [
    {
     "name": "stdout",
     "output_type": "stream",
     "text": [
      "Hanli is deleted!\n",
      "Come back again!\n",
      "Total Number of Records:  2\n",
      "Vivian Ni\n",
      "\t Residence: San Diego\n",
      "\t Birth Day: May 13\n",
      "\t Favorite Movie Inception\n",
      "\t Email: vivianni452@gmail.com\n",
      "\n",
      "Emma Shen\n",
      "\t Residence: San Diego\n",
      "\t Birth Day: July\n",
      "\t Favorite Movie Not sure\n",
      "\t Email: aimashen.2017@gmail.com\n",
      "\n"
     ]
    }
   ],
   "source": [
    "from asyncio.windows_events import NULL\n",
    "\n",
    "infoDb = []\n",
    "\n",
    "infoDb.append({\n",
    "    \"FirstName\": \"Vivian\",\n",
    "    \"LastName\": \"Ni\",\n",
    "    \"DOB\": \"May 13\",\n",
    "    \"Residence\": \"San Diego\",\n",
    "    \"Fav_Movie\": \"Inception\",\n",
    "    \"Email\": \"vivianni452@gmail.com\",\n",
    "})\n",
    "\n",
    "infoDb.append({\n",
    "    \"FirstName\": \"Hanli\",\n",
    "    \"LastName\": \"Ni\",\n",
    "    \"DOB\": \"Jan 11\",\n",
    "    \"Residence\": \"San Diego\",\n",
    "    \"Email\": \"hanlini@gmail.com\",\n",
    "    \"Fav_Movie\": \"Interstellar\",\n",
    "})\n",
    "\n",
    "def print_data2(d_rec): #formatting\n",
    "    print(d_rec[\"FirstName\"], d_rec[\"LastName\"])  # using comma puts space between values\n",
    "    print(\"\\t\", \"Residence:\", d_rec[\"Residence\"]) # \\t is a tab indent\n",
    "    print(\"\\t\", \"Birth Day:\", d_rec[\"DOB\"])\n",
    "    print(\"\\t\", \"Favorite Movie:\", d_rec[\"Fav_Movie\"])\n",
    "    print(\"\\t\", \"Email:\", d_rec[\"Email\"])\n",
    "    print()\n",
    "\n",
    "def data_entry(): #defining the function that asks for user input\n",
    "    Firstname = input(\"What is your firstname?\")\n",
    "    Lastname = input(\"What is your lastname\")\n",
    "    DOB = input(\"When is your birthday\")\n",
    "    Email = input(\"What is your Email\")\n",
    "    Movie = input(\"What is your favorite movie?\")\n",
    "    Residence = input(\"Where do you live?\")\n",
    "\n",
    "    infoDb.append({ #appends the user input to the dictionary\n",
    "        \"FirstName\": Firstname,\n",
    "        \"LastName\": Lastname,\n",
    "        \"DOB\": DOB,\n",
    "        \"Email\": Email,\n",
    "        \"Residence\": Residence,\n",
    "        \"Fav_Movie\": Movie,\n",
    "   \n",
    "    })\n",
    "\n",
    "def search_data(firstname):\n",
    "    for record in infoDb:\n",
    "        if record[\"FirstName\"] == firstname: #compares the already existing name to the name inputted with the firstname variable\n",
    "            return record\n",
    "\n",
    "    return NULL\n",
    "\n",
    "def data_delete(firstname):\n",
    "    record = search_data(firstname) #defines record as the name inputted with the search function\n",
    "    if (record != NULL): #if the record doesn't equal null (does it exist?) then the next line removes it\n",
    "        infoDb.remove(record)\n",
    "        print(firstname, \"has been deleted!\")\n",
    "    else:\n",
    "        print(\"Record not found!\")\n",
    "\n",
    "def main():\n",
    "    Continue = True #defining continue as true\n",
    "    while Continue:\n",
    "        lol = input(\"What would you like to do (add/search/delete, type no if you want to exit)?\")\n",
    "        if lol == \"no\":\n",
    "            print(\"Come back again!\")\n",
    "            Continue = False\n",
    "        elif lol == \"add\":\n",
    "            data_entry()\n",
    "        elif lol == \"search\":\n",
    "            firstname = input(\"Who do you want to search (firstname)?\")\n",
    "            record = search_data(firstname) #defines record as the input \"name\" and runs it through the search function\n",
    "            print_data2(record)\n",
    "        elif lol == \"delete\":\n",
    "            firstname = input(\"Who do you want to delete(firstname)\")\n",
    "            data_delete(firstname)\n",
    "        else:\n",
    "            print(\"Invalid input. Please try again\")\n",
    "\n",
    "    length = len(infoDb) #defines length as the number of records\n",
    "    print(\"Total Number of Records: \", length) \n",
    "    for record in infoDb:\n",
    "            print_data2(record)\n",
    " \n",
    "main()"
   ]
  },
  {
   "cell_type": "markdown",
   "metadata": {},
   "source": [
    "## Quiz that stores in a List of Dictionaries"
   ]
  },
  {
   "cell_type": "code",
   "execution_count": 29,
   "metadata": {},
   "outputs": [
    {
     "name": "stdout",
     "output_type": "stream",
     "text": [
      "Take this fun quiz on food!\n",
      "Question: Which famous soft drink was invented in 1892?? \t Coca cola \t pepsi \t rootbeer\n",
      "Answer: coca cola\n",
      "Correct!\n",
      "Question: What was the first food eaten in space? \t applesauce \t icecream  \t mashed potatoes\n",
      "Answer: applesauce\n",
      "Correct!\n",
      "Question: Where were French fries invented? \t France \t America \t Belgium\n",
      "Answer: belgium\n",
      "Incorrect!\n",
      "Question: What is the USA’s favorite flavor of ice cream? \t chocolate  \t vanilla  \t strawberry\n",
      "Answer: vanilla\n",
      "Correct!\n",
      "Question: What is the most popular pizza topping in the USA? \t pepperoni \t sausage \t olives\n",
      "Answer: pepperoni\n",
      "Correct!\n",
      "You scored 4 /5 correct answers!\n",
      "Here is a record of your quiz answers: {'Question 1': 'coca cola', 'Question 2': 'applesauce', 'Question 3': 'belgium', 'Question 4': 'vanilla', 'Question 5': 'pepperoni'}\n"
     ]
    }
   ],
   "source": [
    "questions = 5\n",
    "correct = 0\n",
    "\n",
    "print(\"Take this fun quiz on food!\")\n",
    "\n",
    "def question_and_answer(prompt, answer):\n",
    "    print(\"Question: \" + prompt)\n",
    "    msg = input()\n",
    "    print(\"Answer: \" + msg)\n",
    "    \n",
    "    if answer == msg.lower():\n",
    "        print(\"Correct!\")\n",
    "        global correct\n",
    "        correct += 1\n",
    "    else:\n",
    "        print (\"Incorrect!\")\n",
    "        \n",
    "    return msg\n",
    " \n",
    "Q1 = question_and_answer(\"Which famous soft drink was invented in 1892?? \\t Coca cola \\t pepsi \\t rootbeer\", \"coca cola\")\n",
    "Q2 = question_and_answer(\"What was the first food eaten in space? \\t applesauce \\t icecream  \\t mashed potatoes\", \"applesauce\")\n",
    "Q3 = question_and_answer(\"Where were French fries invented? \\t France \\t America \\t Belgium\", \"Belgium\")\n",
    "Q4 = question_and_answer(\"What is the USA’s favorite flavor of ice cream? \\t chocolate  \\t vanilla  \\t strawberry\", \"vanilla\")\n",
    "Q5 = question_and_answer(\"What is the most popular pizza topping in the USA? \\t pepperoni \\t sausage \\t olives\", \"pepperoni\")\n",
    "\n",
    "print(f'You scored {correct} /5 correct answers!')\n",
    "    \n",
    "Quiz = {\n",
    "    \"Question 1\": Q1,\n",
    "    \"Question 2\": Q2,\n",
    "    \"Question 3\": Q3,\n",
    "    \"Question 4\": Q4,\n",
    "    \"Question 5\": Q5\n",
    "}\n",
    "\n",
    "print(\"Here is a record of your quiz answers:\",Quiz)\n"
   ]
  }
 ],
 "metadata": {
  "kernelspec": {
   "display_name": "Python 3.10.5 64-bit",
   "language": "python",
   "name": "python3"
  },
  "language_info": {
   "codemirror_mode": {
    "name": "ipython",
    "version": 3
   },
   "file_extension": ".py",
   "mimetype": "text/x-python",
   "name": "python",
   "nbconvert_exporter": "python",
   "pygments_lexer": "ipython3",
   "version": "3.10.5"
  },
  "orig_nbformat": 4,
  "vscode": {
   "interpreter": {
    "hash": "32ed86b3ffa559bcacbace9601ce361a752c54a5601a76201e2c8b67a3b7e6fb"
   }
  }
 },
 "nbformat": 4,
 "nbformat_minor": 2
}
