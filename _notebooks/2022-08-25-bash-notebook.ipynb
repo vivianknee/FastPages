{
 "cells": [
  {
   "cell_type": "markdown",
   "metadata": {},
   "source": [
    "---\n",
    "- toc: true\n",
    "- branch: master\n",
    "- badges: true\n",
    "- comments: true\n",
    "- author: Vivian Ni\n",
    "- categories: [fastpages, jupyter]\n",
    "---\n",
    "\n",
    "# \"APCSP Blog: My Progress\"\n",
    ">Tool check: this code proves that I have all the necessary tools installed. These tools include: conda, bash, java, javascript, and python. "
   ]
  }
 ],
 "metadata": {
  "language_info": {
   "name": "python"
  },
  "orig_nbformat": 4
 },
 "nbformat": 4,
 "nbformat_minor": 2
}
