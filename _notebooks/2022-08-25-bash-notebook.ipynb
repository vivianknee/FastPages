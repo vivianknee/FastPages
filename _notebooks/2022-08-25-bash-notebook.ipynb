{
 "cells": [
  {
   "cell_type": "markdown",
   "metadata": {},
   "source": [
    "# APCSP Blog: My Progress\n",
    ">Tool check: this code proves that I have all the necessary tools installed. These tools include: conda, bash, java, javascript, and python. "
   ]
  },
  {
   "cell_type": "code",
   "execution_count": null,
   "metadata": {},
   "outputs": [],
   "source": []
  }
 ],
 "metadata": {
  "language_info": {
   "name": "python"
  },
  "orig_nbformat": 4
 },
 "nbformat": 4,
 "nbformat_minor": 2
}
