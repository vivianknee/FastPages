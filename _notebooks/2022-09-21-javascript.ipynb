{
 "cells": [
  {
   "cell_type": "markdown",
   "metadata": {},
   "source": [
    "# Using the Javascript Kernel\n",
    "\n",
    "- badges: true\n",
    "- comments: true\n",
    "- categories: [jupyter,week5]"
   ]
  },
  {
   "cell_type": "markdown",
   "metadata": {},
   "source": [
    "This [link](https://vivianknee.github.io/FastPages/markdown/week5/2022/09/21/javascripttable.html) will take you to my markdown on how I use HTML fragments and JavaScript data to build a table"
   ]
  },
  {
   "cell_type": "markdown",
   "metadata": {},
   "source": [
    "### console.log output\n",
    ">\"Good Luck!\" is a parameter and console.log is a function the outputs the parameter into the console."
   ]
  },
  {
   "cell_type": "code",
   "execution_count": 5,
   "metadata": {},
   "outputs": [
    {
     "name": "stdout",
     "output_type": "stream",
     "text": [
      "Good luck!\n"
     ]
    }
   ],
   "source": [
    "console.log(\"Good luck!\");"
   ]
  },
  {
   "cell_type": "markdown",
   "metadata": {},
   "source": [
    "### console.log output showing use of variable\n",
    ">This is a sequence of code as there are two lines. msg is defined as a variable for the string which is then outputted to the console using the function console.log"
   ]
  },
  {
   "cell_type": "code",
   "execution_count": 6,
   "metadata": {},
   "outputs": [
    {
     "name": "stdout",
     "output_type": "stream",
     "text": [
      "Good Luck!\n"
     ]
    }
   ],
   "source": [
    "var msg = \"Good Luck!\";\n",
    "console.log(msg);"
   ]
  },
  {
   "cell_type": "markdown",
   "metadata": {},
   "source": [
    "### console.log output showing use of a function\n",
    ">The function logIt(output) is defined within the {}. logIt(msg) is the line that calls back to the function and activates it."
   ]
  },
  {
   "cell_type": "code",
   "execution_count": 7,
   "metadata": {},
   "outputs": [
    {
     "name": "stdout",
     "output_type": "stream",
     "text": [
      "Good Luck!\n"
     ]
    }
   ],
   "source": [
    "function logIt(output) {\n",
    "    console.log(output);\n",
    "}\n",
    "logIt(msg);"
   ]
  },
  {
   "cell_type": "markdown",
   "metadata": {},
   "source": [
    "### Showing reuse of a function\n",
    ">I am now reusing the function in the previous cell blocks. This process is referred to as procedural abstraction"
   ]
  },
  {
   "cell_type": "code",
   "execution_count": 9,
   "metadata": {},
   "outputs": [
    {
     "name": "stdout",
     "output_type": "stream",
     "text": [
      "Reuse of logIT\n",
      "My name is Vivian!\n",
      "Born in 2006\n"
     ]
    }
   ],
   "source": [
    "console.log(\"Reuse of logIT\")\n",
    "logIt(\"My name is Vivian!\");\n",
    "logIt(\"Born in \" + 2006)"
   ]
  },
  {
   "cell_type": "markdown",
   "metadata": {},
   "source": [
    "### Dynamic or Loosely typed language (string, number)\n",
    ">Here, I define a new function to show how Javascript doesn't require me to specify what type of information will be stored in a variable in advance. Instead, the variable type is determined at runtime."
   ]
  },
  {
   "cell_type": "code",
   "execution_count": 11,
   "metadata": {},
   "outputs": [
    {
     "name": "stdout",
     "output_type": "stream",
     "text": [
      "Looking at dynamic nature of types in JavaScript\n",
      "string ; Hello, I am graduating in\n",
      "number ; 2024\n",
      "object ; [ 1, 2 ]\n",
      "string ; more years till I start my freshman year at college!\n"
     ]
    }
   ],
   "source": [
    "function logItType(output) {\n",
    "    console.log(typeof output, \";\", output); //\"typeof\" keyword returns the type.\n",
    "}\n",
    "console.log(\"Looking at dynamic nature of types in JavaScript\")\n",
    "logItType(\"Hello, I am graduating in\"); // String\n",
    "logItType(2024);    // Number\n",
    "logItType([1, 2]);  // Object is generic for this Array, which similar to Python List\n",
    "logItType(\"more years till I start my freshman year at college!\")"
   ]
  }
 ],
 "metadata": {
  "kernelspec": {
   "display_name": "JavaScript (Node.js)",
   "language": "javascript",
   "name": "javascript"
  },
  "language_info": {
   "file_extension": ".js",
   "mimetype": "application/javascript",
   "name": "javascript",
   "version": "6.11.2"
  },
  "orig_nbformat": 4,
  "vscode": {
   "interpreter": {
    "hash": "32ed86b3ffa559bcacbace9601ce361a752c54a5601a76201e2c8b67a3b7e6fb"
   }
  }
 },
 "nbformat": 4,
 "nbformat_minor": 2
}
