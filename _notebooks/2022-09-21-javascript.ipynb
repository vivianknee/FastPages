{
 "cells": [
  {
   "cell_type": "markdown",
   "metadata": {},
   "source": [
    "# Using the Javascript Kernel\n",
    "\n",
    "- badges: true\n",
    "- comments: true\n",
    "- categories: [jupyter,week5]"
   ]
  },
  {
   "cell_type": "markdown",
   "metadata": {},
   "source": [
    "This [link](https://vivianknee.github.io/FastPages/markdown/week5/2022/09/21/javascripttable.html) will take you to my markdown on how I use HTML fragments and JavaScript data to build a table"
   ]
  },
  {
   "cell_type": "markdown",
   "metadata": {},
   "source": [
    "### console.log output\n",
    ">\"Good Luck!\" is a parameter and console.log is a function the outputs the parameter into the console."
   ]
  },
  {
   "cell_type": "code",
   "execution_count": 5,
   "metadata": {},
   "outputs": [
    {
     "name": "stdout",
     "output_type": "stream",
     "text": [
      "Good luck!\n"
     ]
    }
   ],
   "source": [
    "console.log(\"Good luck!\");"
   ]
  },
  {
   "cell_type": "markdown",
   "metadata": {},
   "source": [
    "### console.log output showing use of variable\n",
    ">This is a sequence of code as there are two lines. msg is defined as a variable for the string which is then outputted to the console using the function console.log"
   ]
  },
  {
   "cell_type": "code",
   "execution_count": 6,
   "metadata": {},
   "outputs": [
    {
     "name": "stdout",
     "output_type": "stream",
     "text": [
      "Good Luck!\n"
     ]
    }
   ],
   "source": [
    "var msg = \"Good Luck!\";\n",
    "console.log(msg);"
   ]
  },
  {
   "cell_type": "markdown",
   "metadata": {},
   "source": [
    "### console.log output showing use of a function\n",
    ">The function logIt(output) is defined within the {}. logIt(msg) is the line that calls back to the function and activates it."
   ]
  },
  {
   "cell_type": "code",
   "execution_count": 7,
   "metadata": {},
   "outputs": [
    {
     "name": "stdout",
     "output_type": "stream",
     "text": [
      "Good Luck!\n"
     ]
    }
   ],
   "source": [
    "function logIt(output) {\n",
    "    console.log(output);\n",
    "}\n",
    "logIt(msg);"
   ]
  },
  {
   "cell_type": "markdown",
   "metadata": {},
   "source": [
    "### Showing reuse of a function\n",
    ">I am now reusing the function in the previous cell blocks. This process is referred to as procedural abstraction"
   ]
  },
  {
   "cell_type": "code",
   "execution_count": 9,
   "metadata": {},
   "outputs": [
    {
     "name": "stdout",
     "output_type": "stream",
     "text": [
      "Reuse of logIT\n",
      "My name is Vivian!\n",
      "Born in 2006\n"
     ]
    }
   ],
   "source": [
    "console.log(\"Reuse of logIT\")\n",
    "logIt(\"My name is Vivian!\");\n",
    "logIt(\"Born in \" + 2006)"
   ]
  },
  {
   "cell_type": "markdown",
   "metadata": {},
   "source": [
    "### Dynamic or Loosely typed language (string, number)\n",
    ">Here, I define a new function to show how Javascript doesn't require me to specify what type of information will be stored in a variable in advance. Instead, the variable type is determined at runtime."
   ]
  },
  {
   "cell_type": "code",
   "execution_count": 1,
   "metadata": {},
   "outputs": [
    {
     "name": "stdout",
     "output_type": "stream",
     "text": [
      "Looking at dynamic nature of types in JavaScript\n",
      "string ; Hello, I am graduating in\n",
      "number ; 2024\n",
      "object ; [ 1, 2 ]\n",
      "string ; more years till I start my freshman year at college!\n"
     ]
    }
   ],
   "source": [
    "function logItType(output) {\n",
    "    console.log(typeof output, \";\", output); //\"typeof\" keyword returns the type.\n",
    "}\n",
    "console.log(\"Looking at dynamic nature of types in JavaScript\")\n",
    "logItType(\"Hello, I am graduating in\"); // String\n",
    "logItType(2024);    // Number\n",
    "logItType([1, 2]);  // Object is generic for this Array, which similar to Python List\n",
    "logItType(\"more years till I start my freshman year at college!\")"
   ]
  },
  {
   "cell_type": "markdown",
   "metadata": {},
   "source": [
    "### Build a Person Function/Class object and JSON\n",
    "> - Definition of function allows for a collection of data, the \"function Person\" allows programmer to retain name, github id, and class of designation.\n",
    "> - Definition of a prototype allow for the definition of a method associated with the function , the \"Person.prototype.toJSON\" allows the collection of data to be expressed in a json/string versus JavaScript object.\n",
    "> - Instance of a function, the \"var teacher = new Person(\"Vivian Ni\", \"vivianknee\", 2024)\" line makes a variable \"student\" which is an object representation of \"function Person\"."
   ]
  },
  {
   "cell_type": "code",
   "execution_count": 4,
   "metadata": {},
   "outputs": [
    {
     "name": "stdout",
     "output_type": "stream",
     "text": [
      "object ; Person { name: 'Vivian Ni', ghID: 'vivianknee', classOf: 2024, role: '' }\n",
      "string ; {\"name\":\"Vivian Ni\",\"ghID\":\"vivianknee\",\"classOf\":2024,\"role\":\"\"}\n",
      "object ; Person {\n",
      "  name: 'Vivian Ni',\n",
      "  ghID: 'vivianknee',\n",
      "  classOf: 2024,\n",
      "  role: 'Student' }\n",
      "string ; {\"name\":\"Vivian Ni\",\"ghID\":\"vivianknee\",\"classOf\":2024,\"role\":\"Student\"}\n"
     ]
    }
   ],
   "source": [
    "// define a function to hold data for a Person\n",
    "function Person(name, per, classOf) {\n",
    "    this.name = name;\n",
    "    this.ghID = per;\n",
    "    this.classOf = classOf;\n",
    "    this.role = \"\";\n",
    "}\n",
    "\n",
    "// define a setter for role in Person data\n",
    "Person.prototype.setRole = function(role) {\n",
    "    this.role = role;\n",
    "}\n",
    "\n",
    "// define a JSON conversion \"method\" associated with Person\n",
    "Person.prototype.toJSON = function() {\n",
    "    const obj = {name: this.name, per: this.ghID, classOf: this.classOf, role: this.role};\n",
    "    const json = JSON.stringify(obj);\n",
    "    return json;\n",
    "}\n",
    "\n",
    "// make a new Person and assign to variable student\n",
    "var student = new Person(\"Vivian Ni\", \"3\", 2024);  // object type is easy to work with in JavaScript\n",
    "logItType(student);  // before role\n",
    "logItType(student.toJSON());  // ok to do this even though role is not yet defined\n",
    "\n",
    "// output of Object and JSON/string associated with Teacher\n",
    "student.setRole(\"Student\");   // set the role\n",
    "logItType(student); \n",
    "logItType(student.toJSON());"
   ]
  },
  {
   "cell_type": "markdown",
   "metadata": {},
   "source": [
    "### Build a Classroom Array/List of Persons and JSON\n",
    "> Using arrays and JSON to create list of varying persons"
   ]
  },
  {
   "cell_type": "code",
   "execution_count": 5,
   "metadata": {},
   "outputs": [
    {
     "ename": "ReferenceError",
     "evalue": "teacher is not defined",
     "output_type": "error",
     "traceback": [
      "evalmachine.<anonymous>:24",
      "compsci = new Classroom(teacher, students);",
      "                        ^",
      "",
      "ReferenceError: teacher is not defined",
      "    at evalmachine.<anonymous>:24:25",
      "    at ContextifyScript.Script.runInThisContext (vm.js:25:33)",
      "    at Object.runInThisContext (vm.js:97:38)",
      "    at run ([eval]:1020:15)",
      "    at onRunRequest ([eval]:864:18)",
      "    at onMessage ([eval]:828:13)",
      "    at emitTwo (events.js:106:13)",
      "    at process.emit (events.js:191:7)",
      "    at process.nextTick (internal/child_process.js:758:12)",
      "    at _combinedTickCallback (internal/process/next_tick.js:73:7)"
     ]
    }
   ],
   "source": [
    "// define a student Array of Person(s)\n",
    "var students = [ \n",
    "    new Person(\"Vivian\", \"vivianknee\", 2024),\n",
    "    new Person(\"Emma\", \"e-shen\", 2024),\n",
    "    new Person(\"Sarah\", \"sarahliu\", 2024),\n",
    "    new Person(\"Amay\", \"amayadvani\", 2024),\n",
    "];\n",
    "\n",
    "// define a classroom and build Classroom objects and json\n",
    "function Classroom(teacher, students){ // 1 teacher, many student\n",
    "    // start Classroom with Teacher\n",
    "    teacher.setRole(\"Teacher\");\n",
    "    this.teacher = teacher;\n",
    "    this.classroom = [teacher];\n",
    "    // add each Student to Classroom\n",
    "    this.students = students;\n",
    "    this.students.forEach(student => { student.setRole(\"Student\"); this.classroom.push(student); });\n",
    "    // build json/string format of Classroom\n",
    "    this.json = [];\n",
    "    this.classroom.forEach(person => this.json.push(person.toJSON()));\n",
    "}\n",
    "\n",
    "// make a CompSci classroom from formerly defined teacher and students\n",
    "compsci = new Classroom(teacher, students);\n",
    "\n",
    "// output of Objects and JSON in CompSci classroom\n",
    "logItType(compsci.classroom);  // constructed classroom object\n",
    "logItType(compsci.classroom[0].name);  // abstract 1st objects name\n",
    "logItType(compsci.json[0]);  // show json conversion of 1st object to string\n",
    "logItType(JSON.parse(compsci.json[0]));  // show JSON.parse inverse of JSON.stringify"
   ]
  }
 ],
 "metadata": {
  "kernelspec": {
   "display_name": "JavaScript (Node.js)",
   "language": "javascript",
   "name": "javascript"
  },
  "language_info": {
   "file_extension": ".js",
   "mimetype": "application/javascript",
   "name": "javascript",
   "version": "6.11.2"
  },
  "orig_nbformat": 4,
  "vscode": {
   "interpreter": {
    "hash": "32ed86b3ffa559bcacbace9601ce361a752c54a5601a76201e2c8b67a3b7e6fb"
   }
  }
 },
 "nbformat": 4,
 "nbformat_minor": 2
}
