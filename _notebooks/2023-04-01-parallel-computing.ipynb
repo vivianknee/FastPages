{
 "cells": [
  {
   "attachments": {},
   "cell_type": "markdown",
   "metadata": {},
   "source": [
    "#  Unit 4.3a Parallel Computing\n",
    "- toc: true"
   ]
  },
  {
   "attachments": {},
   "cell_type": "markdown",
   "metadata": {},
   "source": [
    "## Hacks\n",
    "> AP Classroom. Provide answers and thoughts on theo-critical question form college board Video in section 4.3.  They start at about the 9 minute mark.\n",
    "\n",
    "![]({{ site.baseurl }}/images/example1.png)\n",
    "- since two processors can run at the same time, I would run the two processes that take the longest at the same time first, that being the 50 and 30sec one. The 30sec one will finish before the 50sec one so another process can be run immediately after, that being the 10s one. The 10sec one would still finish before the 50sec one. Thus the minimum time to run all 3 algorithms would be 50s.\n",
    "\n",
    "![]({{ site.baseurl }}/images/example2.png)\n",
    "- if the two processes are run in parallel, the total time to run all the algorithms would be 45sec. \n",
    "- if the two processes are run one after the other however, the time it would take to run the algorithms would be 45 + 25 = 70sec.\n",
    "\n",
    "> Data Structures.  Build a List Comprehension example\n",
    "- list = [calc(item) for item in items]"
   ]
  }
 ],
 "metadata": {
  "language_info": {
   "name": "python"
  },
  "orig_nbformat": 4
 },
 "nbformat": 4,
 "nbformat_minor": 2
}
