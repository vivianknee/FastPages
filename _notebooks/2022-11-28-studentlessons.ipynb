{
 "cells": [
  {
   "cell_type": "markdown",
   "metadata": {},
   "source": [
    "# Student Lessons HW\n",
    "- badges: true\n",
    "- comments: true\n",
    "- categories: [week14]\n",
    "- toc: true"
   ]
  },
  {
   "cell_type": "markdown",
   "metadata": {},
   "source": [
    "### Mathematical Expressions and Strings\n",
    "- algorithms\n",
    "    - set of instructions that can accomplish a specific task\n",
    "    - Arithmetic operations in programming are performed in the same order as operations in mathematics\n",
    "    - Three different types\n",
    "        - sequence: Algorithms do tasks in the order of specification\n",
    "        - selection: select two diff outcomes based on one decision\n",
    "        - iteration: if a certain condition is proved true then a second step will be repeated\n",
    "    - can be represented in two ways\n",
    "        - Pseudocode: A blend of human language and coding format. \n",
    "        - flow charts\n",
    "![flowchart](https://github.com/vivianknee/FastPages/blob/master/images/flowchart.png?raw=true)"
   ]
  },
  {
   "cell_type": "markdown",
   "metadata": {},
   "source": [
    "- Different way variables are stored\n",
    "    - Numerical value stored in a variable\n",
    "    - Value of another variable stored in a variable\n",
    "    - Result of an operation stored in a variable\n",
    "    - Result of a procedure call stored in a variable"
   ]
  },
  {
   "cell_type": "code",
   "execution_count": null,
   "metadata": {},
   "outputs": [],
   "source": [
    "score = 0   # 1\n",
    "score = newScore    # 2\n",
    "score = newScore + 2    # 3\n",
    "avgScore = allscores(20, 60, 80)    # 4"
   ]
  },
  {
   "cell_type": "markdown",
   "metadata": {},
   "source": [
    "- Strings\n",
    "    - A string is a collection of characters. character can be anything from numbers, letters, spaces, special symbols, etc.\n",
    "    - `len()` to find the length of a string\n",
    "    - `lower()` to convert to lowercase\n",
    "    - `len()` returns the length of a string    "
   ]
  },
  {
   "cell_type": "markdown",
   "metadata": {},
   "source": [
    "- String Concatenation\n",
    "    - String concatenation is combining 2 or more strings to make a new strings in order to create a new string\n",
    "    - `concat()` returns a string made up of the concatenated strings \n",
    "    - `concat(\"cookie\",\"monster\")` returns `cookiemonster`"
   ]
  },
  {
   "cell_type": "markdown",
   "metadata": {},
   "source": [
    "- Substrings\n",
    "    - A substring is a part of and already existing string.\n",
    "    - `substring()` returns the characters from the string begining at the first position to the last. Ex: `(\"abcdefghijk\", 2, 5)` would print bced"
   ]
  },
  {
   "cell_type": "markdown",
   "metadata": {},
   "source": [
    "Hacks"
   ]
  },
  {
   "cell_type": "code",
   "execution_count": 22,
   "metadata": {},
   "outputs": [
    {
     "name": "stdout",
     "output_type": "stream",
     "text": [
      "Very handsome Mr.Mor is.\n"
     ]
    }
   ],
   "source": [
    "#Problem 1\n",
    "Noun = \"Mr.Mortenson\" \n",
    "Adjective = \"handsome\" \n",
    "Adjective2 = \"Very\" \n",
    "Verb = \"is\" \n",
    "abrev = Noun[0:6]\n",
    "yoda = Adjective2 + \" \" + Adjective + \" \" + abrev + \" \" + Verb + \".\"\n",
    "print(yoda)"
   ]
  },
  {
   "cell_type": "code",
   "execution_count": 32,
   "metadata": {},
   "outputs": [
    {
     "name": "stdout",
     "output_type": "stream",
     "text": [
      "choclate vote 225 rasin vote 4.0\n"
     ]
    }
   ],
   "source": [
    "#Problem 2\n",
    "cookie = \"choclate\" \n",
    "cookie2 = \"rasin\" \n",
    "len1 = len(cookie) / 2 \n",
    "len2 = len(cookie2) * 45 \n",
    "vote1 = cookie + \" vote \" + str(len2) \n",
    "vote2 = cookie2 + \" vote \" + str(len1)\n",
    "votes = vote1 +  \" \" + vote2\n",
    "print(votes)"
   ]
  },
  {
   "cell_type": "markdown",
   "metadata": {},
   "source": [
    "### Boolean Expression, Conditionals, Nested Conditionals\n",
    "- Boolean\n",
    "    - a data type with two possible values: true or false\n",
    "    - boolean quantities are restricted to a singular bit (can only be either 1 or 0)"
   ]
  },
  {
   "cell_type": "markdown",
   "metadata": {},
   "source": [
    "- Relational Operators\n",
    "    - The AP exam will provide a ref sheet with these operators:\n",
    "![operators](https://github.com/vivianknee/FastPages/blob/master/images/operators.png?raw=true)"
   ]
  },
  {
   "cell_type": "code",
   "execution_count": 4,
   "metadata": {},
   "outputs": [
    {
     "name": "stdout",
     "output_type": "stream",
     "text": [
      "the avg grade was not greater than 80 :(. It was 77.0\n"
     ]
    }
   ],
   "source": [
    "grade1 = 90\n",
    "grade2 = 65\n",
    "grade3 = 60\n",
    "grade4 = 75\n",
    "grade5 = 95\n",
    "\n",
    "totalGrade = grade1 + grade2 + grade3 + grade4 + grade5\n",
    "avgGrade = totalGrade/5\n",
    "if avgGrade > 80:\n",
    "    print(\"The avf grade was \" + avgGrade)\n",
    "else:\n",
    "    print(\"the avg grade was not greater than 80 :(. It was \" + str(avgGrade))"
   ]
  },
  {
   "cell_type": "markdown",
   "metadata": {},
   "source": [
    "- Logical Operators\n",
    "    - these types of operators don't necessarily deal with equivalent/non-equivalent values. \n",
    "    - Instead they work on operands to produce a singular boolean result\n",
    "    1. AND: returns TRUE if the operands around it are TRUE\n",
    "    2. OR: returns TRUE if at least one operand is TRUE\n",
    "    3. NOT: returns TRUE if the following boolean is FALSE"
   ]
  },
  {
   "cell_type": "code",
   "execution_count": 16,
   "metadata": {},
   "outputs": [
    {
     "name": "stdout",
     "output_type": "stream",
     "text": [
      "1 > 2 or 5 < 12: True\n",
      "7 > 8: True\n",
      "10 > 20: False\n"
     ]
    }
   ],
   "source": [
    "print(\"1 > 2 or 5 < 12:\", 1 > 2 or 5 < 12)\n",
    "# Output TRUE  using OR ^\n",
    "\n",
    "# Output FALSE using NOT\n",
    "print(\"7 > 8:\", not 7 > 8)\n",
    "\n",
    "# Output FALSE using AND\n",
    "print(\"10 > 20:\", 10 > 20 and False)"
   ]
  },
  {
   "cell_type": "markdown",
   "metadata": {},
   "source": [
    "- Conditionals\n",
    "    - Selection: Uses a condition that evaluates to true or false\n",
    "    - determines which part of an algorithm are executed based on a condition being true or false\n",
    "    - Algorithm is a finite set of instructions that accomplish a specific task\n",
    "![conditionals](https://github.com/vivianknee/FastPages/blob/master/images/conditionals.png?raw=true)"
   ]
  },
  {
   "cell_type": "markdown",
   "metadata": {},
   "source": [
    "- Conditional Statements\n",
    "    - also known as if statements"
   ]
  },
  {
   "cell_type": "code",
   "execution_count": 12,
   "metadata": {},
   "outputs": [
    {
     "name": "stdout",
     "output_type": "stream",
     "text": [
      "x is greater than y\n"
     ]
    }
   ],
   "source": [
    "x = 20\n",
    "y = 10\n",
    "if x > y:\n",
    "    print(\"x is greater than y\")\n",
    "else:\n",
    "    print(\"x is not greater than y\")"
   ]
  },
  {
   "cell_type": "code",
   "execution_count": 12,
   "metadata": {},
   "outputs": [
    {
     "name": "stdout",
     "output_type": "stream",
     "text": [
      "200\n"
     ]
    }
   ],
   "source": [
    "num1 = 100\n",
    "num2 = 100\n",
    "sum = num1 + num2\n",
    "if sum == 200:\n",
    "    print(sum)\n",
    "else:\n",
    "    print(sum)\n"
   ]
  },
  {
   "cell_type": "markdown",
   "metadata": {},
   "source": [
    "- Nested Conditionals\n",
    "    - consist of conditional statements within other conditional statements\n",
    "    - uses \"if else\" statements within \"if else\" statements\n",
    "![nested](https://github.com/vivianknee/FastPages/blob/master/images/nested.jpg?raw=true)"
   ]
  },
  {
   "cell_type": "code",
   "execution_count": 11,
   "metadata": {
    "vscode": {
     "languageId": "javascript"
    }
   },
   "outputs": [
    {
     "ename": "SyntaxError",
     "evalue": "invalid syntax (2010005810.py, line 2)",
     "output_type": "error",
     "traceback": [
      "\u001b[0;36m  Cell \u001b[0;32mIn [11], line 2\u001b[0;36m\u001b[0m\n\u001b[0;31m    if (score >= 90)\u001b[0m\n\u001b[0m                    ^\u001b[0m\n\u001b[0;31mSyntaxError\u001b[0m\u001b[0;31m:\u001b[0m invalid syntax\n"
     ]
    }
   ],
   "source": [
    "score = 82\n",
    "if (score >= 90)\n",
    "{\n",
    "    console.log(\"You got an A, congrats!\")\n",
    "}\n",
    "else\n",
    "{\n",
    "    if (score >= 75)\n",
    "    {\n",
    "        console.log(\"Please come to retake up to a 90 next week at tutorial!\")\n",
    "    }\n",
    "    else\n",
    "    {\n",
    "        console.log(\"You have detention!\")\n",
    "    }\n",
    "}"
   ]
  },
  {
   "cell_type": "markdown",
   "metadata": {},
   "source": [
    "Hacks\n",
    "- Write a program that fits these conditions using nested conditionals:\n",
    "    - If the product is expired, print \"this product is no good\"\n",
    "    - If the cost is above 50 dollars, and the product isn't expired, print \"this product is too expensive\"\n",
    "    - If the cost is more than 25 dollars but under 50, and the product isn't expired, print \"this is a regular product\"\n",
    "    - If the cost is under 25 dollars, print \"this is a cheap product\""
   ]
  },
  {
   "cell_type": "code",
   "execution_count": null,
   "metadata": {},
   "outputs": [],
   "source": [
    "infoP = []\n",
    "\n",
    "infoP.append({\n",
    "    \"Product\": \"Cheese\",\n",
    "    \"Expired\": True,\n",
    "    \"Cost\": 15,\n",
    "})\n",
    "\n",
    "infoP.append({\n",
    "    \"Product\": \"Wine\",\n",
    "    \"Expired\": False,\n",
    "    \"Cost\": 75,\n",
    "})\n",
    "\n",
    "def print_info(p_rec):\n",
    "    if (p_rec[\"Expired\"]): \n",
    "            print(\"\\t\", \"This product is no good\")\n",
    "    else:\n",
    "        if (p_rec[\"Cost\"] > 50):\n",
    "            print(\"\\t\", \"This product is too expensive\")\n",
    "        elif (p_rec[\"Cost\"] > 25 and p_rec[\"Cost\"] <= 50):\n",
    "            print(\"\\t\", \"This is a regular product\")\n",
    "        else:\n",
    "            print(\"\\t\", \"This is a cheap product\")\n",
    "\n",
    "def print_data(p_rec): #formatting\n",
    "    print(\"\\t\", \"Product:\", p_rec[\"Product\"])  \n",
    "    print(\"\\t\", \"Expired:\", p_rec[\"Expired\"]) \n",
    "    print(\"\\t\", \"Cost:\", p_rec[\"Cost\"])\n",
    "    print_info(p_rec)\n",
    "    print(\"\\n\")\n",
    "\n",
    "def data_entry(): #defining the function that asks for user input\n",
    "    product = input(\"What is the product? (one word)\")\n",
    "    expired_string = input(\"Is it expired? (True or False)\")\n",
    "    cost = input(\"How much did it cost(dont include $, round to nearest whole number)\")\n",
    "\n",
    "    if (expired_string == \"True\"):\n",
    "        expired = True\n",
    "    else:\n",
    "        expired = False\n",
    "\n",
    "    infoP.append({ #appends the user input to the dictionary\n",
    "        \"Product\": product,\n",
    "        \"Expired\": expired,\n",
    "        \"Cost\": int(cost),\n",
    "   \n",
    "    })\n",
    "\n",
    "def main():\n",
    "    Continue = True #defining continue as true\n",
    "    while Continue:\n",
    "        inp = input(\"Would you like to add a product to the database, type no if you want to exit)?\")\n",
    "        if inp == \"no\":\n",
    "            print(\"Come back again!\")\n",
    "            Continue = False\n",
    "        elif inp == \"add\":\n",
    "            data_entry()\n",
    "        else:\n",
    "            print(\"Invalid input. Please try again\")\n",
    "\n",
    "    length = len(infoP) #defines length as the number of records\n",
    "    print(\"Total Number of Records: \", length) \n",
    "    for record in infoP:\n",
    "            print_data(record)\n",
    "            \n",
    " \n",
    "main()"
   ]
  },
  {
   "cell_type": "markdown",
   "metadata": {},
   "source": [
    "- Create a multiple choice quiz that ...\n",
    "    - uses Boolean expressions\n",
    "    - uses Logical operators\n",
    "    - uses Conditional statements\n",
    "    - prompts quiz-taker with multiple options (only one can be right)\n",
    "    - has at least 3 questions"
   ]
  },
  {
   "cell_type": "markdown",
   "metadata": {},
   "source": [
    "### Boolean Iteration and Lists\n",
    "- Lists\n",
    "    - sequence of variables\n",
    "    - used to store multiple items into a single variable\n",
    "    - changeable, allow duplicates\n",
    "    - can hold integers, strings, or booleans\n",
    "- Lists are 1/4 types of data collection types in python\n",
    "    - Tuple: collection that is ordered, unchangeable, allows duplicates\n",
    "    - Set: collection that is unordered, unchangeable, doesn't allow duplicates\n",
    "    - Dictionary: collection that is ordered, changeable, doesn't allow duplicates\n",
    "- Index: a term used to sort data in order to reference to an element in a list (allows for duplicates)\n",
    "- Elements: the values in the list assigned to an index"
   ]
  },
  {
   "cell_type": "code",
   "execution_count": 1,
   "metadata": {},
   "outputs": [
    {
     "name": "stdout",
     "output_type": "stream",
     "text": [
      "grape\n"
     ]
    }
   ],
   "source": [
    "fruits = [\"apple\", \"grape\", \"strawberry\"]\n",
    "index = 1\n",
    "\n",
    "print (fruits[index])"
   ]
  },
  {
   "cell_type": "markdown",
   "metadata": {},
   "source": [
    "Methods in Lists\n",
    "\n",
    "| Method | Definition | Example |\n",
    "|-|-|-|\n",
    "| append() | adds element to the end of the list | fruits.append(\"watermelon\") |\n",
    "| index() | returns the index of the first element with the specified value | fruits.index(\"apple\") |\n",
    "| insert() | adds element at given position | fruits.insert(1, \"watermelon\")|\n",
    "| remove() | removes the first item with the specified value | fruits.remove(\"strawberry\") |\n",
    "| reverse() | reverses the list order | fruits.reverse() |\n",
    "| sort() | sorts the list | fruits.sort() |\n",
    "| count() | returns the amount of elements with the specified value | fruits.count(\"apple\") |\n",
    "| copy() | returns a copy of the list | fruits.copy() |\n",
    "| clear() | removes the elements from the list | fruits.clear() |"
   ]
  },
  {
   "cell_type": "code",
   "execution_count": 8,
   "metadata": {},
   "outputs": [
    {
     "name": "stdout",
     "output_type": "stream",
     "text": [
      "['football', 'hockey', 'baseball', 'basketball']\n"
     ]
    }
   ],
   "source": [
    "sports = [\"football\", \"soccer\", \"baseball\", \"basketball\"]\n",
    "\n",
    "# change the value \"soccer\" to \"hockey\"\n",
    "sports.remove(\"soccer\")\n",
    "sports.insert(1, \"hockey\")\n",
    "print (sports)"
   ]
  },
  {
   "cell_type": "code",
   "execution_count": 3,
   "metadata": {},
   "outputs": [
    {
     "name": "stdout",
     "output_type": "stream",
     "text": [
      "['football', 'soccer', 'golf', 'baseball', 'basketball']\n"
     ]
    }
   ],
   "source": [
    "sports = [\"football\", \"soccer\", \"baseball\", \"basketball\"]\n",
    "\n",
    "# add \"golf\" as the 3rd element in the list\n",
    "sports.insert(2, \"golf\")\n",
    "print (sports)"
   ]
  },
  {
   "cell_type": "markdown",
   "metadata": {},
   "source": [
    "- Iteration\n",
    "    - repetition of a process or utterance applied to the result or taken from a previous statement\n",
    "    - methods include using a \"for loop\", using a \"for loop and range()\", using a \"while loop\", and using comprehension \n",
    "    - Lists, tuples, dictionaries, and sets are iterable objects. They are the 'containers' that store the data to iterate\n",
    "    - Each of these containers are able to iterate with the iter() command.\n",
    "    - 2 types\n",
    "        - Definite: clarifies how many times the loop is going to run\n",
    "        - Indefinite: specifies a condition that must be met"
   ]
  },
  {
   "cell_type": "code",
   "execution_count": null,
   "metadata": {},
   "outputs": [],
   "source": [
    "# An example of a for loop\n",
    "\n",
    "for variable in iterable: \n",
    "    statement()"
   ]
  },
  {
   "cell_type": "markdown",
   "metadata": {},
   "source": [
    "- Loops\n",
    "    - automates the iteration process"
   ]
  },
  {
   "cell_type": "code",
   "execution_count": 10,
   "metadata": {},
   "outputs": [
    {
     "name": "stdout",
     "output_type": "stream",
     "text": [
      "Uniform\n",
      "Victor\n",
      "Whiskey\n",
      "X-ray\n",
      "Yankee\n",
      "Zulu\n"
     ]
    }
   ],
   "source": [
    "# Using a for loop \n",
    "list = [\"Uniform\", \"Victor\", \"Whiskey\", \"X-ray\", \"Yankee\", \"Zulu\"]\n",
    "\n",
    "# using a for loop \n",
    "for i in list:\n",
    "    #for item in the list, print the item \n",
    "    print(i)"
   ]
  },
  {
   "cell_type": "code",
   "execution_count": 11,
   "metadata": {},
   "outputs": [
    {
     "name": "stdout",
     "output_type": "stream",
     "text": [
      "Alpha\n",
      "Bravo\n",
      "Tango\n",
      "Uniform\n",
      "Victor\n",
      "Whiskey\n",
      "X-ray\n",
      "Yankee\n",
      "Zulu\n"
     ]
    }
   ],
   "source": [
    "# Using a for loop and range()\n",
    "list = [\"Alpha\", \"Bravo\", \"Tango\", \"Uniform\", \"Victor\", \"Whiskey\", \"X-ray\", \"Yankee\", \"Zulu\"]\n",
    "\n",
    "# Taking the length of the list \n",
    "lengthList = len(list) \n",
    "\n",
    "# Iteration using the amount of items in the list\n",
    "for i in range(lengthList):\n",
    "    print(list[i])"
   ]
  },
  {
   "cell_type": "code",
   "execution_count": 12,
   "metadata": {},
   "outputs": [
    {
     "name": "stdout",
     "output_type": "stream",
     "text": [
      "Uniform\n",
      "Victor\n",
      "Whiskey\n",
      "X-ray\n",
      "Yankee\n",
      "Zulu\n"
     ]
    }
   ],
   "source": [
    "# Iteration using the while loop\n",
    "list = [\"Uniform\", \"Victor\", \"Whiskey\", \"X-ray\", \"Yankee\", \"Zulu\"]\n",
    "\n",
    "# Once again, taking the length of the list\n",
    "lengthList = len(list)\n",
    "\n",
    "# Setting the variable we are going to use as 0\n",
    "i=0 \n",
    "\n",
    "# Iteration using the while loop \n",
    "# Argument saying WHILE a certain variable is a certain condition, the code should run\n",
    "while i < lengthList:\n",
    "    print(list[i])\n",
    "    i += 1"
   ]
  },
  {
   "cell_type": "markdown",
   "metadata": {},
   "source": [
    "- 2D Iterations\n",
    "    - list of lists"
   ]
  },
  {
   "cell_type": "code",
   "execution_count": 20,
   "metadata": {},
   "outputs": [],
   "source": [
    "# Example matrix\n",
    "\n",
    "keypad = [[1, 2, 3], [4, 5, 6], [7, 8, 9], [\" \", 0, \" \"]]"
   ]
  },
  {
   "cell_type": "markdown",
   "metadata": {},
   "source": [
    "- Printing a 2D array"
   ]
  },
  {
   "cell_type": "code",
   "execution_count": 18,
   "metadata": {},
   "outputs": [],
   "source": [
    "def print_matrix1(matrix): \n",
    "    for i in range(len(matrix)):  # outer for loop. This runs on i which represents the row. range(len(matrix)) is in order to iterate through the length of the matrix\n",
    "        for j in range(len(matrix[i])):  # inner for loop. This runs on the length of the i'th row in the matrix (j changes for each row with a different length)\n",
    "            print(matrix[i][j], end=\" \")  # [i][j] is the 2D location of that value in the matrix, kinda like a coordinate pair. [i] iterates to the specific row and [j] iterates to the specific value in the row. end=\" \" changes the end value to space, not a new line.\n",
    "        print() # prints extra line. this is in the outer loop, not the inner loop, because it only wants to print a new line for each row"
   ]
  },
  {
   "cell_type": "code",
   "execution_count": 21,
   "metadata": {},
   "outputs": [
    {
     "name": "stdout",
     "output_type": "stream",
     "text": [
      "Raw matrix (list of lists): \n",
      "[[1, 2, 3], [4, 5, 6], [7, 8, 9], [' ', 0, ' ']]\n",
      "Matrix printed using nested for loop iteration:\n",
      "1 2 3 \n",
      "4 5 6 \n",
      "7 8 9 \n",
      "  0   \n",
      "\n"
     ]
    }
   ],
   "source": [
    "print(\"Raw matrix (list of lists): \")\n",
    "print(keypad)\n",
    "print(\"Matrix printed using nested for loop iteration:\")\n",
    "print_matrix1(keypad)\n",
    "print()"
   ]
  },
  {
   "cell_type": "code",
   "execution_count": 31,
   "metadata": {},
   "outputs": [
    {
     "name": "stdout",
     "output_type": "stream",
     "text": [
      "1 2 3 \n",
      "4 5 6 \n",
      "7 8 9 \n",
      "  0   \n"
     ]
    }
   ],
   "source": [
    "def print_matrix2(matrix):\n",
    "    for row in matrix:  # Iterates through each \"row\" of matrix. Row is a dummy variable, it could technically be anything. It iterates through each value of matrix and each value is it's own list. in this syntax the list is stored in \"row\".\n",
    "        for col in row:  # Iterates through each value in row. Again col, column, is a dummy variable. Each value in row is stored in col.\n",
    "            print(col, end=\" \") # Same as 1\n",
    "        print() # Same as 1\n",
    "\n",
    "print_matrix2(keypad)"
   ]
  },
  {
   "cell_type": "code",
   "execution_count": 37,
   "metadata": {},
   "outputs": [
    {
     "name": "stdout",
     "output_type": "stream",
     "text": [
      "1 2 3 \n",
      "4 5 6 \n",
      "7 8 9 \n",
      "  0   \n"
     ]
    }
   ],
   "source": [
    "#Another way to print keypad\n",
    "def print_matrix3(matrix):\n",
    "     for row in matrix:\n",
    "        print(*row, end=\" \")\n",
    "        print()\n",
    "\n",
    "print_matrix3(keypad)"
   ]
  },
  {
   "cell_type": "markdown",
   "metadata": {},
   "source": [
    "Print what month you were born and how old you are by iterating through the keyboard (don't just write a string)."
   ]
  },
  {
   "cell_type": "code",
   "execution_count": null,
   "metadata": {},
   "outputs": [],
   "source": [
    "keyboard = [[\"`\", 1, 2, 3, 4, 5, 6, 7, 8, 9, 0, \"-\", \"=\"],\n",
    "            [\"Q\", \"W\", \"E\", \"R\", \"T\", \"Y\", \"U\", \"I\", \"O\", \"P\", \"[\", \"]\"],\n",
    "            [\"A\", \"S\", \"D\", \"F\", \"G\", \"H\", \"J\", \"K\", \"L\", \";\", \"'\"],\n",
    "            [\"Z\", \"X\", \"C\", \"V\", \"B\", \"N\", \"M\", \",\", \".\", \"/\"]]"
   ]
  },
  {
   "cell_type": "code",
   "execution_count": null,
   "metadata": {},
   "outputs": [],
   "source": [
    "def question_with_response(prompt):  #defines question_with_response\n",
    "    print(\"Question: \" + prompt) #prints the question to the user\n",
    "    msg = input() #takes the user's input\n",
    "    return msg #returns the user's input as a printed answer\n",
    "\n",
    "def question_and_answer(prompt): \n",
    "    print(\"Question: \" + prompt)  \n",
    "    msg = input()  \n",
    "    print(\"Answer: \" + msg) \n",
    "\n",
    "rsp = question_with_response(\"What month were you born?\") #asks the question in terminal\n",
    "if rsp == \"import\": #verifies the answer by comparing user response to answer\n",
    "    print(rsp)\n",
    "\n",
    "rsp = question_with_response(\"How old are you?\")\n",
    "if rsp == \"if\":\n",
    "    print(rsp)\n",
    "     \n",
    "userInp = input().lower()\n",
    "    for i in userInp:\n",
    "        "
   ]
  },
  {
   "cell_type": "markdown",
   "metadata": {},
   "source": [
    "HW\n",
    "Use the list below to turn the first letter of any word (using input()) into its respective NATO phonetic alphabet word\n",
    "\n",
    "Ex:\n",
    "list ->\n",
    "lima\n",
    "india\n",
    "sierra\n",
    "tango"
   ]
  },
  {
   "cell_type": "code",
   "execution_count": 44,
   "metadata": {},
   "outputs": [
    {
     "name": "stdout",
     "output_type": "stream",
     "text": [
      "a\n"
     ]
    }
   ],
   "source": [
    "words = [\"alfa\", \"bravo\", \"charlie\", \"delta\", \"echo\", \"foxtrot\", \"golf\", \"hotel\", \"india\", \"juliett\", \"kilo\",\n",
    "\"lima\", \"mike\", \"november\", \"oscar\", \"papa\", \"quebec\", \"romeo\", \"sierra\", \"tango\", \"uniform\", \"victor\", \"whiskey\", \"xray\", \"yankee\", \"zulu\"]\n",
    "\n",
    "inp = input().lower()\n",
    "\n",
    "def phoneticWord(inp):\n",
    "    for i in words: #y is the string your checking against\n",
    "        if inp == words[i]:\n",
    "            print(\"the respective NATO phonetic alphabet word is \" + words[i])\n",
    "    #if (len(inp) > 1):\n",
    "           # print(\"You are not allowed to enter more than one character at time\")\n",
    "    #else:\n",
    "print(inp)\n"
   ]
  },
  {
   "cell_type": "markdown",
   "metadata": {},
   "source": [
    "Challenge\n",
    "- Change all of the letters that you DIDN'T print above to spaces, \" \", and then print the full keyboard. (the things you did print should remain in the same spot)\n",
    "\n",
    "- Alternative Challenge: If you would prefer, animate it using some form of delay so it flashes one of your letters at a time on the board in order and repeats. (this one may be slightly more intuitive)"
   ]
  },
  {
   "cell_type": "code",
   "execution_count": null,
   "metadata": {},
   "outputs": [],
   "source": []
  }
 ],
 "metadata": {
  "kernelspec": {
   "display_name": "Python 3.8.10 64-bit",
   "language": "python",
   "name": "python3"
  },
  "language_info": {
   "codemirror_mode": {
    "name": "ipython",
    "version": 3
   },
   "file_extension": ".py",
   "mimetype": "text/x-python",
   "name": "python",
   "nbconvert_exporter": "python",
   "pygments_lexer": "ipython3",
   "version": "3.8.10"
  },
  "orig_nbformat": 4,
  "vscode": {
   "interpreter": {
    "hash": "916dbcbb3f70747c44a77c7bcd40155683ae19c65e1c03b4aa3499c5328201f1"
   }
  }
 },
 "nbformat": 4,
 "nbformat_minor": 2
}
