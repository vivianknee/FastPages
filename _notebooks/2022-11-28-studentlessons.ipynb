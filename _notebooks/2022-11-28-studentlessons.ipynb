{
 "cells": [
  {
   "cell_type": "code",
   "execution_count": null,
   "metadata": {},
   "outputs": [],
   "source": [
    "# Student Lessons HW\n",
    "\n",
    "- badges: true\n",
    "- comments: true\n",
    "- categories: [week14]"
   ]
  },
  {
   "cell_type": "markdown",
   "metadata": {},
   "source": [
    "### Mathematical Expressions and Strings\n",
    "- algorithms\n",
    "    - set of instructions that can accomplish a specific task\n",
    "    - Arithmetic operations in programming are performed in the same order as operations in mathematics\n",
    "    - Three different types\n",
    "        - sequence: Algorithms do tasks in the order of specification\n",
    "        - selection: select two diff outcomes based on one decision\n",
    "        - iteration: if a certain condition is proved true then a second step will be repeated\n",
    "    - can be represented in two ways\n",
    "        - Pseudocode: A blend of human language and coding format. \n",
    "        - flow charts"
   ]
  },
  {
   "cell_type": "markdown",
   "metadata": {},
   "source": []
  },
  {
   "cell_type": "markdown",
   "metadata": {},
   "source": [
    "- Different way variables are stored\n",
    "    - Numerical value stored in a variable\n",
    "    - Value of another variable stored in a variable\n",
    "    - Result of an operation stored in a variable\n",
    "    - Result of a procedure call stored in a variable"
   ]
  },
  {
   "cell_type": "code",
   "execution_count": null,
   "metadata": {},
   "outputs": [],
   "source": [
    "score = 0   # 1\n",
    "score = newScore    # 2\n",
    "score = newScore + 2    # 3\n",
    "avgScore = allscores(20, 60, 80)    # 4"
   ]
  },
  {
   "cell_type": "markdown",
   "metadata": {},
   "source": [
    "- Strings\n",
    "    - A string is a collection of characters. character can be anything from numbers, letters, spaces, special symbols, etc.\n",
    "    - `len()` to find the length of a string\n",
    "    - `lower()` to convert to lowercase\n",
    "    - `len()` returns the length of a string    "
   ]
  },
  {
   "cell_type": "markdown",
   "metadata": {},
   "source": [
    "- String Concatenation\n",
    "    - String concatenation is combining 2 or more strings to make a new strings in order to create a new string\n",
    "    - `concat()` returns a string made up of the concatenated strings \n",
    "    - `concat(\"cookie\",\"monster\")` returns `cookiemonster`"
   ]
  },
  {
   "cell_type": "markdown",
   "metadata": {},
   "source": [
    "- Substrings\n",
    "    - A substring is a part of and already existing string.\n",
    "    - `substring()` returns the characters from the string begining at the first position to the last. Ex: `(\"abcdefghijk\", 2, 5)` would print bced"
   ]
  },
  {
   "cell_type": "markdown",
   "metadata": {},
   "source": [
    "Hacks"
   ]
  },
  {
   "cell_type": "code",
   "execution_count": 22,
   "metadata": {},
   "outputs": [
    {
     "name": "stdout",
     "output_type": "stream",
     "text": [
      "Very handsome Mr.Mor is.\n"
     ]
    }
   ],
   "source": [
    "#Problem 1\n",
    "Noun = \"Mr.Mortenson\" \n",
    "Adjective = \"handsome\" \n",
    "Adjective2 = \"Very\" \n",
    "Verb = \"is\" \n",
    "abrev = Noun[0:6]\n",
    "yoda = Adjective2 + \" \" + Adjective + \" \" + abrev + \" \" + Verb + \".\"\n",
    "print(yoda)"
   ]
  },
  {
   "cell_type": "code",
   "execution_count": 29,
   "metadata": {},
   "outputs": [
    {
     "name": "stdout",
     "output_type": "stream",
     "text": [
      "8 vote 225 5 vote 4.0\n"
     ]
    }
   ],
   "source": [
    "#Problem #2\n",
    "cookie = len(\"choclate\") \n",
    "cookie2 = len(\"rasin\") \n",
    "len1 = cookie / 2 \n",
    "len2 = cookie2 * 45 \n",
    "vote1 = str(cookie) + \" vote \" + str(len2)\n",
    "vote2 = str(cookie2) + \" vote \" + str(len1)\n",
    "votes = vote1 + \" \" + vote2 \n",
    "print(votes)"
   ]
  }
 ],
 "metadata": {
  "kernelspec": {
   "display_name": "Python 3.10.5 64-bit",
   "language": "python",
   "name": "python3"
  },
  "language_info": {
   "codemirror_mode": {
    "name": "ipython",
    "version": 3
   },
   "file_extension": ".py",
   "mimetype": "text/x-python",
   "name": "python",
   "nbconvert_exporter": "python",
   "pygments_lexer": "ipython3",
   "version": "3.10.5"
  },
  "orig_nbformat": 4,
  "vscode": {
   "interpreter": {
    "hash": "32ed86b3ffa559bcacbace9601ce361a752c54a5601a76201e2c8b67a3b7e6fb"
   }
  }
 },
 "nbformat": 4,
 "nbformat_minor": 2
}
