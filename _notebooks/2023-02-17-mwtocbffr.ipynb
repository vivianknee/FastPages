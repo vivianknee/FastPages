{
 "cells": [
  {
   "attachments": {},
   "cell_type": "markdown",
   "metadata": {},
   "source": [
    "# Guide to Dealing with CORS \n",
    "- badges: true\n",
    "- toc: true\n",
    "- comments: true\n"
   ]
  },
  {
   "attachments": {},
   "cell_type": "markdown",
   "metadata": {},
   "source": [
    "## What is CORS?\n",
    "- Cross-Origin Resource Sharing (CORS) is an HTTP-header based mechanism that allows a server to indicate any origins (domain, scheme, or port) other than its own from which a browser should permit loading resources.\n",
    "- Its essentially a security feature\n",
    "\n",
    "How it goes down:\n",
    "1. The browser(frontend) sends the GET request with an extra Origin HTTP header to service.example.com (deployed backend) containing the domain that served the parent page <br>\n",
    "`Origin: http://www.example.com` // frontend url\n",
    "2. The server at service.example.com sends one of these responses:\n",
    "<br>\n",
    "`Access-Control-Allow-Origin: http://www.example.com` //backend allows the frontend url to access its contents <br>\n",
    "`Access-Control-Allow-Origin: *` //backend allows any site to access its contents"
   ]
  },
  {
   "attachments": {},
   "cell_type": "markdown",
   "metadata": {},
   "source": [
    "## Issues with CORS\n",
    "- When trying to start a local server and test your frontend and backend connection, cors is often something that gets in the way.\n",
    "- Unfortunately this error can prevent any sort of backend connection without proper code. Usually this error will appear when a header for cors is not specified or your backend url is not permitted by cors\n",
    "\n",
    "![error](https://github.com/vivianknee/FastPages/blob/master/images/error.jpg?raw=true)\n",
    "\n",
    "I'm sure you've seen it... \n",
    "So here's a method to bypass CORS locally. Eventually, when both your frontend and backend are deployed, it's good practice to have CORS implemented since your site could have some security risk if you simply bypass it. \n",
    "In this blog I've provided two methods to get around cors.\n",
    "1. Local method with google extension\n",
    "2. Access-Control-Allow-Origin"
   ]
  },
  {
   "attachments": {},
   "cell_type": "markdown",
   "metadata": {},
   "source": [
    "## Solutions"
   ]
  },
  {
   "attachments": {},
   "cell_type": "markdown",
   "metadata": {},
   "source": [
    "### Bypassing Cors Locally with an Extensions\n",
    "- Its very handy to be able to bypass cors locally because it makes testing and debugging a lot faster.\n",
    "#### Setup local backend\n",
    "> How to bypass CORS with a local backend and frontend running\n",
    "\n",
    "1. Have your backend and frontend servers running locally. \n",
    "2. Get the url of your backend server. In this case: Python Flask\n",
    "\n",
    "![url](https://github.com/vivianknee/FastPages/blob/master/images/url.png?raw=true)\n",
    "\n"
   ]
  },
  {
   "attachments": {},
   "cell_type": "markdown",
   "metadata": {},
   "source": [
    "#### Setup frontend fetch\n",
    "- Use the url from the step above to write a 'fetch' statement (doesn't have to be like whats written below) to reference the local url and your api\n",
    "- note: this extension works both for when the frontend is deployed and when it is running locally"
   ]
  },
  {
   "cell_type": "code",
   "execution_count": null,
   "metadata": {
    "vscode": {
     "languageId": "javascript"
    }
   },
   "outputs": [],
   "source": [
    "fetch('http://127.0.0.1:8080/api/yourapi/').then(function(response) { \n",
    "    return response.json();\n",
    "  });"
   ]
  },
  {
   "attachments": {},
   "cell_type": "markdown",
   "metadata": {},
   "source": [
    "#### Download Extension\n",
    "- Good for quick testing purposes\n",
    "- Download this Google chrome extension: <a href=\"https://chrome.google.com/webstore/detail/allow-cors-access-control/lhobafahddgcelffkeicbaginigeejlf?hl=en\">Allow CORS: Access-Control-Allow-origin</a>\n",
    "- Toggle the extension so that its ON\n",
    "![url](https://github.com/vivianknee/FastPages/blob/master/images/cors.jpg?raw=true)\n",
    "\n",
    "\n",
    "Now try interacting with your frontend site, and the fetch will work"
   ]
  },
  {
   "attachments": {},
   "cell_type": "markdown",
   "metadata": {},
   "source": [
    "### Access-Control-Allow-Origin response header\n",
    "- Another method we have done in the past is adding a 'Access-Control-Allow-Origin' header on the requested resource\n",
    "- The Access-Control-Allow-Origin header is included in the response(response comes from backend) from site B to a request(fetch from frontend) site A, and identifies the permitted origin of the request. A web browser compares the Access-Control-Allow-Origin with the requesting website's origin and permits access to the response if they match.\n",
    "![sites](https://github.com/vivianknee/FastPages/blob/master/images/sites.jpg?raw=true)\n",
    "A better model:\n",
    "![system](https://github.com/vivianknee/FastPages/blob/master/images/system.jpg?raw=true)"
   ]
  },
  {
   "attachments": {},
   "cell_type": "markdown",
   "metadata": {},
   "source": [
    "This is a code segment that maintains cors security and only allows the frontend site to fetch from a specific url, which in our case would be the backend deployed server."
   ]
  },
  {
   "cell_type": "code",
   "execution_count": null,
   "metadata": {
    "vscode": {
     "languageId": "javascript"
    }
   },
   "outputs": [],
   "source": [
    "fetch('http://example.com/api/data', {\n",
    "  method: 'GET',\n",
    "  headers: {\n",
    "    'Content-Type': 'application/json',\n",
    "    'Access-Control-Allow-Origin': '*'\n",
    "  }\n",
    "})\n",
    ".then(response => response.json())\n",
    ".then(data => console.log(data))\n",
    ".catch(error => console.error(error));"
   ]
  },
  {
   "attachments": {},
   "cell_type": "markdown",
   "metadata": {},
   "source": [
    "- the '*' means that the backend url can be accessed with any request from any site through cors. If you only wanted the backend site to be accessed by the frontend, you would replace the asterisk with your site url."
   ]
  },
  {
   "attachments": {},
   "cell_type": "markdown",
   "metadata": {},
   "source": [
    "Here's another way. We used this method in trimester 1."
   ]
  },
  {
   "cell_type": "code",
   "execution_count": null,
   "metadata": {
    "vscode": {
     "languageId": "javascript"
    }
   },
   "outputs": [],
   "source": [
    "const url = \"backendurl.com\";\n",
    "\n",
    "  // prepare fetch GET options\n",
    "  const options = {\n",
    "    method: 'GET', // *GET, POST, PUT, DELETE, etc.\n",
    "    mode: 'cors', // no-cors, *cors, same-origin\n",
    "    cache: 'default', // *default, no-cache, reload, force-cache, only-if-cached\n",
    "    credentials: 'omit', // include, *same-origin, omit\n",
    "    headers: {\n",
    "      'Content-Type': 'application/json'\n",
    "      // 'Content-Type': 'application/x-www-form-urlencoded',\n",
    "    },\n",
    "  };\n",
    "  // prepare fetch PUT options, clones with JS Spread Operator (...)\n",
    "  const put_options = {...options, method: 'PUT'};"
   ]
  },
  {
   "attachments": {},
   "cell_type": "markdown",
   "metadata": {},
   "source": [
    "## CORS but for deployed backend\n",
    "- The Access Control Allow Origin header is actually automatically implemented when you setup your backend server on AWS. When you set up the nginx configuration files, you'll notice:\n",
    "![aws](https://github.com/vivianknee/FastPages/blob/master/images/aws.jpg?raw=true)\n",
    "As you can see the same exact line **'Access-Control-Allow-Origin': '*'** is present in the nginx files in sites-available and sites-enabled\n",
    "- because of this, your frontend server doesn't need any code to bypass cors because its already implemented on the server side. The extension mentioned previously is also no longer needed"
   ]
  }
 ],
 "metadata": {
  "kernelspec": {
   "display_name": "Python 3",
   "language": "python",
   "name": "python3"
  },
  "language_info": {
   "name": "python",
   "version": "3.10.5"
  },
  "orig_nbformat": 4,
  "vscode": {
   "interpreter": {
    "hash": "32ed86b3ffa559bcacbace9601ce361a752c54a5601a76201e2c8b67a3b7e6fb"
   }
  }
 },
 "nbformat": 4,
 "nbformat_minor": 2
}
