{
 "cells": [
  {
   "attachments": {},
   "cell_type": "markdown",
   "metadata": {},
   "source": [
    "# Guide to Dealing with CORS \n",
    "- badges: true\n",
    "- toc: true\n",
    "- comments: true\n"
   ]
  },
  {
   "attachments": {},
   "cell_type": "markdown",
   "metadata": {},
   "source": [
    "## Setup local backend\n",
    "> How to bypass CORS with a local backend and frontend running\n",
    "\n",
    "1. Have your backend and frontend servers running locally. \n",
    "2. Get the url of your backend server. In this case: Python Flask\n",
    "\n",
    "![url](https://github.com/vivianknee/FastPages/blob/master/images/url.png?raw=true)\n",
    "\n"
   ]
  },
  {
   "attachments": {},
   "cell_type": "markdown",
   "metadata": {},
   "source": [
    "## Setup frontend fetch\n",
    "- Use the url from the step above to write a 'fetch' statement to reference the local url and your api"
   ]
  },
  {
   "cell_type": "code",
   "execution_count": null,
   "metadata": {
    "vscode": {
     "languageId": "javascript"
    }
   },
   "outputs": [],
   "source": [
    "fetch('http://127.0.0.1:8080/api/yourapi/').then(function(response) { \n",
    "    return response.json();\n",
    "  });"
   ]
  },
  {
   "attachments": {},
   "cell_type": "markdown",
   "metadata": {},
   "source": [
    "## Bypassing CORS locally \n",
    "- Good for quick testing purposes\n",
    "- Download this Google chrome extension: <a href=\"https://chrome.google.com/webstore/detail/allow-cors-access-control/lhobafahddgcelffkeicbaginigeejlf?hl=en\">Allow CORS extension</a>\n",
    "- Toggle the extension so that its ON\n",
    "![url](https://github.com/vivianknee/FastPages/blob/master/images/cors.jpg?raw=true)\n",
    "\n"
   ]
  },
  {
   "cell_type": "markdown",
   "metadata": {},
   "source": []
  },
  {
   "cell_type": "markdown",
   "metadata": {},
   "source": []
  },
  {
   "cell_type": "markdown",
   "metadata": {},
   "source": []
  },
  {
   "cell_type": "code",
   "execution_count": null,
   "metadata": {},
   "outputs": [],
   "source": []
  }
 ],
 "metadata": {
  "kernelspec": {
   "display_name": "Python 3",
   "language": "python",
   "name": "python3"
  },
  "language_info": {
   "name": "python",
   "version": "3.10.5"
  },
  "orig_nbformat": 4,
  "vscode": {
   "interpreter": {
    "hash": "32ed86b3ffa559bcacbace9601ce361a752c54a5601a76201e2c8b67a3b7e6fb"
   }
  }
 },
 "nbformat": 4,
 "nbformat_minor": 2
}
