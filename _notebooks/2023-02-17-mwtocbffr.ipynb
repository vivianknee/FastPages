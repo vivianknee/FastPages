{
 "cells": [
  {
   "attachments": {},
   "cell_type": "markdown",
   "metadata": {},
   "source": [
    "# Guide to Dealing with CORS \n",
    "- badges: true\n",
    "- toc: true\n",
    "- comments: true\n"
   ]
  },
  {
   "attachments": {},
   "cell_type": "markdown",
   "metadata": {},
   "source": [
    "## What is CORS?\n",
    "- Cross-Origin Resource Sharing (CORS) is an HTTP-header based mechanism that allows a server to indicate any origins (domain, scheme, or port) other than its own from which a browser should permit loading resources.\n",
    "- Its essentially a security feature\n",
    "- But unfortunately CORS is very annoying and this error can prevent any sort of backend connection\n",
    "\n",
    "![error](https://github.com/vivianknee/FastPages/blob/master/images/error.jpg?raw=true)\n",
    "\n",
    "I'm sure you've seen it... \n",
    "So heres a method to bypass CORS locally. Eventually, when both your frontend and backend are deployed, it's good practice to have CORS implemented since your site could have some security risk if you simply bypass it. However, for local testing, this is a great tool to speed up testing, debugging, etc."
   ]
  },
  {
   "attachments": {},
   "cell_type": "markdown",
   "metadata": {},
   "source": [
    "## Setup local backend\n",
    "> How to bypass CORS with a local backend and frontend running\n",
    "\n",
    "1. Have your backend and frontend servers running locally. \n",
    "2. Get the url of your backend server. In this case: Python Flask\n",
    "\n",
    "![url](https://github.com/vivianknee/FastPages/blob/master/images/url.png?raw=true)\n",
    "\n"
   ]
  },
  {
   "attachments": {},
   "cell_type": "markdown",
   "metadata": {},
   "source": [
    "## Setup frontend fetch\n",
    "- Use the url from the step above to write a 'fetch' statement (doesn't have to be like whats written below) to reference the local url and your api"
   ]
  },
  {
   "cell_type": "code",
   "execution_count": null,
   "metadata": {
    "vscode": {
     "languageId": "javascript"
    }
   },
   "outputs": [],
   "source": [
    "fetch('http://127.0.0.1:8080/api/yourapi/').then(function(response) { \n",
    "    return response.json();\n",
    "  });"
   ]
  },
  {
   "attachments": {},
   "cell_type": "markdown",
   "metadata": {},
   "source": [
    "## Bypassing CORS locally \n",
    "- Good for quick testing purposes\n",
    "- Download this Google chrome extension: <a href=\"https://chrome.google.com/webstore/detail/allow-cors-access-control/lhobafahddgcelffkeicbaginigeejlf?hl=en\">Allow CORS: Access-Control-Allow-origin</a>\n",
    "- Toggle the extension so that its ON\n",
    "![url](https://github.com/vivianknee/FastPages/blob/master/images/cors.jpg?raw=true)\n",
    "\n",
    "\n",
    "Now try interacting with your frontend site, and the fetch will work\n",
    "\n"
   ]
  },
  {
   "attachments": {},
   "cell_type": "markdown",
   "metadata": {},
   "source": [
    "What is the Access-Control-Allow-Origin response header?\n",
    "- Another method we have done in the past is adding a 'Access-Control-Allow-Origin' header on the requested resource\n",
    "- The Access-Control-Allow-Origin header is included in the response(response comes from backend) from site B to a request(fetch from frontend) site A, and identifies the permitted origin of the request. A web browser compares the Access-Control-Allow-Origin with the requesting website's origin and permits access to the response if they match.\n",
    "![sites](https://github.com/vivianknee/FastPages/blob/master/images/sites.jpg?raw=true)\n",
    "A better model:\n",
    "![system](https://github.com/vivianknee/FastPages/blob/master/images/system.jpg?raw=true)"
   ]
  },
  {
   "cell_type": "code",
   "execution_count": null,
   "metadata": {
    "vscode": {
     "languageId": "javascript"
    }
   },
   "outputs": [],
   "source": [
    "const url = \"backendurl.com\";\n",
    "\n",
    "  // prepare fetch GET options\n",
    "  const options = {\n",
    "    method: 'GET', // *GET, POST, PUT, DELETE, etc.\n",
    "    mode: 'cors', // no-cors, *cors, same-origin\n",
    "    cache: 'default', // *default, no-cache, reload, force-cache, only-if-cached\n",
    "    credentials: 'omit', // include, *same-origin, omit\n",
    "    headers: {\n",
    "      'Content-Type': 'application/json'\n",
    "      // 'Content-Type': 'application/x-www-form-urlencoded',\n",
    "    },\n",
    "  };\n",
    "  // prepare fetch PUT options, clones with JS Spread Operator (...)\n",
    "  const put_options = {...options, method: 'PUT'};"
   ]
  },
  {
   "attachments": {},
   "cell_type": "markdown",
   "metadata": {},
   "source": [
    "## CORS but deployed backend\n"
   ]
  },
  {
   "cell_type": "markdown",
   "metadata": {},
   "source": []
  },
  {
   "cell_type": "markdown",
   "metadata": {},
   "source": []
  },
  {
   "cell_type": "code",
   "execution_count": null,
   "metadata": {},
   "outputs": [],
   "source": []
  }
 ],
 "metadata": {
  "kernelspec": {
   "display_name": "Python 3",
   "language": "python",
   "name": "python3"
  },
  "language_info": {
   "name": "python",
   "version": "3.10.5"
  },
  "orig_nbformat": 4,
  "vscode": {
   "interpreter": {
    "hash": "32ed86b3ffa559bcacbace9601ce361a752c54a5601a76201e2c8b67a3b7e6fb"
   }
  }
 },
 "nbformat": 4,
 "nbformat_minor": 2
}
